{
 "cells": [
  {
   "cell_type": "markdown",
   "id": "7312d7a2-80d9-4656-9046-5f5069a178f9",
   "metadata": {
    "tags": []
   },
   "source": [
    "# Learn Python: A Problem Centric Guide\n",
    "\n",
    "## Table of Contents\n",
    "   "
   ]
  },
  {
   "cell_type": "markdown",
   "id": "f586cb99-f187-4f24-872b-3d12425e54a6",
   "metadata": {
    "tags": []
   },
   "source": [
    "### Get Started"
   ]
  },
  {
   "cell_type": "markdown",
   "id": "e83f5673-47fa-44e1-8613-03e3646a6558",
   "metadata": {
    "tags": []
   },
   "source": [
    "* Set Up & Warm Up\n",
    "    * Install Python & Juypyter-lab\n",
    "    * Introduction on Juypyter-lab\n",
    "* Operators\n",
    "    * Maths\n",
    "* Display & Input\n",
    "* Modules/Names Imports\n",
    "* Variables Assignment\n",
    "    * Identifiers"
   ]
  },
  {
   "cell_type": "markdown",
   "id": "b08d0af6-2a58-4571-82db-cd760fd47590",
   "metadata": {
    "tags": []
   },
   "source": [
    "### Data Types"
   ]
  },
  {
   "cell_type": "markdown",
   "id": "70ef378d-6665-496b-bd8a-c0c54dfc396e",
   "metadata": {
    "tags": []
   },
   "source": [
    "* Base Types\n",
    "* Container Types\n",
    "    * [Dictionary](chapters/data_structure/dictionary.ipynb)\n",
    "* Indexing    \n",
    "    * Sequence Containers Indexing\n",
    "    * Dictionary Indexing\n",
    "* Operations:\n",
    "    * Conversions \n",
    "    * Operations on Strings\n",
    "        * Formatting\n",
    "    * Operations on Containers\n",
    "        * Generic Operations on Containers\n",
    "        * Operations on Lists\n",
    "        * [Operations on Dictionaries](chapters/data_structure/dictionary.ipynb)\n",
    "        * Operations on Sets  "
   ]
  },
  {
   "cell_type": "markdown",
   "id": "a9dea0a2-f605-403f-ae72-fe5cf1058ce6",
   "metadata": {
    "tags": []
   },
   "source": [
    "### Iteration"
   ]
  },
  {
   "cell_type": "markdown",
   "id": "57d24c55-c8d2-4074-a663-c5935ee94955",
   "metadata": {
    "tags": []
   },
   "source": [
    "* Statements Blocks\n",
    "* Iterative Loop Statement\n",
    "    * Integer Sequences\n",
    "* Conditional Loop Statement    "
   ]
  },
  {
   "cell_type": "markdown",
   "id": "e06eac11-ee09-4869-8799-5e4045087c7e",
   "metadata": {
    "tags": []
   },
   "source": [
    "### Control Flow"
   ]
  },
  {
   "cell_type": "markdown",
   "id": "acb37d41-10da-4383-a3ab-406cce55c46f",
   "metadata": {
    "tags": []
   },
   "source": [
    "* Boolean Logic\n",
    "* Conditional Statement "
   ]
  },
  {
   "cell_type": "markdown",
   "id": "09436c9e-372b-4d03-9bdd-02b7d16a787e",
   "metadata": {
    "tags": []
   },
   "source": [
    "### File Handling"
   ]
  },
  {
   "cell_type": "markdown",
   "id": "cb16b0eb-2eac-4bca-81d3-42229c192832",
   "metadata": {
    "tags": []
   },
   "source": [
    "* Files"
   ]
  },
  {
   "cell_type": "markdown",
   "id": "869a9c55-b168-40d1-9d61-e64899d288e0",
   "metadata": {
    "tags": []
   },
   "source": [
    "### Exceptions on Errors"
   ]
  },
  {
   "cell_type": "markdown",
   "id": "b6e456b9-5fbe-4915-9874-4fc9e11cbcdb",
   "metadata": {
    "tags": []
   },
   "source": [
    "### Functions"
   ]
  },
  {
   "cell_type": "markdown",
   "id": "a334d8a6-050c-49fc-8c49-c40ec1073417",
   "metadata": {
    "tags": []
   },
   "source": [
    "* Function Definition\n",
    "* Function Call"
   ]
  },
  {
   "cell_type": "markdown",
   "id": "d42c7f67-d451-4003-9678-9a85df99d161",
   "metadata": {
    "tags": []
   },
   "source": [
    "### OOP"
   ]
  }
 ],
 "metadata": {
  "kernelspec": {
   "display_name": "Python 3",
   "language": "python",
   "name": "python3"
  },
  "language_info": {
   "codemirror_mode": {
    "name": "ipython",
    "version": 3
   },
   "file_extension": ".py",
   "mimetype": "text/x-python",
   "name": "python",
   "nbconvert_exporter": "python",
   "pygments_lexer": "ipython3",
   "version": "3.10.1"
  }
 },
 "nbformat": 4,
 "nbformat_minor": 5
}
