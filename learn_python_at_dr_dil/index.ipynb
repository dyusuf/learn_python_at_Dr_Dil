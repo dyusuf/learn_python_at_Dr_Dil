{
 "cells": [
  {
   "cell_type": "markdown",
   "id": "7312d7a2-80d9-4656-9046-5f5069a178f9",
   "metadata": {
    "tags": []
   },
   "source": [
    "# Learn Python: A Problem Centric Guide\n",
    "\n",
    "## Table of Contents\n",
    "   "
   ]
  },
  {
   "cell_type": "markdown",
   "id": "f586cb99-f187-4f24-872b-3d12425e54a6",
   "metadata": {
    "tags": []
   },
   "source": [
    "### Get Started"
   ]
  },
  {
   "cell_type": "markdown",
   "id": "e83f5673-47fa-44e1-8613-03e3646a6558",
   "metadata": {
    "tags": []
   },
   "source": [
    "* Central theme\n",
    "    * **how to dissect your problem?**\n",
    "    * **how to find the solutions?**\n",
    "        * **how to store your data?**\n",
    "        * **how to process your data?**\n",
    "* Set Up & Warm Up\n",
    "    * Install Python & Juypyter-lab\n",
    "    * Introduction on Juypyter-lab\n",
    "* Math\n",
    "    * Operators\n",
    "    * Modules/Names Imports     \n",
    "* Display & Input\n",
    "* Variables Assignment\n",
    "    * Identifiers\n",
    "   "
   ]
  },
  {
   "cell_type": "markdown",
   "id": "b08d0af6-2a58-4571-82db-cd760fd47590",
   "metadata": {
    "tags": []
   },
   "source": [
    "### Data Types"
   ]
  },
  {
   "cell_type": "markdown",
   "id": "70ef378d-6665-496b-bd8a-c0c54dfc396e",
   "metadata": {
    "tags": []
   },
   "source": [
    "* Base Types\n",
    "* Container Types\n",
    "    * list\n",
    "        * Integer Sequences\n",
    "    * [Dictionary](chapters/data_structure/dictionary.ipynb)\n",
    "* Indexing    \n",
    "    * Sequence Containers Indexing\n",
    "    * Dictionary Indexing\n",
    "* Operations:\n",
    "    * Conversions \n",
    "    * Operations on Strings\n",
    "        * Formatting (a seperate section)\n",
    "    * Operations on Containers\n",
    "        * Generic Operations on Containers\n",
    "            * [len & enumerate](chapters/data_structure/generic_operations/len.ipynb)\n",
    "            * sum, sorted\n",
    "            * zip\n",
    "            * in, all, any\n",
    "            * ordered sequence: reversed, c*5, c+c2, c.index, c.count\n",
    "            * copy\n",
    "        * Operations on Lists\n",
    "        * [Operations on Dictionaries](chapters/data_structure/dictionary.ipynb)\n",
    "        * Operations on Sets \n",
    "        * [sort an iterable](chapters/data_structure/generic_operations/min_max.ipynb)  "
   ]
  },
  {
   "cell_type": "markdown",
   "id": "672782ff-6331-409a-9bb7-14deca64eca7",
   "metadata": {},
   "source": [
    "### Control flow"
   ]
  },
  {
   "cell_type": "markdown",
   "id": "cd19effd-a88a-4f3f-814b-ece57fa2fc9c",
   "metadata": {},
   "source": [
    "* Statements Blocks\n",
    "* boolean logic\n",
    "* conditional statement\n",
    "* [Inline If](chapters/control_flow/inline_if.ipynb)"
   ]
  },
  {
   "cell_type": "markdown",
   "id": "fdc048aa-f43a-4db6-a728-3aba547d90a1",
   "metadata": {},
   "source": [
    "### Iterations"
   ]
  },
  {
   "cell_type": "markdown",
   "id": "3d90f419-b9ef-4af2-98c2-0eb674a66175",
   "metadata": {},
   "source": [
    "* the concept of iteratable\n",
    "* Conditional Loop Statement \n",
    "* Iterative Loop Statement\n",
    "   * for loop\n",
    "   * [comprehensions](chapters/iterations/comprehensions.ipynb)"
   ]
  },
  {
   "cell_type": "markdown",
   "id": "1bf36538-f20f-42d2-8002-5dfc729a7814",
   "metadata": {
    "tags": []
   },
   "source": [
    "### Functions"
   ]
  },
  {
   "cell_type": "markdown",
   "id": "6e2a35a9-9ead-47e0-81f7-23b47f7aa1db",
   "metadata": {
    "tags": []
   },
   "source": [
    "* [Variable length arguments](chapters/functions/var_args.ipynb)\n",
    "* [Lambda function](chapters/functions/lambda.ipynb)\n",
    "* [Decorators](chapters/functions/decorators.ipynb)"
   ]
  },
  {
   "cell_type": "markdown",
   "id": "09436c9e-372b-4d03-9bdd-02b7d16a787e",
   "metadata": {
    "tags": []
   },
   "source": [
    "### File Handling"
   ]
  },
  {
   "cell_type": "markdown",
   "id": "cb16b0eb-2eac-4bca-81d3-42229c192832",
   "metadata": {
    "tags": []
   },
   "source": [
    "* Files"
   ]
  },
  {
   "cell_type": "markdown",
   "id": "869a9c55-b168-40d1-9d61-e64899d288e0",
   "metadata": {
    "tags": []
   },
   "source": [
    "### Exceptions on Errors"
   ]
  },
  {
   "cell_type": "markdown",
   "id": "d42c7f67-d451-4003-9678-9a85df99d161",
   "metadata": {
    "tags": []
   },
   "source": [
    "### OOP"
   ]
  }
 ],
 "metadata": {
  "kernelspec": {
   "display_name": "Python 3",
   "language": "python",
   "name": "python3"
  },
  "language_info": {
   "codemirror_mode": {
    "name": "ipython",
    "version": 3
   },
   "file_extension": ".py",
   "mimetype": "text/x-python",
   "name": "python",
   "nbconvert_exporter": "python",
   "pygments_lexer": "ipython3",
   "version": "3.6.9"
  }
 },
 "nbformat": 4,
 "nbformat_minor": 5
}
