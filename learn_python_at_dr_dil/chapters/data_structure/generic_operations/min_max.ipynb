{
 "cells": [
  {
   "cell_type": "markdown",
   "id": "8c2e3bc7-94b4-41d5-ab94-2295aadcfded",
   "metadata": {},
   "source": [
    "# min() & max()\n",
    "\n",
    "* `min()` finds a smallest item of iterable object\n",
    "* `max()` finds a largest item of iterable object\n",
    "\n",
    "The iterable objects:\n",
    "\n",
    "* list: `[10, 20, 30, 40, 50, 60, 70, 80, 90, 100]`\n",
    "* tuple: `(10, 20, 30, 40, 50, 60, 70, 80, 90, 100)`\n",
    "* set: `{10, 20, 30, 40, 50, 60, 70, 80, 90, 100}`\n",
    "* dictionary: `{'paqa': 4, 'béliq': 5, 'eynek': 5, 'at': 2, 'xoraz': 5, 'wélisipit': 9}`"
   ]
  },
  {
   "cell_type": "markdown",
   "id": "0059c549-0c2a-4bff-855e-7aafd0f1e880",
   "metadata": {},
   "source": [
    "**Question: how to find the smallest or largest number in a list?**"
   ]
  },
  {
   "cell_type": "code",
   "execution_count": 103,
   "id": "e91f74e3-4f05-4c0c-be67-929052eb367c",
   "metadata": {},
   "outputs": [
    {
     "name": "stdout",
     "output_type": "stream",
     "text": [
      "smallest: 10\n",
      "largest: 100\n"
     ]
    }
   ],
   "source": [
    "# build a list\n",
    "numbers = [10, 20, 30, 40, 50, 60, 70, 80, 90, 100]\n",
    "\n",
    "# get the smallest number\n",
    "smallest = min(numbers)\n",
    "\n",
    "# get the largest number\n",
    "largest = max(numbers)\n",
    "\n",
    "print(f\"smallest: {smallest}\")\n",
    "print(f\"largest: {largest}\")"
   ]
  },
  {
   "cell_type": "markdown",
   "id": "aa50141f-0e04-4469-b6b0-c0b1e7742166",
   "metadata": {},
   "source": [
    "**Question: how to find a shortest or longest word in a list of words?**\n",
    "\n",
    "You can custom comparison criteria by calling a `key` function to find minimum or maximum value. The `key` function is executed on each item of an iterable and comparison is performed based on its return value.\n",
    "\n",
    "With a list of words (strings), you can call `key = len` (the [len()](len.ipynb) function) to execute `len()` on each word and find a shortest or longest word by its length."
   ]
  },
  {
   "cell_type": "code",
   "execution_count": 104,
   "id": "9c172149-3b3b-47a9-8f3c-25db35bd0284",
   "metadata": {},
   "outputs": [
    {
     "name": "stdout",
     "output_type": "stream",
     "text": [
      "shortest: \"at\"\n",
      "longest: \"wélisipit\"\n"
     ]
    }
   ],
   "source": [
    "# build a list\n",
    "tertip = ['paqa', 'béliq', 'eynek', 'at', 'xoraz', 'wélisipit']\n",
    "\n",
    "# find the shortest word by its length\n",
    "shortest = min(tertip, key = len)\n",
    "\n",
    "# find the longest word by its length\n",
    "longest = max(tertip, key = len)\n",
    "\n",
    "print(f'shortest: \"{shortest}\"')\n",
    "print(f'longest: \"{longest}\"')"
   ]
  },
  {
   "cell_type": "markdown",
   "id": "c1256f37-d635-4fc3-9b04-e491384ac90c",
   "metadata": {},
   "source": [
    "**Question: how to find a word paried with smallest or largest value in a dictionary?**\n",
    "\n",
    "\n",
    "You can also custom comparison criteria by making your own function and provide it to `key`."
   ]
  },
  {
   "cell_type": "code",
   "execution_count": 105,
   "id": "a72b7923-edcf-462a-840a-3ddd3898b90d",
   "metadata": {},
   "outputs": [
    {
     "name": "stdout",
     "output_type": "stream",
     "text": [
      "paired with smallest value: ('at', 2)\n",
      "paired with largest value: ('wélisipit', 9)\n"
     ]
    }
   ],
   "source": [
    "# build a function to get 2nd value of an ordered sequence\n",
    "def get_2nd(item):\n",
    "    return item[1]\n",
    "\n",
    "# build a dictionary\n",
    "elipe = {'paqa': 4, 'béliq': 5, 'eynek': 5, 'at': 2, 'xoraz': 5, 'wélisipit': 9}\n",
    "\n",
    "# find the word paired with smallest value\n",
    "smallest = min(elipe.items(), key = get_2nd)\n",
    "\n",
    "# find the word paired with largest value\n",
    "largest = max(elipe.items(), key = get_2nd)\n",
    "\n",
    "print(f'paired with smallest value: {smallest}')\n",
    "print(f'paired with largest value: {largest}')"
   ]
  }
 ],
 "metadata": {
  "kernelspec": {
   "display_name": "Python 3",
   "language": "python",
   "name": "python3"
  },
  "language_info": {
   "codemirror_mode": {
    "name": "ipython",
    "version": 3
   },
   "file_extension": ".py",
   "mimetype": "text/x-python",
   "name": "python",
   "nbconvert_exporter": "python",
   "pygments_lexer": "ipython3",
   "version": "3.10.1"
  }
 },
 "nbformat": 4,
 "nbformat_minor": 5
}
