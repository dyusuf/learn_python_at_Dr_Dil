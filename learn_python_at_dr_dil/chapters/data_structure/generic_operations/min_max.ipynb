{
 "cells": [
  {
   "cell_type": "markdown",
   "id": "e932c1ef-c950-4830-be97-18a84c0b63d1",
   "metadata": {},
   "source": [
    "# How to sort an iterable?\n",
    "\n",
    "* a string: `'bDymMYcaAgC'`\n",
    "* a list of words: `['xoraz', 'paqa', 'wélisipit', 'béliq']`\n",
    "* a list of numbers: `[14, 15, 1, 8, 16, 11, 5, 22]`\n",
    "* a dictionary: `{'paqa': 4, 'béliq': 25, 'xoraz': 5, 'Wélisipit': 19}`"
   ]
  },
  {
   "cell_type": "markdown",
   "id": "bfbde7b3-dfdf-46e5-a645-1cecef22031a",
   "metadata": {},
   "source": [
    "## Sort a string"
   ]
  },
  {
   "cell_type": "code",
   "execution_count": 276,
   "id": "a7f352bd-d8dc-45bf-9f33-5e27d4cde8a8",
   "metadata": {},
   "outputs": [
    {
     "name": "stdout",
     "output_type": "stream",
     "text": [
      "['A', 'C', 'D', 'M', 'Y', 'a', 'b', 'c', 'g', 'm', 'y']\n",
      "ACDMYabcgmy\n"
     ]
    }
   ],
   "source": [
    "# build a string\n",
    "a_str = 'bDymMYcaAgC'\n",
    "\n",
    "# sort the string by alphabetical order\n",
    "a_str_sort = sorted(a_str)\n",
    "print(a_str_sort)\n",
    "print(''.join(a_str_sort))"
   ]
  },
  {
   "cell_type": "code",
   "execution_count": 277,
   "id": "c676a277-c3f1-4980-bc00-5cd309f6409c",
   "metadata": {},
   "outputs": [
    {
     "name": "stdout",
     "output_type": "stream",
     "text": [
      "['a', 'A', 'b', 'c', 'C', 'D', 'g', 'm', 'M', 'y', 'Y']\n",
      "aAbcCDgmMyY\n"
     ]
    }
   ],
   "source": [
    "# build a string\n",
    "a_str = 'bDymMYcaAgC'\n",
    "\n",
    "# sort the string while ignoring cases\n",
    "a_str_sort = sorted(a_str, key=str.lower)\n",
    "print(a_str_sort)\n",
    "print(''.join(a_str_sort))"
   ]
  },
  {
   "cell_type": "code",
   "execution_count": 278,
   "id": "e41be6fc-1f9d-4eae-b000-b2111077a237",
   "metadata": {
    "tags": []
   },
   "outputs": [
    {
     "name": "stdout",
     "output_type": "stream",
     "text": [
      "['y', 'Y', 'm', 'M', 'g', 'D', 'c', 'C', 'b', 'a', 'A']\n",
      "yYmMgDcCbaA\n"
     ]
    }
   ],
   "source": [
    "# build a string\n",
    "a_str = 'bDymMYcaAgC'\n",
    "\n",
    "# sort the string in reverse order\n",
    "a_str_sort_rev = sorted(a_str, key=str.lower, reverse=True)\n",
    "print(a_str_sort_rev)\n",
    "print(''.join(a_str_sort_rev))"
   ]
  },
  {
   "cell_type": "markdown",
   "id": "ee17396b-3be0-4591-968a-6bbb2cc8de6e",
   "metadata": {},
   "source": [
    "## Sort a list of words"
   ]
  },
  {
   "cell_type": "code",
   "execution_count": 279,
   "id": "80dac739-5f36-4f54-bf6e-38dd148960cb",
   "metadata": {},
   "outputs": [
    {
     "name": "stdout",
     "output_type": "stream",
     "text": [
      "['Wélisipit', 'béliq', 'paqa', 'xoraz']\n"
     ]
    }
   ],
   "source": [
    "# build a list of words\n",
    "jumlar = ['xoraz', 'paqa', 'Wélisipit', 'béliq']\n",
    "\n",
    "# sort the list by alphabetical order\n",
    "jumlar_sorted = sorted(jumlar)\n",
    "print(jumlar_sorted)"
   ]
  },
  {
   "cell_type": "code",
   "execution_count": 280,
   "id": "ffe28178-510f-4c94-88b6-fc1d2c15fc38",
   "metadata": {},
   "outputs": [
    {
     "name": "stdout",
     "output_type": "stream",
     "text": [
      "['béliq', 'paqa', 'Wélisipit', 'xoraz']\n"
     ]
    }
   ],
   "source": [
    "# build a list of words\n",
    "jumlar = ['xoraz', 'paqa', 'Wélisipit', 'béliq']\n",
    "\n",
    "# sort the list by alphabetical order while ignoring cases \n",
    "jumlar_sorted = sorted(jumlar, key=str.lower)\n",
    "print(jumlar_sorted)"
   ]
  },
  {
   "cell_type": "code",
   "execution_count": 281,
   "id": "cad0b4ad-85dc-4639-953f-0501b7c263c3",
   "metadata": {
    "tags": []
   },
   "outputs": [
    {
     "name": "stdout",
     "output_type": "stream",
     "text": [
      "['paqa', 'xoraz', 'béliq', 'Wélisipit']\n"
     ]
    }
   ],
   "source": [
    "# build a list of words\n",
    "jumlar = ['xoraz', 'paqa', 'Wélisipit', 'béliq']\n",
    "\n",
    "# sort the list by length of words\n",
    "jumlar_sorted = sorted(jumlar, key = len)\n",
    "print(jumlar_sorted)"
   ]
  },
  {
   "cell_type": "code",
   "execution_count": 282,
   "id": "a8508586-3117-43aa-b894-38ef36e9bee4",
   "metadata": {},
   "outputs": [
    {
     "name": "stdout",
     "output_type": "stream",
     "text": [
      "['paqa', 'xoraz', 'béliq', 'Wélisipit']\n"
     ]
    }
   ],
   "source": [
    "# build a list of words\n",
    "jumlar = ['xoraz', 'paqa', 'Wélisipit', 'béliq']\n",
    "\n",
    "# it can be done with list.sort()\n",
    "# while the sort is done in-place of jumlar\n",
    "# it is faster since it doesn’t create a new list\n",
    "jumlar.sort(key=len)\n",
    "print(jumlar)"
   ]
  },
  {
   "cell_type": "markdown",
   "id": "d01488fc-cbd8-451e-b532-f930e9fa0a29",
   "metadata": {},
   "source": [
    "## Sort a list of numbers"
   ]
  },
  {
   "cell_type": "code",
   "execution_count": 283,
   "id": "9c24fc9f-d6cb-485a-ba76-892462f7a485",
   "metadata": {},
   "outputs": [
    {
     "name": "stdout",
     "output_type": "stream",
     "text": [
      "[22, 16, 15, 14, 11, 8, 5, 1]\n"
     ]
    }
   ],
   "source": [
    "# build a list of numbers\n",
    "numbers = [14, 15, 1, 8, 16, 11, 5, 22]\n",
    "\n",
    "# sort numbers: large to small\n",
    "numbers_sort = sorted(numbers, reverse=True)\n",
    "print(numbers_sort)"
   ]
  },
  {
   "cell_type": "code",
   "execution_count": 284,
   "id": "600e9168-3dbf-4a04-b7b1-dcef410da6b4",
   "metadata": {},
   "outputs": [
    {
     "name": "stdout",
     "output_type": "stream",
     "text": [
      "[22, 16, 15, 14, 11, 8, 5, 1]\n"
     ]
    }
   ],
   "source": [
    "# build a list of numbers\n",
    "numbers = [14, 15, 1, 8, 16, 11, 5, 22]\n",
    "\n",
    "# with list.sort(), in-place, faster\n",
    "numbers.sort(reverse=True)\n",
    "print(numbers)"
   ]
  },
  {
   "cell_type": "markdown",
   "id": "5f2e14d5-f130-45e5-9a09-9f50a7d24b1a",
   "metadata": {},
   "source": [
    "## Sort a dictionary"
   ]
  },
  {
   "cell_type": "code",
   "execution_count": 285,
   "id": "85257aee-62b7-4452-a92d-3c3a01e3243c",
   "metadata": {},
   "outputs": [
    {
     "name": "stdout",
     "output_type": "stream",
     "text": [
      "[('paqa', 4), ('xoraz', 5), ('Wélisipit', 19), ('béliq', 25)]\n"
     ]
    }
   ],
   "source": [
    "# build a dictionary\n",
    "a_dict = {'paqa': 4, 'béliq': 25, 'xoraz': 5, 'Wélisipit': 19}\n",
    "\n",
    "# build a function to get 2nd value of an ordered sequence\n",
    "def get_2nd(item):\n",
    "    return item[1]\n",
    "\n",
    "# sort by value\n",
    "a_dict_sort = sorted(a_dict.items(), key=get_2nd)\n",
    "print(a_dict_sort)"
   ]
  },
  {
   "cell_type": "code",
   "execution_count": 286,
   "id": "233528f8-bbba-41e7-8946-f5780bd1ae66",
   "metadata": {},
   "outputs": [
    {
     "name": "stdout",
     "output_type": "stream",
     "text": [
      "[('paqa', 4), ('béliq', 25), ('xoraz', 5), ('Wélisipit', 19)]\n"
     ]
    }
   ],
   "source": [
    "# build a dictionary\n",
    "a_dict = {'paqa': 4, 'béliq': 25, 'xoraz': 5, 'Wélisipit': 19}\n",
    "\n",
    "# build a function to get length of first value of an ordered sequence\n",
    "def get_1st_len(item):\n",
    "    return len(item[0])\n",
    "\n",
    "# sort by length of words (keys)\n",
    "a_dict_sort = sorted(a_dict.items(), key = get_1st_len)\n",
    "print(a_dict_sort)"
   ]
  },
  {
   "cell_type": "code",
   "execution_count": 287,
   "id": "262f8d83-9759-437d-aa5b-c68a523c0b5c",
   "metadata": {},
   "outputs": [
    {
     "name": "stdout",
     "output_type": "stream",
     "text": [
      "[('paqa', 4), ('béliq', 25), ('xoraz', 5), ('Wélisipit', 19)]\n"
     ]
    }
   ],
   "source": [
    "# build a dictionary\n",
    "a_dict = {'paqa': 4, 'béliq': 25, 'xoraz': 5, 'Wélisipit': 19}\n",
    "\n",
    "# sort by length of words (keys)\n",
    "a_dict_sort = sorted(a_dict.items(), key = lambda item: len(item[0]))\n",
    "print(a_dict_sort)"
   ]
  },
  {
   "cell_type": "markdown",
   "id": "d3e74d2b-92b2-40a3-8812-b5df7c695d43",
   "metadata": {},
   "source": [
    "## Find the smallest/largest number"
   ]
  },
  {
   "cell_type": "code",
   "execution_count": 288,
   "id": "60c224aa-dea5-49db-a6c5-1965397ade55",
   "metadata": {},
   "outputs": [
    {
     "name": "stdout",
     "output_type": "stream",
     "text": [
      "1\n",
      "1\n"
     ]
    }
   ],
   "source": [
    "# build a list\n",
    "numbers = [14, 15, 1, 8, 16, 11, 5, 22]\n",
    "\n",
    "# find smallest\n",
    "smallest_sorted = sorted(numbers)[0]\n",
    "smallest_min = min(numbers)\n",
    "\n",
    "print(smallest_sorted)\n",
    "print(smallest_min)"
   ]
  },
  {
   "cell_type": "code",
   "execution_count": 289,
   "id": "5aacfba6-bfd6-42ff-9531-b3a3dca3eae4",
   "metadata": {},
   "outputs": [
    {
     "name": "stdout",
     "output_type": "stream",
     "text": [
      "22\n",
      "22\n"
     ]
    }
   ],
   "source": [
    "# build a list\n",
    "numbers = [14, 15, 1, 8, 16, 11, 5, 22]\n",
    "\n",
    "# find largest\n",
    "largest_sorted = sorted(numbers)[-1]\n",
    "largest_max = max(numbers)\n",
    "\n",
    "print(largest_sorted)\n",
    "print(largest_max)"
   ]
  },
  {
   "cell_type": "markdown",
   "id": "aa50141f-0e04-4469-b6b0-c0b1e7742166",
   "metadata": {},
   "source": [
    "## Find shortest/longest word"
   ]
  },
  {
   "cell_type": "code",
   "execution_count": 290,
   "id": "4a3f0bb2-379a-4339-8166-3137b22ca5d7",
   "metadata": {},
   "outputs": [
    {
     "name": "stdout",
     "output_type": "stream",
     "text": [
      "at\n",
      "at\n"
     ]
    }
   ],
   "source": [
    "# build a list\n",
    "tertip = ['paqa', 'béliq', 'eynek', 'at', 'xoraz', 'wélisipit']\n",
    "\n",
    "# find the shortest word \n",
    "shortest_sort = sorted(tertip, key = len)[0]\n",
    "shortest_min = min(tertip, key = len)\n",
    "\n",
    "print(shortest_sort)\n",
    "print(shortest_min)"
   ]
  },
  {
   "cell_type": "code",
   "execution_count": 291,
   "id": "5a98bd94-d7bb-4ca1-805b-d252e01e0c33",
   "metadata": {},
   "outputs": [
    {
     "name": "stdout",
     "output_type": "stream",
     "text": [
      "wélisipit\n",
      "wélisipit\n"
     ]
    }
   ],
   "source": [
    "# build a list\n",
    "tertip = ['paqa', 'béliq', 'eynek', 'at', 'xoraz', 'wélisipit']\n",
    "\n",
    "# find the longest word by its length\n",
    "longest_sort = sorted(tertip, key = len)[-1]\n",
    "longest_max = max(tertip, key = len)\n",
    "\n",
    "print(longest_sort)\n",
    "print(longest_max)"
   ]
  },
  {
   "cell_type": "markdown",
   "id": "c1256f37-d635-4fc3-9b04-e491384ac90c",
   "metadata": {},
   "source": [
    "## Find a key paried with smallest/largest value "
   ]
  },
  {
   "cell_type": "code",
   "execution_count": 292,
   "id": "104be1d4-5ba1-4236-aa92-6e21635c0d18",
   "metadata": {},
   "outputs": [
    {
     "name": "stdout",
     "output_type": "stream",
     "text": [
      "('paqa', 4)\n",
      "('paqa', 4)\n"
     ]
    }
   ],
   "source": [
    "# build a dictionary\n",
    "a_dict = {'paqa': 4, 'béliq': 25, 'eynek': 5, 'at': 12, 'xoraz': 5, 'Wélisipit': 19}\n",
    "\n",
    "# build a function to get 2nd value of an ordered sequence\n",
    "def get_2nd(item):\n",
    "    return item[1]\n",
    "\n",
    "# find the word paired with smallest value\n",
    "smallest_sort = sorted(a_dict.items(), key = get_2nd)[0]\n",
    "smallest_min = min(a_dict.items(), key = get_2nd)\n",
    "\n",
    "print(smallest_sort)\n",
    "print(smallest_min)"
   ]
  },
  {
   "cell_type": "code",
   "execution_count": 293,
   "id": "ebf9276f-4029-492e-b862-1550e453cf68",
   "metadata": {},
   "outputs": [
    {
     "name": "stdout",
     "output_type": "stream",
     "text": [
      "('béliq', 25)\n",
      "('béliq', 25)\n"
     ]
    }
   ],
   "source": [
    "# build a dictionary\n",
    "a_dict = {'paqa': 4, 'béliq': 25, 'eynek': 5, 'at': 12, 'xoraz': 5, 'Wélisipit': 19}\n",
    "\n",
    "# build a function to get 2nd value of an ordered sequence\n",
    "def get_2nd(item):\n",
    "    return item[1]\n",
    "\n",
    "# find the word paired with largest value\n",
    "largest_sort = sorted(a_dict.items(), key = get_2nd)[-1]\n",
    "largest_max = max(a_dict.items(), key = get_2nd)\n",
    "\n",
    "print(largest_sort)\n",
    "print(largest_max)"
   ]
  }
 ],
 "metadata": {
  "kernelspec": {
   "display_name": "Python 3",
   "language": "python",
   "name": "python3"
  },
  "language_info": {
   "codemirror_mode": {
    "name": "ipython",
    "version": 3
   },
   "file_extension": ".py",
   "mimetype": "text/x-python",
   "name": "python",
   "nbconvert_exporter": "python",
   "pygments_lexer": "ipython3",
   "version": "3.10.1"
  }
 },
 "nbformat": 4,
 "nbformat_minor": 5
}
