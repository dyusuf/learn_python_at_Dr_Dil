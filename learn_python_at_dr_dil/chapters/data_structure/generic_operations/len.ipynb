{
 "cells": [
  {
   "cell_type": "markdown",
   "id": "b620a832-53c5-4883-a9d8-e28d83b3514d",
   "metadata": {},
   "source": [
    "# len()\n",
    "\n",
    "Returns the number of items of iterable object:\n",
    "\n",
    "* string: `'batur'`\n",
    "* list: `['paqa', 'béliq', 'eynek', 'at', 'xoraz', 'wélisipit']`\n",
    "* tuple: `('paqa', 'béliq', 'eynek', 'at', 'xoraz', 'wélisipit')`\n",
    "* set: `{'paqa', 'béliq', 'eynek', 'at', 'xoraz', 'wélisipit'}`\n",
    "* dictionary: `{'p':'paqa', 'b':'béliq', 'e':'eynek', 'a':'at', 'y':'xoraz', 'w':'wélisipit'}`"
   ]
  },
  {
   "cell_type": "markdown",
   "id": "bdf2accb-7aa7-4d56-90c0-36b6e72c8c32",
   "metadata": {},
   "source": [
    "**Question: how to get the length of a list and the length of its items?**"
   ]
  },
  {
   "cell_type": "code",
   "execution_count": 180,
   "id": "7bc86c25-ea52-4dfa-b8bf-37533073693b",
   "metadata": {},
   "outputs": [
    {
     "name": "stdout",
     "output_type": "stream",
     "text": [
      "The lenth of the list 'elipe' is 6.\n",
      "The 1st item is 'paqa' and its lenthg is 4.\n"
     ]
    }
   ],
   "source": [
    "# build a list\n",
    "elipe = ['paqa', 'béliq', 'eynek', 'at', 'xoraz', 'wélisipit']\n",
    "\n",
    "# get the length of the list\n",
    "elipe_len = len(elipe)\n",
    "\n",
    "# get the length of the 1st item (a string)\n",
    "item = elipe[0]\n",
    "item_len = len(item)\n",
    "\n",
    "print(f\"The lenth of the list 'elipe' is {elipe_len}.\")\n",
    "print(f\"The 1st item is '{item}' and its lenthg is {item_len}.\")"
   ]
  },
  {
   "cell_type": "markdown",
   "id": "bafa4299-69fd-4759-9c88-21fa82008234",
   "metadata": {
    "tags": []
   },
   "source": [
    "**Question: how to get the length of dictionary and the length of an item value?**"
   ]
  },
  {
   "cell_type": "code",
   "execution_count": 181,
   "id": "43b1f5fd-571b-474a-8b93-fd7d6399d406",
   "metadata": {},
   "outputs": [
    {
     "name": "stdout",
     "output_type": "stream",
     "text": [
      "The length of the dictionary 'tertip_dict' is 6.\n",
      "The key 'b' is paired with the value 'béliq' and the length of the value is 5.\n"
     ]
    }
   ],
   "source": [
    "# build a dictionary\n",
    "elipe = {'p':'paqa', 'b':'béliq', 'e':'eynek', 'a':'at', 'x':'xoraz', 'w':'wélisipit'}\n",
    "\n",
    "# get the length of dictionary \n",
    "elipe_lep = len(elipe)\n",
    "\n",
    "# get the length of an item value and print in a f-string\n",
    "val = elipe['b']\n",
    "val_len = len(val)\n",
    "\n",
    "print(f\"The length of the dictionary 'tertip_dict' is {elipe_len}.\")\n",
    "print(f\"The key 'b' is paired with the value '{val}' and the length of the value is {val_len}.\")"
   ]
  },
  {
   "cell_type": "markdown",
   "id": "bf0ba556-fcae-47a5-b8f0-e95e28f99718",
   "metadata": {},
   "source": [
    "**Question: how to get the index numbers of a list?**"
   ]
  },
  {
   "cell_type": "code",
   "execution_count": 182,
   "id": "312765c2-48f0-4c93-a18e-3ed88ea2bdfb",
   "metadata": {},
   "outputs": [
    {
     "name": "stdout",
     "output_type": "stream",
     "text": [
      "index_numbers: [0, 1, 2, 3, 4, 5]\n",
      "\n",
      "0 paqa\n",
      "1 béliq\n",
      "2 eynek\n",
      "3 at\n",
      "4 xoraz\n",
      "5 wélisipit\n"
     ]
    }
   ],
   "source": [
    "# build a list\n",
    "tertip = ['paqa', 'béliq', 'eynek', 'at', 'xoraz', 'wélisipit']\n",
    "\n",
    "# get its length\n",
    "tertip_len = len(tertip)\n",
    "\n",
    "# get its index numbers\n",
    "index_numbers = range(0, tertip_len)\n",
    "print(f\"index_numbers: {list(index_numbers)}\")\n",
    "\n",
    "print()\n",
    "\n",
    "# print index and corresponding item\n",
    "print(index_numbers[0], tertip[0])\n",
    "print(index_numbers[1], tertip[1])\n",
    "print(index_numbers[2], tertip[2])\n",
    "print(index_numbers[3], tertip[3])\n",
    "print(index_numbers[4], tertip[4])\n",
    "print(index_numbers[5], tertip[5])"
   ]
  }
 ],
 "metadata": {
  "kernelspec": {
   "display_name": "Python 3",
   "language": "python",
   "name": "python3"
  },
  "language_info": {
   "codemirror_mode": {
    "name": "ipython",
    "version": 3
   },
   "file_extension": ".py",
   "mimetype": "text/x-python",
   "name": "python",
   "nbconvert_exporter": "python",
   "pygments_lexer": "ipython3",
   "version": "3.10.1"
  }
 },
 "nbformat": 4,
 "nbformat_minor": 5
}
