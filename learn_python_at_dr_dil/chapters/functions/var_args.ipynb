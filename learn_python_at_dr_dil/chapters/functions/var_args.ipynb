{
 "cells": [
  {
   "cell_type": "markdown",
   "id": "7aace848-8400-4fff-8cb3-d951a0680b91",
   "metadata": {},
   "source": [
    "# Variable Length Arguments\n",
    "\n",
    "If you do not know beforehand how many arguments can be passed to your function by the user, you can make functions with variable length arguments.\n",
    "\n",
    "## Non-Keyword Arguments *args\n",
    "\n",
    "Use the prefix of `*`,  *\\*args* collects all the positional arguments into a `tuple`."
   ]
  },
  {
   "cell_type": "markdown",
   "id": "f7e60528-b845-476e-af18-decc17cc136c",
   "metadata": {},
   "source": [
    "### Examples"
   ]
  },
  {
   "cell_type": "code",
   "execution_count": 100,
   "id": "b10d4666-3737-4668-9ca3-9396b6496dee",
   "metadata": {},
   "outputs": [
    {
     "name": "stdout",
     "output_type": "stream",
     "text": [
      "type of (1, 2, 3) is <class 'tuple'>\n",
      "type of ([1, 2, 3],) is <class 'tuple'>\n",
      "type of ((1, 2, 3),) is <class 'tuple'>\n",
      "type of ('123', 'abc') is <class 'tuple'>\n"
     ]
    }
   ],
   "source": [
    "def input_type(*input):\n",
    "    '''\n",
    "    print type of input\n",
    "    '''\n",
    "    print(f'type of {input} is {type(input)}')\n",
    "\n",
    "\n",
    "input_type(1, 2, 3)\n",
    "input_type([1, 2, 3])\n",
    "input_type((1, 2, 3))\n",
    "input_type('123', 'abc')"
   ]
  },
  {
   "cell_type": "code",
   "execution_count": 101,
   "id": "76368493-c752-465a-95dd-651d46580c95",
   "metadata": {},
   "outputs": [
    {
     "name": "stdout",
     "output_type": "stream",
     "text": [
      "sum of (): 0\n",
      "sum of (1,): 1\n",
      "sum of (1, 2): 3\n",
      "sum of (10, 20, 30): 60\n"
     ]
    }
   ],
   "source": [
    "def add(*num):\n",
    "    '''\n",
    "    sum up the input numbers\n",
    "    '''\n",
    "    \n",
    "    print(f'sum of {num}: {sum(num)}')\n",
    "\n",
    "add()\n",
    "add(1)\n",
    "add(1, 2)\n",
    "add(10, 20, 30)"
   ]
  },
  {
   "cell_type": "code",
   "execution_count": 102,
   "id": "51f6dbdf-a721-45fd-bbba-69cb1b2b92c4",
   "metadata": {},
   "outputs": [
    {
     "name": "stdout",
     "output_type": "stream",
     "text": [
      "average of () is 0\n",
      "average of (2, 3, 4) is 3.0\n"
     ]
    }
   ],
   "source": [
    "def calculateAverage(*input):\n",
    "    ''' \n",
    "    Calculates the average of n numbers \n",
    "    '''\n",
    "    \n",
    "    input_len = len(input)\n",
    "    if input_len > 0 :\n",
    "        # Iterate over all the arguments and calculate average\n",
    "        average = sum(input)/input_len\n",
    "    else:\n",
    "        average = 0\n",
    "        \n",
    "    print(f'average of {input} is {average}')    \n",
    "\n",
    "calculateAverage()\n",
    "calculateAverage(2, 3, 4)"
   ]
  },
  {
   "cell_type": "code",
   "execution_count": 103,
   "id": "adaa31cc-fcb9-46f4-a460-fe9ad3ce943e",
   "metadata": {},
   "outputs": [
    {
     "name": "stdout",
     "output_type": "stream",
     "text": [
      "~start~\n",
      "element 1: Dilmurat\n",
      "element 2: 44\n",
      "element 3: Bioinformatician\n",
      "element 4: Kashgar\n",
      "~end~\n"
     ]
    }
   ],
   "source": [
    "def print_inputs(startStr, endStr, *input):\n",
    "    ''' \n",
    "    print number of input\n",
    "    '''\n",
    "        \n",
    "    print(startStr)\n",
    "    \n",
    "    n = 1\n",
    "    for ele in input:\n",
    "        print(f\"element {n}: {ele}\")\n",
    "        n+=1\n",
    "        \n",
    "    print(endStr)    \n",
    "\n",
    "print_inputs('~start~', '~end~', 'Dilmurat', 44, 'Bioinformatician', 'Kashgar') "
   ]
  },
  {
   "cell_type": "markdown",
   "id": "b7f0b17f-9b5a-41c7-90c0-c8b9187a8cc7",
   "metadata": {},
   "source": [
    "## Keyword Arguments **kwargs\n",
    "\n",
    "Use the prefix of `**`,  *\\*\\*kwargs* collects all the key:value arguments into a `dictionary`.\n"
   ]
  },
  {
   "cell_type": "markdown",
   "id": "8cbdc5ce-ecd9-4190-87ac-4394adadb729",
   "metadata": {},
   "source": [
    "### Examples"
   ]
  },
  {
   "cell_type": "code",
   "execution_count": 93,
   "id": "34dcf656-699a-4656-9177-2c6bec6501ef",
   "metadata": {},
   "outputs": [
    {
     "name": "stdout",
     "output_type": "stream",
     "text": [
      "type of {'p': 'paqa', 'a': 'at', 'b': 'batur'} is <class 'dict'>\n",
      "\n",
      "type of {'name': 'Dilmurat', 'age': 44, 'phone': '2311'} is <class 'dict'>\n"
     ]
    }
   ],
   "source": [
    "def input_type(**input):\n",
    "    '''\n",
    "    print type of input\n",
    "    '''\n",
    "    print(f'type of {input} is {type(input)}')\n",
    "\n",
    "\n",
    "input_type(p='paqa', a='at', b='batur')\n",
    "print()\n",
    "input_type(name='Dilmurat', age=44, phone=\"2311\")"
   ]
  },
  {
   "cell_type": "code",
   "execution_count": 99,
   "id": "83a07c7f-9789-4084-9095-915eb8af9ad5",
   "metadata": {},
   "outputs": [
    {
     "name": "stdout",
     "output_type": "stream",
     "text": [
      "Iterate over {'name': 'Dilmurat', 'age': 44, 'phone': '2311'}\n",
      "name : Dilmurat\n",
      "age : 44\n",
      "phone : 2311\n"
     ]
    }
   ],
   "source": [
    "def print_details(**input):\n",
    "    '''\n",
    "    print variable length arguments in key value pair format\n",
    "    '''\n",
    "    \n",
    "    print(f\"Iterate over {input}\")\n",
    "    for key, value in input.items() :\n",
    "        print(f'{key} : {value}')\n",
    "\n",
    "print_details(name='Dilmurat', age=44, phone=\"2311\")"
   ]
  },
  {
   "cell_type": "code",
   "execution_count": null,
   "id": "a5275eb4-4602-4e05-961b-4b8d5e1f72d9",
   "metadata": {},
   "outputs": [],
   "source": []
  }
 ],
 "metadata": {
  "kernelspec": {
   "display_name": "Python 3",
   "language": "python",
   "name": "python3"
  },
  "language_info": {
   "codemirror_mode": {
    "name": "ipython",
    "version": 3
   },
   "file_extension": ".py",
   "mimetype": "text/x-python",
   "name": "python",
   "nbconvert_exporter": "python",
   "pygments_lexer": "ipython3",
   "version": "3.10.1"
  }
 },
 "nbformat": 4,
 "nbformat_minor": 5
}
