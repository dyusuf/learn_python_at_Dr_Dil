{
 "cells": [
  {
   "cell_type": "markdown",
   "id": "96ebfff0-3738-4bed-84f3-b54fbf4e2ab4",
   "metadata": {},
   "source": [
    "# Decorators\n",
    "\n",
    "A decorator takes a function as input, extends its functionality and returns a new function as output. A decorator changes the behavior of a function without modifying the function itself. \n",
    "\n",
    "Extending functionality is very useful at times when adding extra processing (e.g. logging, timing, etc.) to the function.\n",
    "\n",
    "You can also use decorator to run the same code on multiple functions, aviod duplicating code.\n",
    "\n",
    "## The concepts\n",
    "\n",
    "* A function is an **object**.\n",
    "* A function can be passed to another function as an **input argument**.\n",
    "* A function can be **nested**.\n",
    "* A function can be **returned** as an output.\n",
    "\n",
    "\n",
    "### An object"
   ]
  },
  {
   "cell_type": "code",
   "execution_count": 68,
   "id": "908a4e92-19f4-4096-8a9e-7f5d18c71828",
   "metadata": {},
   "outputs": [],
   "source": [
    "def morning():\n",
    "    print('Good morning')\n",
    "    \n",
    "greeting = morning "
   ]
  },
  {
   "cell_type": "code",
   "execution_count": 69,
   "id": "2a71de11-fb9f-4bd0-872e-fdbd6155d20b",
   "metadata": {
    "tags": []
   },
   "outputs": [
    {
     "data": {
      "text/plain": [
       "True"
      ]
     },
     "execution_count": 69,
     "metadata": {},
     "output_type": "execute_result"
    }
   ],
   "source": [
    "morning is greeting"
   ]
  },
  {
   "cell_type": "code",
   "execution_count": 70,
   "id": "fd0e8ceb-efc4-494e-98a9-7a5674c75aa8",
   "metadata": {
    "tags": []
   },
   "outputs": [
    {
     "name": "stdout",
     "output_type": "stream",
     "text": [
      "Good morning\n"
     ]
    }
   ],
   "source": [
    "morning()"
   ]
  },
  {
   "cell_type": "code",
   "execution_count": 71,
   "id": "3705a7a4-325e-4855-8b36-bf3ee35f7978",
   "metadata": {},
   "outputs": [
    {
     "name": "stdout",
     "output_type": "stream",
     "text": [
      "Good morning\n"
     ]
    }
   ],
   "source": [
    "greeting()"
   ]
  },
  {
   "cell_type": "markdown",
   "id": "73102fa9-d5a6-4f57-8c34-137d0d63146d",
   "metadata": {},
   "source": [
    "### Input argument"
   ]
  },
  {
   "cell_type": "code",
   "execution_count": 180,
   "id": "d19a4d40-b5b8-4a8c-bedc-e56a99f0f3b6",
   "metadata": {},
   "outputs": [
    {
     "name": "stdout",
     "output_type": "stream",
     "text": [
      "Good morning Dilmurat\n"
     ]
    }
   ],
   "source": [
    "def say_hi(func):\n",
    "    func()\n",
    "    print(\"Dilmurat\")\n",
    "\n",
    "def morning():\n",
    "    print('Good morning', end=' ')    \n",
    "    \n",
    "say_hi(morning)    "
   ]
  },
  {
   "cell_type": "markdown",
   "id": "6332e940-0d4d-43af-8e19-5607f96b60ac",
   "metadata": {},
   "source": [
    "### Nested & Returned"
   ]
  },
  {
   "cell_type": "code",
   "execution_count": 182,
   "id": "d1a28ec2-0e36-4e0f-900e-1b183be3c2d2",
   "metadata": {},
   "outputs": [],
   "source": [
    "def say_hi(func):\n",
    "    \n",
    "    def inner_func():\n",
    "        func()\n",
    "        print(\"Dilmurat\")\n",
    "                \n",
    "    return inner_func   \n",
    "\n",
    "def morning():\n",
    "    print('Good morning', end=\" \")\n",
    "    \n",
    "def evening():\n",
    "    print('Good evening', end=\" \")    "
   ]
  },
  {
   "cell_type": "code",
   "execution_count": 74,
   "id": "14d4328f-5b14-406f-b540-9a38c9c62940",
   "metadata": {},
   "outputs": [
    {
     "name": "stdout",
     "output_type": "stream",
     "text": [
      "Good morning\n",
      "Dilmurat\n"
     ]
    }
   ],
   "source": [
    "greeting = say_hi(morning)\n",
    "\n",
    "greeting()"
   ]
  },
  {
   "cell_type": "code",
   "execution_count": 75,
   "id": "8ababb6b-ae47-4f1f-bb0f-d20e6f21736f",
   "metadata": {},
   "outputs": [
    {
     "name": "stdout",
     "output_type": "stream",
     "text": [
      "Good evening\n",
      "Dilmurat\n"
     ]
    }
   ],
   "source": [
    "greeting = say_hi(evening)\n",
    "\n",
    "greeting()"
   ]
  },
  {
   "cell_type": "markdown",
   "id": "523593fd-10c6-4d16-bfa1-498adc0a1cf3",
   "metadata": {},
   "source": [
    "## Create a decorator\n",
    "\n",
    "### Syntax"
   ]
  },
  {
   "cell_type": "code",
   "execution_count": 109,
   "id": "61c62a36-6acd-4384-98ef-88acc7520af7",
   "metadata": {},
   "outputs": [],
   "source": [
    "def decorator(func):\n",
    "\n",
    "    def wrapper():\n",
    "        # add processes  before func()\n",
    "        func()\n",
    "        # add processes after func()\n",
    "        \n",
    "    return wrapper"
   ]
  },
  {
   "cell_type": "markdown",
   "id": "4cebeb86-2a0e-4e43-b94f-fe6b1f1f2cf6",
   "metadata": {},
   "source": [
    "Let's revisit the above say_hi() exmple and annotate each step in the context of a decorator."
   ]
  },
  {
   "cell_type": "code",
   "execution_count": 121,
   "id": "f70e3436-f4f8-45f6-b95e-8c3f7b77c1e6",
   "metadata": {},
   "outputs": [
    {
     "name": "stdout",
     "output_type": "stream",
     "text": [
      "# say_hi is a decorator\n",
      "Good morning # output after executing the input: morning()\n",
      "Dilmurat # output added by inn_func() of say_hi()\n"
     ]
    }
   ],
   "source": [
    "def say_hi(func): \n",
    "\n",
    "    def inner_func(): # a wrapper\n",
    "        print(\"# say_hi is a decorator\")\n",
    "        func(), print(f\"# output after executing the input: {func.__name__}()\")\n",
    "        print('Dilmurat', f\"# output added by inn_func() of say_hi()\")\n",
    "                \n",
    "    return inner_func   \n",
    "\n",
    "def morning():\n",
    "    print('Good morning', end=' ')\n",
    "    \n",
    "# use morning as the input\n",
    "# a decorator (say_hi) can add a new process to morning()\n",
    "# without changing the source code of morning()\n",
    "greeting = say_hi(morning) \n",
    "\n",
    "greeting()"
   ]
  },
  {
   "cell_type": "markdown",
   "id": "b76f3e96-f771-4952-a4ac-3e2bc4608d77",
   "metadata": {},
   "source": [
    "### Syntactic Sugar\n",
    "\n",
    "The syntax of conventional way:"
   ]
  },
  {
   "cell_type": "code",
   "execution_count": 123,
   "id": "48fc75d1-95b6-4443-9b83-b4f1babc0b49",
   "metadata": {},
   "outputs": [],
   "source": [
    "def decorator(func):\n",
    "\n",
    "    def wrapper():\n",
    "        # add processes  before func()\n",
    "        func()\n",
    "        # add processes after func()\n",
    "        \n",
    "    return wrapper\n",
    "\n",
    "def func():\n",
    "    # do somthing\n",
    "    pass\n",
    "\n",
    "extend_func = decorator(func)"
   ]
  },
  {
   "cell_type": "markdown",
   "id": "33cffbf5-660e-426d-8b6e-2e76025885fe",
   "metadata": {},
   "source": [
    "The syntax of sugar:"
   ]
  },
  {
   "cell_type": "code",
   "execution_count": 150,
   "id": "433ea200-7ccc-4711-8002-ea1ee8befe44",
   "metadata": {},
   "outputs": [],
   "source": [
    "def decorator(func):\n",
    "\n",
    "    def wrapper():\n",
    "        # add processes  before func()\n",
    "        func()\n",
    "        # add processes after func()\n",
    "        \n",
    "    return wrapper\n",
    "\n",
    "# the fllowing code equivalent to 'func = decorator(func)'\n",
    "@decorator\n",
    "def func():\n",
    "    # do somthing\n",
    "    pass"
   ]
  },
  {
   "cell_type": "markdown",
   "id": "afd5422b-7ded-4e78-ba70-a1c67b6e54f3",
   "metadata": {},
   "source": [
    "The syntactic sugar with the say_hi() example."
   ]
  },
  {
   "cell_type": "code",
   "execution_count": 170,
   "id": "f59fe84c-16de-4f9e-a3fa-a90ebd8215fc",
   "metadata": {},
   "outputs": [],
   "source": [
    "def say_hi(func): \n",
    "\n",
    "    def inner_func(): # a wrapper\n",
    "        print(\"# say_hi is a decorator\")\n",
    "        func(), print(f\"# output after executing the input: {func.__name__}()\")\n",
    "        print('Dilmurat', f\"# output added by inn_func() of say_hi()\")\n",
    "                \n",
    "    return inner_func   \n",
    "\n",
    "# this equivalent to 'morning = say_hi(morning)'\n",
    "@say_hi\n",
    "def morning():\n",
    "    print('Good morning', end=' ')\n",
    "\n",
    "# this equivalent to 'evening = say_hi(evening)'   \n",
    "@say_hi\n",
    "def evening():\n",
    "    print('Good evening', end=' ')"
   ]
  },
  {
   "cell_type": "code",
   "execution_count": 171,
   "id": "1b3478cb-b699-4422-8c12-7457577c8792",
   "metadata": {},
   "outputs": [
    {
     "name": "stdout",
     "output_type": "stream",
     "text": [
      "# say_hi is a decorator\n",
      "Good morning # output after executing the input: morning()\n",
      "Dilmurat # output added by inn_func() of say_hi()\n"
     ]
    }
   ],
   "source": [
    "morning()"
   ]
  },
  {
   "cell_type": "code",
   "execution_count": 172,
   "id": "2d562503-8d40-463e-b8ca-6b79e56cdb4d",
   "metadata": {},
   "outputs": [
    {
     "name": "stdout",
     "output_type": "stream",
     "text": [
      "# say_hi is a decorator\n",
      "Good evening # output after executing the input: evening()\n",
      "Dilmurat # output added by inn_func() of say_hi()\n"
     ]
    }
   ],
   "source": [
    "evening()"
   ]
  },
  {
   "cell_type": "markdown",
   "id": "2ef4f5c7-75bf-460a-b334-6d08c9cc06f4",
   "metadata": {},
   "source": [
    "Let's repeat the above example with the traditional way:"
   ]
  },
  {
   "cell_type": "code",
   "execution_count": 178,
   "id": "9213feb9-fcb9-4a02-a007-cd5b2bc651c7",
   "metadata": {},
   "outputs": [],
   "source": [
    "def say_hi(func): \n",
    "\n",
    "    def inner_func(): # a wrapper\n",
    "        print(\"# say_hi is a decorator\")\n",
    "        func(), print(f\"# output after executing the input: {func.__name__}()\")\n",
    "        print('Dilmurat', f\"# output added by inn_func() of say_hi()\")\n",
    "                \n",
    "    return inner_func   \n",
    "\n",
    "def morning():\n",
    "    print('Good morning', end=' ')\n",
    "\n",
    "morning = say_hi(morning)"
   ]
  },
  {
   "cell_type": "code",
   "execution_count": 177,
   "id": "c7e15c66-c7b9-4b1b-af2a-80669cef7929",
   "metadata": {},
   "outputs": [
    {
     "name": "stdout",
     "output_type": "stream",
     "text": [
      "# say_hi is a decorator\n",
      "Good morning # output after executing the input: morning()\n",
      "Dilmurat # output added by inn_func() of say_hi()\n"
     ]
    }
   ],
   "source": [
    "morning()"
   ]
  },
  {
   "cell_type": "markdown",
   "id": "956b4076-aca8-480e-9dde-d3cf9873f8fd",
   "metadata": {},
   "source": [
    "Let's use multiple decorators:"
   ]
  },
  {
   "cell_type": "code",
   "execution_count": 183,
   "id": "f59e5aa6-1c2b-4428-94b7-e0b1ab5ef40d",
   "metadata": {},
   "outputs": [],
   "source": [
    "def say_hi(func): \n",
    "\n",
    "    def inner_func(): # a wrapper\n",
    "        func()\n",
    "        print('Dilmurat')\n",
    "                \n",
    "    return inner_func   \n",
    "\n",
    "def weather(func): \n",
    "\n",
    "    def inner_func(): # a wrapper\n",
    "        func()\n",
    "        print('The weather is great today :)')\n",
    "                \n",
    "    return inner_func   \n",
    "\n",
    "def morning():\n",
    "    print('Good morning', end=' ')\n",
    "\n",
    "# this equivalent to 'morning = weather(say_hi(morning))'\n",
    "@weather\n",
    "@say_hi\n",
    "def morning():\n",
    "    print('Good morning', end=' ')    "
   ]
  },
  {
   "cell_type": "code",
   "execution_count": 174,
   "id": "aa684c3c-4112-4ad8-a7e7-b89755e774b1",
   "metadata": {},
   "outputs": [
    {
     "name": "stdout",
     "output_type": "stream",
     "text": [
      "Good morning Dilmurat\n",
      "The weather is great today :)\n"
     ]
    }
   ],
   "source": [
    "morning()"
   ]
  },
  {
   "cell_type": "markdown",
   "id": "a0db9faa-3442-474c-8663-c34a17238efe",
   "metadata": {},
   "source": [
    "Let's repeat the above example with the traditional way:"
   ]
  },
  {
   "cell_type": "code",
   "execution_count": 164,
   "id": "ca1f2c55-ec41-4dbe-ba9c-f468bffc1cce",
   "metadata": {},
   "outputs": [],
   "source": [
    "def morning():\n",
    "    print('Good morning', end=' ')\n",
    "\n",
    "morning = weather(say_hi(morning))"
   ]
  },
  {
   "cell_type": "code",
   "execution_count": 165,
   "id": "73a4329c-d557-47c9-8c5f-76fa661f9d70",
   "metadata": {},
   "outputs": [
    {
     "name": "stdout",
     "output_type": "stream",
     "text": [
      "Good morning Dilmurat\n",
      "The weather is great today :)\n"
     ]
    }
   ],
   "source": [
    "morning()"
   ]
  },
  {
   "cell_type": "markdown",
   "id": "fd5fab90-5503-4fc5-8c92-10396e29d22b",
   "metadata": {},
   "source": [
    "## Add Arguments to Decorator"
   ]
  },
  {
   "cell_type": "code",
   "execution_count": null,
   "id": "c1a246cb-8a38-418a-b771-2dbe20f458a6",
   "metadata": {},
   "outputs": [],
   "source": []
  }
 ],
 "metadata": {
  "kernelspec": {
   "display_name": "Python 3",
   "language": "python",
   "name": "python3"
  },
  "language_info": {
   "codemirror_mode": {
    "name": "ipython",
    "version": 3
   },
   "file_extension": ".py",
   "mimetype": "text/x-python",
   "name": "python",
   "nbconvert_exporter": "python",
   "pygments_lexer": "ipython3",
   "version": "3.6.9"
  }
 },
 "nbformat": 4,
 "nbformat_minor": 5
}
