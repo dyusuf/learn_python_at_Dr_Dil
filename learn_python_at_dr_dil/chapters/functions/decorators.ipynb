{
 "cells": [
  {
   "cell_type": "markdown",
   "id": "96ebfff0-3738-4bed-84f3-b54fbf4e2ab4",
   "metadata": {},
   "source": [
    "# Decorators\n",
    "\n",
    "A decorator takes a function as input, extends its functionality and returns a new function as output. A decorator changes the behavior of a function without modifying the source code of the function. \n",
    "\n",
    "Extending functionality is very useful at times when adding extra processing (e.g. logging, timing, etc.) to the function.\n",
    "\n",
    "You can also use decorator to run the same code on multiple functions, aviod duplicating code.\n",
    "\n",
    "## The concepts\n",
    "\n",
    "* A function is an **object**.\n",
    "* A function can be passed to another function as an **input argument**.\n",
    "* A function can be **nested**.\n",
    "* A function can be **returned** as an output.\n",
    "\n",
    "\n",
    "### Function is an object"
   ]
  },
  {
   "cell_type": "code",
   "execution_count": 253,
   "id": "908a4e92-19f4-4096-8a9e-7f5d18c71828",
   "metadata": {},
   "outputs": [],
   "source": [
    "def say_hi():\n",
    "    print('hi Dilmurat')    \n",
    "    \n",
    "hi = say_hi"
   ]
  },
  {
   "cell_type": "code",
   "execution_count": 254,
   "id": "2a71de11-fb9f-4bd0-872e-fdbd6155d20b",
   "metadata": {
    "tags": []
   },
   "outputs": [
    {
     "data": {
      "text/plain": [
       "True"
      ]
     },
     "execution_count": 254,
     "metadata": {},
     "output_type": "execute_result"
    }
   ],
   "source": [
    "hi is say_hi"
   ]
  },
  {
   "cell_type": "code",
   "execution_count": 256,
   "id": "fd0e8ceb-efc4-494e-98a9-7a5674c75aa8",
   "metadata": {
    "tags": []
   },
   "outputs": [
    {
     "name": "stdout",
     "output_type": "stream",
     "text": [
      "hi Dilmurat\n"
     ]
    }
   ],
   "source": [
    "say_hi()"
   ]
  },
  {
   "cell_type": "code",
   "execution_count": 255,
   "id": "3705a7a4-325e-4855-8b36-bf3ee35f7978",
   "metadata": {},
   "outputs": [
    {
     "name": "stdout",
     "output_type": "stream",
     "text": [
      "hi Dilmurat\n"
     ]
    }
   ],
   "source": [
    "hi()"
   ]
  },
  {
   "cell_type": "markdown",
   "id": "73102fa9-d5a6-4f57-8c34-137d0d63146d",
   "metadata": {},
   "source": [
    "### Funcion as an input argument"
   ]
  },
  {
   "cell_type": "code",
   "execution_count": null,
   "id": "d19a4d40-b5b8-4a8c-bedc-e56a99f0f3b6",
   "metadata": {},
   "outputs": [
    {
     "name": "stdout",
     "output_type": "stream",
     "text": [
      "hi Dilmurat\n"
     ]
    }
   ],
   "source": [
    "def morning(func):\n",
    "    func()\n",
    "    print(\"good morning\")\n",
    "\n",
    "def say_hi():\n",
    "    print('hi Dilmurat')    \n",
    "    \n",
    "morning(say_hi)    "
   ]
  },
  {
   "cell_type": "markdown",
   "id": "6332e940-0d4d-43af-8e19-5607f96b60ac",
   "metadata": {},
   "source": [
    "### Funcion: Nested & Returned"
   ]
  },
  {
   "cell_type": "code",
   "execution_count": 306,
   "id": "d1a28ec2-0e36-4e0f-900e-1b183be3c2d2",
   "metadata": {},
   "outputs": [
    {
     "name": "stdout",
     "output_type": "stream",
     "text": [
      "hi Dilmurat\n",
      "good morning\n"
     ]
    }
   ],
   "source": [
    "def morning(func):\n",
    "    \n",
    "    def wrapper(): # an inner function\n",
    "        func()\n",
    "        print(\"good morning\")\n",
    "                \n",
    "    return wrapper # the output of morning() is the inner function\n",
    "\n",
    "def say_hi():\n",
    "    print('hi Dilmurat') \n",
    "    \n",
    "say_hi = morning(say_hi)\n",
    "\n",
    "say_hi()    "
   ]
  },
  {
   "cell_type": "markdown",
   "id": "523593fd-10c6-4d16-bfa1-498adc0a1cf3",
   "metadata": {},
   "source": [
    "## Create a decorator\n",
    "\n",
    "### Syntax"
   ]
  },
  {
   "cell_type": "code",
   "execution_count": 289,
   "id": "61c62a36-6acd-4384-98ef-88acc7520af7",
   "metadata": {},
   "outputs": [],
   "source": [
    "def decorator(func):\n",
    "\n",
    "    def wrapper(): # an inner function\n",
    "        \n",
    "        # add processes  before func()\n",
    "        \n",
    "        func()\n",
    "        \n",
    "        # add processes after func()\n",
    "        \n",
    "    return wrapper # the output of morning() is the inner function"
   ]
  },
  {
   "cell_type": "markdown",
   "id": "4cebeb86-2a0e-4e43-b94f-fe6b1f1f2cf6",
   "metadata": {},
   "source": [
    "Let's revisit the above `say_hi()` exmple and annotate each step in the context of a decorator."
   ]
  },
  {
   "cell_type": "code",
   "execution_count": 402,
   "id": "f70e3436-f4f8-45f6-b95e-8c3f7b77c1e6",
   "metadata": {},
   "outputs": [
    {
     "name": "stdout",
     "output_type": "stream",
     "text": [
      "~~ morning() starts decorating ~~~\n",
      "\n",
      "# output after calling the input function -- say_hi()\n",
      "hi Dilmurat\n",
      "\n",
      "# output added by wrapper() in morning()\n",
      "good morning\n"
     ]
    }
   ],
   "source": [
    "def morning(func):\n",
    "    \n",
    "    def wrapper(): # an inner function\n",
    "        print(\"~~ morning() starts decorating ~~~\", end ='\\n\\n')\n",
    "        \n",
    "        print(f\"# output after calling the input function -- {func.__name__}()\")\n",
    "        func()\n",
    "        \n",
    "        print()\n",
    "        \n",
    "        print(f\"# output added by wrapper() in morning()\")\n",
    "        print(\"good morning\")\n",
    "                \n",
    "    return wrapper # the output of morning() is the inner function\n",
    "\n",
    "def say_hi():\n",
    "    print('hi Dilmurat') \n",
    "\n",
    "# use say_hi as the input of morning()\n",
    "# morning() can add a new process to say_hi()\n",
    "# without changing the source code of say_hi()\n",
    "say_hi = morning(say_hi) \n",
    "\n",
    "say_hi()"
   ]
  },
  {
   "cell_type": "markdown",
   "id": "b76f3e96-f771-4952-a4ac-3e2bc4608d77",
   "metadata": {},
   "source": [
    "### Syntactic Sugar\n",
    "\n",
    "The syntax of conventional way:"
   ]
  },
  {
   "cell_type": "code",
   "execution_count": 291,
   "id": "48fc75d1-95b6-4443-9b83-b4f1babc0b49",
   "metadata": {},
   "outputs": [
    {
     "data": {
      "text/plain": [
       "<function __main__.decorator.<locals>.wrapper()>"
      ]
     },
     "execution_count": 291,
     "metadata": {},
     "output_type": "execute_result"
    }
   ],
   "source": [
    "def decorator(func):\n",
    "\n",
    "    def wrapper(): # an inner function\n",
    "        # add processes before func()\n",
    "        func()\n",
    "        # add processes after func()\n",
    "        \n",
    "    return wrapper # the output of morning() is the inner function\n",
    "\n",
    "def func():\n",
    "    # do somthing\n",
    "    pass\n",
    "\n",
    "decorator(func) # output is wrapper in decorator()"
   ]
  },
  {
   "cell_type": "markdown",
   "id": "33cffbf5-660e-426d-8b6e-2e76025885fe",
   "metadata": {},
   "source": [
    "The syntax of sugar:"
   ]
  },
  {
   "cell_type": "code",
   "execution_count": 307,
   "id": "433ea200-7ccc-4711-8002-ea1ee8befe44",
   "metadata": {},
   "outputs": [
    {
     "data": {
      "text/plain": [
       "<function __main__.decorator.<locals>.wrapper()>"
      ]
     },
     "execution_count": 307,
     "metadata": {},
     "output_type": "execute_result"
    }
   ],
   "source": [
    "def decorator(func):\n",
    "\n",
    "    def wrapper(): # an inner function\n",
    "        \n",
    "        # add processes before func()\n",
    "        \n",
    "        func()\n",
    "        \n",
    "        # add processes after func()\n",
    "        \n",
    "    return wrapper # the output of morning() is the inner function\n",
    "\n",
    "# the fllowing code equivalent to 'func = decorator(func)'\n",
    "@decorator\n",
    "def func():\n",
    "    # do somthing\n",
    "    pass\n",
    "\n",
    "func"
   ]
  },
  {
   "cell_type": "markdown",
   "id": "afd5422b-7ded-4e78-ba70-a1c67b6e54f3",
   "metadata": {},
   "source": [
    "The syntactic sugar with the `say_hi()` examplee."
   ]
  },
  {
   "cell_type": "code",
   "execution_count": 308,
   "id": "f59fe84c-16de-4f9e-a3fa-a90ebd8215fc",
   "metadata": {},
   "outputs": [
    {
     "name": "stdout",
     "output_type": "stream",
     "text": [
      "~~ morning() starts decorating ~~~\n",
      "\n",
      "# output after calling the input function -- say_hi()\n",
      "hi Dilmurat\n",
      "\n",
      "# output added by wrapper() in morning()\n",
      "good morning\n"
     ]
    }
   ],
   "source": [
    "def morning(func):\n",
    "    \n",
    "    def wrapper(): # an inner function\n",
    "        print(\"~~ morning() starts decorating ~~~\", end ='\\n\\n')\n",
    "        \n",
    "        print(f\"# output after calling the input function -- {func.__name__}()\")\n",
    "        func()\n",
    "        \n",
    "        print()\n",
    "        \n",
    "        print(f\"# output added by wrapper() in morning()\")\n",
    "        print(\"good morning\")\n",
    "                \n",
    "    return wrapper # the output of morning() is the inner function\n",
    "\n",
    "# the fllowing code equivalent to 'say_hi = morning(say_hi)'\n",
    "@morning\n",
    "def say_hi():\n",
    "    print('hi Dilmurat') \n",
    "\n",
    "say_hi()    "
   ]
  },
  {
   "cell_type": "markdown",
   "id": "956b4076-aca8-480e-9dde-d3cf9873f8fd",
   "metadata": {},
   "source": [
    "Let's use multiple decorators:"
   ]
  },
  {
   "cell_type": "code",
   "execution_count": 318,
   "id": "f59e5aa6-1c2b-4428-94b7-e0b1ab5ef40d",
   "metadata": {},
   "outputs": [
    {
     "name": "stdout",
     "output_type": "stream",
     "text": [
      "hi Dilmurat\n",
      "good morning\n",
      "a great wather today :)\n"
     ]
    }
   ],
   "source": [
    "def morning(func):\n",
    "    \n",
    "    def wrapper(): # an inner function\n",
    "        func()\n",
    "        print(\"good morning\")\n",
    "                \n",
    "    return wrapper # the output of morning() is the inner function\n",
    "\n",
    "def weather(func): \n",
    "\n",
    "    def wrapper():# an inner function\n",
    "        func()\n",
    "        print('a great weather today :)')\n",
    "                \n",
    "    return wrapper   \n",
    "\n",
    "# this equivalent to 'say_hi = weather(morning(say_hi))'\n",
    "@weather\n",
    "@morning\n",
    "def say_hi():\n",
    "    print('hi Dilmurat')     \n",
    "    \n",
    "say_hi()    "
   ]
  },
  {
   "cell_type": "markdown",
   "id": "176a4ca5-a430-4a85-98de-5bc395a2a1b9",
   "metadata": {},
   "source": [
    "## Add Arguments to Decorator\n",
    "\n",
    "To ad arguments to decorator, we can give `*args` and `*kwargs` to wrapper function as the inputs."
   ]
  },
  {
   "cell_type": "markdown",
   "id": "33392da1-b493-430c-ab62-a16e119a1f7b",
   "metadata": {},
   "source": [
    "### Syntax"
   ]
  },
  {
   "cell_type": "code",
   "execution_count": 319,
   "id": "eb87689b-e6c3-47f1-8ccd-37752df56e5f",
   "metadata": {},
   "outputs": [],
   "source": [
    "def decorator(func):\n",
    "\n",
    "    def wrapper(*args, **kwargs): # set *args, **kwargs\n",
    "        # add processes  before func()\n",
    "        func(*args, **kwargs) # set *args, **kwargs\n",
    "        # add processes after func()\n",
    "        \n",
    "    return wrapper\n",
    "\n",
    "@decorator\n",
    "def func(arg): # arg --> decorator --> wrapper --> func(*args, **kwargs)\n",
    "    # do somthing\n",
    "    pass"
   ]
  },
  {
   "cell_type": "markdown",
   "id": "885667aa-ed37-48a5-8818-cc5ee86b8a7c",
   "metadata": {},
   "source": [
    "Let's use the use `say_hi()` examplee"
   ]
  },
  {
   "cell_type": "code",
   "execution_count": 398,
   "id": "e8cda756-d0aa-4b5e-ab06-9badfeda3b9a",
   "metadata": {},
   "outputs": [
    {
     "name": "stdout",
     "output_type": "stream",
     "text": [
      "~~arguments~~\n",
      "args:('Nijat',)\n",
      "kwargs:{}\n",
      "~~arguments~~\n",
      "\n",
      "hi Nijat\n",
      "good morning\n"
     ]
    }
   ],
   "source": [
    "def morning(func):\n",
    "    \n",
    "    def wrapper(*args, **kwargs): # an inner function\n",
    "        print(\"~~arguments~~\")\n",
    "        print(f\"args:{args}\")\n",
    "        print(f\"kwargs:{kwargs}\")\n",
    "        print(\"~~arguments~~\")\n",
    "        \n",
    "        print()\n",
    "             \n",
    "        func(*args, *kwargs)\n",
    "        print(\"good morning\")\n",
    "                \n",
    "    return wrapper # the output of morning() is the inner function\n",
    "\n",
    "@morning\n",
    "def say_hi(name):\n",
    "    print(f'hi {name}')     \n",
    "      \n",
    "say_hi('Nijat')"
   ]
  },
  {
   "cell_type": "code",
   "execution_count": 403,
   "id": "48e11c8e-be9d-46b4-b931-90edc38b3002",
   "metadata": {},
   "outputs": [
    {
     "name": "stdout",
     "output_type": "stream",
     "text": [
      "~~arguments~~\n",
      "args:()\n",
      "kwargs:{'name1': 'Ilham', 'name2': 'Anwer'}\n",
      "~~arguments~~\n",
      "\n",
      "Hi Ilham and Anwer\n",
      "good morning\n"
     ]
    }
   ],
   "source": [
    "def morning(func):\n",
    "    \n",
    "    def wrapper(*args, **kwargs): # an inner function\n",
    "        print(\"~~arguments~~\")\n",
    "        print(f\"args:{args}\")\n",
    "        print(f\"kwargs:{kwargs}\")\n",
    "        print(\"~~arguments~~\")\n",
    "        \n",
    "        print()\n",
    "       \n",
    "        func(*args, **kwargs)\n",
    "        print(\"good morning\")\n",
    "                \n",
    "    return wrapper # the output of morning() is the inner function\n",
    "\n",
    "@morning\n",
    "def say_hi(name1, name2):\n",
    "    print(f\"Hi {name1} and {name2}\")\n",
    "      \n",
    "say_hi(name1=\"Ilham\", name2=\"Anwer\")"
   ]
  }
 ],
 "metadata": {
  "kernelspec": {
   "display_name": "Python 3",
   "language": "python",
   "name": "python3"
  },
  "language_info": {
   "codemirror_mode": {
    "name": "ipython",
    "version": 3
   },
   "file_extension": ".py",
   "mimetype": "text/x-python",
   "name": "python",
   "nbconvert_exporter": "python",
   "pygments_lexer": "ipython3",
   "version": "3.6.9"
  }
 },
 "nbformat": 4,
 "nbformat_minor": 5
}
