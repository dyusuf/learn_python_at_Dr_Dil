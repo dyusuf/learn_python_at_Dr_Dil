{
 "cells": [
  {
   "cell_type": "markdown",
   "id": "f45e3a67-dc5b-4ebd-a769-d69812aaef85",
   "metadata": {},
   "source": [
    "#  Lambda Functions\n",
    "\n",
    "Python Lambda functions are single line, anonymous functions. They are used to create small one-line functions in cases where a normal function would be an overkill.\n",
    "\n",
    "Syntax: **lambda** `parameters`: `expression`\n",
    "\n"
   ]
  },
  {
   "cell_type": "code",
   "execution_count": 23,
   "id": "41dfb992-ae5f-4611-8dba-fa2b4ca33611",
   "metadata": {},
   "outputs": [
    {
     "name": "stdout",
     "output_type": "stream",
     "text": [
      "8\n"
     ]
    }
   ],
   "source": [
    "# the traditional Python def function\n",
    "\n",
    "def cube(num):\n",
    "    return num**3\n",
    "\n",
    "output = cube(2)\n",
    "\n",
    "print(output)"
   ]
  },
  {
   "cell_type": "code",
   "execution_count": 24,
   "id": "89a5bbb6-c3fe-4b2c-97b2-0160b97d5ea7",
   "metadata": {},
   "outputs": [
    {
     "name": "stdout",
     "output_type": "stream",
     "text": [
      "8\n"
     ]
    }
   ],
   "source": [
    "# the lambda function\n",
    "\n",
    "cube = lambda num : num**3\n",
    "\n",
    "output = cube(2)\n",
    "\n",
    "print(output)"
   ]
  },
  {
   "cell_type": "code",
   "execution_count": 25,
   "id": "e4494483-74d8-47ae-8cfa-d057a364a008",
   "metadata": {},
   "outputs": [
    {
     "name": "stdout",
     "output_type": "stream",
     "text": [
      "8\n"
     ]
    }
   ],
   "source": [
    "# Immediately Invoked Function Expression \n",
    "\n",
    "output = (lambda num : num**3)(2)\n",
    "\n",
    "print(output)"
   ]
  },
  {
   "cell_type": "code",
   "execution_count": 26,
   "id": "d4cbc471-9677-4748-a105-23c86913eac8",
   "metadata": {},
   "outputs": [
    {
     "name": "stdout",
     "output_type": "stream",
     "text": [
      "8\n"
     ]
    }
   ],
   "source": [
    "# the traditional Python def function\n",
    "\n",
    "def cube(num, expo):\n",
    "    return num**expo\n",
    "\n",
    "output = cube(2, 3)\n",
    "\n",
    "print(output)"
   ]
  },
  {
   "cell_type": "code",
   "execution_count": 27,
   "id": "2b03067d-68ec-4f7b-ad8b-2b1266f75538",
   "metadata": {},
   "outputs": [
    {
     "name": "stdout",
     "output_type": "stream",
     "text": [
      "8\n"
     ]
    }
   ],
   "source": [
    "output = (lambda num, expo: num**expo)(2, 3)\n",
    "\n",
    "print(output)"
   ]
  },
  {
   "cell_type": "code",
   "execution_count": 33,
   "id": "7a33e4f3-6db5-4376-b9a7-34331a9ff794",
   "metadata": {},
   "outputs": [
    {
     "name": "stdout",
     "output_type": "stream",
     "text": [
      "odd\n"
     ]
    }
   ],
   "source": [
    "# lambda and inline if\n",
    "\n",
    "output = (lambda x: 'even' if x%2 == 0 else 'odd')(3)\n",
    "\n",
    "print(output)"
   ]
  },
  {
   "cell_type": "code",
   "execution_count": 29,
   "id": "64339f6a-b4f3-4f28-be45-9599228925ec",
   "metadata": {},
   "outputs": [
    {
     "name": "stdout",
     "output_type": "stream",
     "text": [
      "[('paqa', 124), ('béliq', 25), ('xoraz', 5), ('Wélisipit', 19)]\n"
     ]
    }
   ],
   "source": [
    "# lambda & sorted \n",
    "\n",
    "# build a dictionary\n",
    "a_dict = {'paqa': 124, 'béliq': 25, 'xoraz': 5, 'Wélisipit': 19}\n",
    "\n",
    "# sort by length of words (keys)\n",
    "a_dict_sort = sorted(a_dict.items(), key = lambda item: len(item[0]))\n",
    "\n",
    "print(a_dict_sort)"
   ]
  }
 ],
 "metadata": {
  "kernelspec": {
   "display_name": "Python 3",
   "language": "python",
   "name": "python3"
  },
  "language_info": {
   "codemirror_mode": {
    "name": "ipython",
    "version": 3
   },
   "file_extension": ".py",
   "mimetype": "text/x-python",
   "name": "python",
   "nbconvert_exporter": "python",
   "pygments_lexer": "ipython3",
   "version": "3.10.1"
  }
 },
 "nbformat": 4,
 "nbformat_minor": 5
}
