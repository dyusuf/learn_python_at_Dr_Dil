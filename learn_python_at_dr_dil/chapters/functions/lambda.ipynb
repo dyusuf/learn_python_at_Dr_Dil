{
 "cells": [
  {
   "cell_type": "markdown",
   "id": "f45e3a67-dc5b-4ebd-a769-d69812aaef85",
   "metadata": {},
   "source": [
    "#  Lambda Functions\n",
    "\n",
    "Python Lambda functions are single line, anonymous functions. They are used to create small one-line functions in cases where a normal function would be an overkill.\n",
    "\n",
    "Syntax: **lambda** `parameters`: `expression`\n",
    "\n",
    "Example 1: how to use lambda?"
   ]
  },
  {
   "cell_type": "code",
   "execution_count": 5,
   "id": "41dfb992-ae5f-4611-8dba-fa2b4ca33611",
   "metadata": {},
   "outputs": [
    {
     "name": "stdout",
     "output_type": "stream",
     "text": [
      "8\n"
     ]
    }
   ],
   "source": [
    "# the traditional Python def function\n",
    "\n",
    "def cube(num):\n",
    "    return num**3\n",
    "\n",
    "output = cube(num=2)\n",
    "\n",
    "print(output)"
   ]
  },
  {
   "cell_type": "code",
   "execution_count": 6,
   "id": "89a5bbb6-c3fe-4b2c-97b2-0160b97d5ea7",
   "metadata": {},
   "outputs": [
    {
     "name": "stdout",
     "output_type": "stream",
     "text": [
      "8\n"
     ]
    }
   ],
   "source": [
    "# the lambda function\n",
    "\n",
    "cube = lambda num : num**3\n",
    "\n",
    "output = cube(num=2)\n",
    "\n",
    "print(output)"
   ]
  },
  {
   "cell_type": "code",
   "execution_count": 7,
   "id": "e4494483-74d8-47ae-8cfa-d057a364a008",
   "metadata": {},
   "outputs": [
    {
     "name": "stdout",
     "output_type": "stream",
     "text": [
      "8\n"
     ]
    }
   ],
   "source": [
    "# Immediately Invoked Function Expression \n",
    "\n",
    "output = (lambda num : num**3)(num=2)\n",
    "\n",
    "print(output)"
   ]
  },
  {
   "cell_type": "markdown",
   "id": "5b19be4c-cda4-424f-91fb-1cac63f4e9c6",
   "metadata": {},
   "source": [
    "Example 2: with multiple inputs"
   ]
  },
  {
   "cell_type": "code",
   "execution_count": 8,
   "id": "d4cbc471-9677-4748-a105-23c86913eac8",
   "metadata": {},
   "outputs": [
    {
     "name": "stdout",
     "output_type": "stream",
     "text": [
      "8\n"
     ]
    }
   ],
   "source": [
    "# the traditional Python def function\n",
    "\n",
    "def cal_expo(num, expo):\n",
    "    return num**expo\n",
    "\n",
    "output = cal_expo(num=2, expo=3)\n",
    "\n",
    "print(output)"
   ]
  },
  {
   "cell_type": "code",
   "execution_count": 9,
   "id": "2b03067d-68ec-4f7b-ad8b-2b1266f75538",
   "metadata": {},
   "outputs": [
    {
     "name": "stdout",
     "output_type": "stream",
     "text": [
      "8\n"
     ]
    }
   ],
   "source": [
    "output = (lambda num, expo: num**expo)(num=2, expo=3)\n",
    "\n",
    "print(output)"
   ]
  },
  {
   "cell_type": "markdown",
   "id": "3e354054-60e1-4adf-bfa3-bc566b8201cb",
   "metadata": {},
   "source": [
    "Example 3: combine with inline if"
   ]
  },
  {
   "cell_type": "code",
   "execution_count": 10,
   "id": "7a33e4f3-6db5-4376-b9a7-34331a9ff794",
   "metadata": {},
   "outputs": [
    {
     "name": "stdout",
     "output_type": "stream",
     "text": [
      "odd\n"
     ]
    }
   ],
   "source": [
    "# lambda and inline if\n",
    "\n",
    "output = (lambda x: 'even' if x%2 == 0 else 'odd')(x=3)\n",
    "\n",
    "print(output)"
   ]
  },
  {
   "cell_type": "markdown",
   "id": "4a879753-f3e5-4345-93a2-be059c222b75",
   "metadata": {},
   "source": [
    "Example 4: used as a key function of `sorted`"
   ]
  },
  {
   "cell_type": "code",
   "execution_count": 2,
   "id": "5a1d5b8c-367b-4557-a1ac-efe2d396a7a4",
   "metadata": {},
   "outputs": [
    {
     "name": "stdout",
     "output_type": "stream",
     "text": [
      "[('paqa', 124), ('béliq', 25), ('xoraz', 5), ('Wélisipit', 19)]\n"
     ]
    }
   ],
   "source": [
    "# sorted & traditional def function\n",
    "\n",
    "# build a dictionary\n",
    "a_dict = {'paqa': 124, 'béliq': 25, 'xoraz': 5, 'Wélisipit': 19}\n",
    "\n",
    "def get_len_val(item):\n",
    "    return len(item[0])\n",
    "\n",
    "# sort by length of words (keys)\n",
    "a_dict_sort = sorted(a_dict.items(), key = get_len_val)\n",
    "\n",
    "print(a_dict_sort)"
   ]
  },
  {
   "cell_type": "code",
   "execution_count": 1,
   "id": "64339f6a-b4f3-4f28-be45-9599228925ec",
   "metadata": {},
   "outputs": [
    {
     "name": "stdout",
     "output_type": "stream",
     "text": [
      "[('paqa', 124), ('béliq', 25), ('xoraz', 5), ('Wélisipit', 19)]\n"
     ]
    }
   ],
   "source": [
    "# sorted & lambda\n",
    "\n",
    "# build a dictionary\n",
    "a_dict = {'paqa': 124, 'béliq': 25, 'xoraz': 5, 'Wélisipit': 19}\n",
    "\n",
    "# sort by length of words (keys)\n",
    "a_dict_sort = sorted(a_dict.items(), key = lambda item: len(item[0]))\n",
    "\n",
    "print(a_dict_sort)"
   ]
  }
 ],
 "metadata": {
  "kernelspec": {
   "display_name": "Python 3",
   "language": "python",
   "name": "python3"
  },
  "language_info": {
   "codemirror_mode": {
    "name": "ipython",
    "version": 3
   },
   "file_extension": ".py",
   "mimetype": "text/x-python",
   "name": "python",
   "nbconvert_exporter": "python",
   "pygments_lexer": "ipython3",
   "version": "3.10.1"
  }
 },
 "nbformat": 4,
 "nbformat_minor": 5
}
