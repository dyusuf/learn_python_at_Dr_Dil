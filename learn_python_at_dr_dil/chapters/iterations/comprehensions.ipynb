{
 "cells": [
  {
   "cell_type": "markdown",
   "id": "8fc6aa1d-d28e-4a40-ae38-34e7da2d8f51",
   "metadata": {
    "tags": []
   },
   "source": [
    "# Comprehensions\n",
    "\n",
    "`List/set/dictionary` comprehension is a way to build a new `list/set/dictionary` by applying an expression to each item in an iterable such as a `string`, a `list`, a `dictionary`, a `range` etc.\n",
    "\n",
    "Syntax:\n",
    "\n",
    "* list comprehension: `[expression(var) for var in iterable if condition == True]`\n",
    "* set comprehension: `{expression(var) for var in iterable if condition == True}`\n",
    "* dictionary comprehension: `{key:value for var in iterable if condition == True}`\n",
    "\n",
    "Advantages:\n",
    "\n",
    "* concise\n",
    "* run substantially faster than for loop"
   ]
  },
  {
   "cell_type": "markdown",
   "id": "366097c2-3f27-467d-9e97-a1cfeaa42f82",
   "metadata": {},
   "source": [
    "## List Comprehension\n",
    "\n",
    "### Make a list of cube numbers from 0 to 4."
   ]
  },
  {
   "cell_type": "code",
   "execution_count": 13,
   "id": "11f7435e-ae2f-463d-90de-177b15800a94",
   "metadata": {},
   "outputs": [
    {
     "name": "stdout",
     "output_type": "stream",
     "text": [
      "input: []\n",
      "processing: append item at a time manually\n",
      "output: [0, 1, 8, 27, 64]\n"
     ]
    }
   ],
   "source": [
    "# make an empty list and append one at a time\n",
    "numbers = [] \n",
    "print('input:', numbers)\n",
    "\n",
    "print('processing: append item at a time manually')\n",
    "numbers.append(0**3)\n",
    "numbers.append(1**3)\n",
    "numbers.append(2**3)\n",
    "numbers.append(3**3)\n",
    "numbers.append(4**3)\n",
    "\n",
    "print('output:', numbers)"
   ]
  },
  {
   "cell_type": "code",
   "execution_count": 54,
   "id": "dc42ac81-3b6a-4bac-b38f-78c1d0a8527b",
   "metadata": {},
   "outputs": [
    {
     "name": "stdout",
     "output_type": "stream",
     "text": [
      "input: []\n",
      "processing: range(0, 5), for-loop, append automatically\n",
      "output: [0, 1, 8, 27, 64]\n"
     ]
    }
   ],
   "source": [
    "# make an empty list and append items using for loop\n",
    "numbers = [] \n",
    "print('input:', numbers)\n",
    "\n",
    "print('processing: range(0, 5), for-loop, append automatically')\n",
    "for num in range(0, 5):\n",
    "    numbers.append(num**3)\n",
    "\n",
    "print('output:', numbers)    "
   ]
  },
  {
   "cell_type": "code",
   "execution_count": 55,
   "id": "4cee8880-c262-4bfb-b096-c91cbf79f3e4",
   "metadata": {},
   "outputs": [
    {
     "name": "stdout",
     "output_type": "stream",
     "text": [
      "input & processing: list comprehension, range(0, 5), for-loop\n",
      "output: [0, 1, 8, 27, 64]\n"
     ]
    }
   ],
   "source": [
    "# use list comprehension\n",
    "\n",
    "# syntax: [ expression for var in iterable   ]\n",
    "numbers = [ num**3     for num in range(0, 5)]\n",
    "\n",
    "print('input & processing: list comprehension, range(0, 5), for-loop')\n",
    "print('output:', numbers)"
   ]
  },
  {
   "cell_type": "markdown",
   "id": "433dbd97-fbde-4976-9f38-adde43cf7c73",
   "metadata": {},
   "source": [
    "### Create a new list from a list of tuples"
   ]
  },
  {
   "cell_type": "code",
   "execution_count": 16,
   "id": "31667cfe-d883-4969-a15a-e3c27364cfb7",
   "metadata": {},
   "outputs": [
    {
     "name": "stdout",
     "output_type": "stream",
     "text": [
      "input: [('diLmurat', 44), ('Bilal', 25), ('Nijat', 30)]\n",
      "processing: list comprehension, tuples, for-loop\n",
      "output: ['Dilmurat\\t44', 'Bilal\\t25', 'Nijat\\t30']\n"
     ]
    }
   ],
   "source": [
    "# a list of name and age pair\n",
    "ages = [('diLmurat', 44), ('Bilal', 25), ('Nijat', 30)]\n",
    "print('input:', ages)\n",
    "\n",
    "print('processing: list comprehension, tuples, for-loop')\n",
    "# iterate tuples in list\n",
    "new_list = ['\\t'.join((item[0].title(), str(item[1]))) for item in ages]\n",
    "\n",
    "print('output:', new_list)"
   ]
  },
  {
   "cell_type": "code",
   "execution_count": 20,
   "id": "0fc89eb6-b58d-4141-bf48-438ee3850aea",
   "metadata": {},
   "outputs": [
    {
     "name": "stdout",
     "output_type": "stream",
     "text": [
      "input: [('diLmurat', 44), ('Bilal', 25), ('Nijat', 30)]\n",
      "processing: list comprehension, unpacked tuples, for-loop\n",
      "output: ['Dilmurat\\t44', 'Bilal\\t25', 'Nijat\\t30']\n"
     ]
    }
   ],
   "source": [
    "# a list of name and age pair\n",
    "ages = [('diLmurat', 44), ('Bilal', 25), ('Nijat', 30)]\n",
    "print('input:', ages)\n",
    "\n",
    "print('processing: list comprehension, unpacked tuples, for-loop')\n",
    "# unpack item\n",
    "new_list = ['\\t'.join((name.title(), str(age))) for name, age in ages]\n",
    "\n",
    "print('output:', new_list)"
   ]
  },
  {
   "cell_type": "markdown",
   "id": "0df5070b-73af-444b-9bfc-b40f91f94fdc",
   "metadata": {},
   "source": [
    "### Create a new list from a dictionary\n",
    "\n",
    "Use list comprehension to process dictioary keys, values and items (key:value)."
   ]
  },
  {
   "cell_type": "code",
   "execution_count": 21,
   "id": "b6a89657-7764-4434-9864-0d3e7eea7763",
   "metadata": {},
   "outputs": [
    {
     "name": "stdout",
     "output_type": "stream",
     "text": [
      "diLmurat 44\n",
      "Bilal 25\n",
      "Nijat 30\n"
     ]
    }
   ],
   "source": [
    "# a dictionary of name and age pair\n",
    "ages = {'diLmurat': 44, 'Bilal': 25, 'Nijat': 30}\n",
    "\n",
    "# iterate the dictionary keys\n",
    "for name in ages.keys():\n",
    "    print(name, ages[name])"
   ]
  },
  {
   "cell_type": "code",
   "execution_count": 29,
   "id": "f47a1243-b3b0-4bf5-a916-98dd78c3caab",
   "metadata": {},
   "outputs": [
    {
     "name": "stdout",
     "output_type": "stream",
     "text": [
      "('diLmurat', 44)\n",
      "('Bilal', 25)\n",
      "('Nijat', 30)\n",
      "\n",
      "diLmurat 44\n",
      "Bilal 25\n",
      "Nijat 30\n"
     ]
    }
   ],
   "source": [
    "# a dictionary of name and age pair\n",
    "ages = {'diLmurat': 44, 'Bilal': 25, 'Nijat': 30}\n",
    "\n",
    "# iterate the dictionary items\n",
    "for item in ages.items():\n",
    "    print(item)\n",
    "\n",
    "print()\n",
    "\n",
    "# unpack item of tuple\n",
    "for name, age in ages.items():\n",
    "    print(name, age)"
   ]
  },
  {
   "cell_type": "code",
   "execution_count": 28,
   "id": "b9b4ccce-c6de-4659-bb37-3d3ce2dab0ab",
   "metadata": {},
   "outputs": [
    {
     "name": "stdout",
     "output_type": "stream",
     "text": [
      "input: {'diLmurat': 44, 'Bilal': 25, 'Nijat': 30}\n",
      "processing: list comprehension, unpacked tuples, for-loop\n",
      "output: ['Dilmurat\\t44', 'Bilal\\t25', 'Nijat\\t30']\n"
     ]
    }
   ],
   "source": [
    "# a dictionary of name and age pair\n",
    "ages = {'diLmurat': 44, 'Bilal': 25, 'Nijat': 30}\n",
    "print('input:', ages)\n",
    "\n",
    "print('processing: list comprehension, unpacked tuples, for-loop')\n",
    "new_list = ['\\t'.join((name.title(), str(age))) for name, age in ages.items()]\n",
    "\n",
    "print('output:', new_list)"
   ]
  },
  {
   "cell_type": "markdown",
   "id": "c36bb145-5960-4660-bb63-65cc5849eada",
   "metadata": {},
   "source": [
    "### Use if condition in list comprehension"
   ]
  },
  {
   "cell_type": "code",
   "execution_count": 56,
   "id": "29643f61-992b-4921-b06e-0927aeb8f4ba",
   "metadata": {},
   "outputs": [
    {
     "name": "stdout",
     "output_type": "stream",
     "text": [
      "input & processing: list comprehension, range(0, 11), for-loop, if condition\n",
      "output: [0, 2, 4, 6, 8, 10]\n"
     ]
    }
   ],
   "source": [
    "# filter to excludue odd numbers\n",
    "\n",
    "print('input & processing: list comprehension, range(0, 11), for-loop, if condition')\n",
    "even_list = [num for num in range(0, 11) if num%2 == 0]\n",
    "\n",
    "print('output:', even_list)"
   ]
  },
  {
   "cell_type": "code",
   "execution_count": 57,
   "id": "0e3df94a-ae94-4796-a35c-40f527eee3c7",
   "metadata": {},
   "outputs": [
    {
     "name": "stdout",
     "output_type": "stream",
     "text": [
      "input & processing: list comprehension, range(0, 11), for-loop, if condition\n",
      "output: [1, 3, 5, 7, 9]\n"
     ]
    }
   ],
   "source": [
    "# filter to excludue even numbers\n",
    "\n",
    "print('input & processing: list comprehension, range(0, 11), for-loop, if condition')\n",
    "odd_list = [num for num in range(0, 11) if num%2 != 0]\n",
    "\n",
    "print('output:', odd_list)"
   ]
  },
  {
   "cell_type": "code",
   "execution_count": 58,
   "id": "376704eb-32a7-48e4-a618-89c53b29f649",
   "metadata": {},
   "outputs": [
    {
     "name": "stdout",
     "output_type": "stream",
     "text": [
      "input & processing: list comprehension, range(0, 11), for-loop, inline if\n",
      "output: [0, 1, 4, 27, 16, 125, 36, 343, 64, 729, 100]\n"
     ]
    }
   ],
   "source": [
    "# create a list of numbers: cube of odd and square of even\n",
    "\n",
    "print('input & processing: list comprehension, range(0, 11), for-loop, inline if')\n",
    "square_cube = [num**2 if num%2 == 0 else num**3 for num in range(0, 11)]\n",
    "\n",
    "print('output:', square_cube)"
   ]
  },
  {
   "cell_type": "markdown",
   "id": "750db821-f258-403a-8711-0188b9bb4a3f",
   "metadata": {
    "tags": []
   },
   "source": [
    "## Set comprehesion"
   ]
  },
  {
   "cell_type": "code",
   "execution_count": 59,
   "id": "b4a25a74-d62e-46f9-a6c5-a7c8d2a8500a",
   "metadata": {},
   "outputs": [
    {
     "name": "stdout",
     "output_type": "stream",
     "text": [
      "input & processing: set comprehension, range(0, 11), for-loop, inline if\n",
      "output: {0, 1, 64, 4, 36, 100, 16, 343, 729, 27, 125}\n"
     ]
    }
   ],
   "source": [
    "print('input & processing: set comprehension, range(0, 11), for-loop, inline if')\n",
    "square_cube = {num**2 if num%2 == 0 else num**3 for num in range(0, 11)}\n",
    "\n",
    "print('output:', square_cube)"
   ]
  },
  {
   "cell_type": "markdown",
   "id": "efe170bc-dd2c-486f-91f4-491623150af9",
   "metadata": {},
   "source": [
    "## Dictionary comprehension\n",
    "\n",
    "Create a dictionary maping numbers and their squares or cubes."
   ]
  },
  {
   "cell_type": "code",
   "execution_count": 60,
   "id": "801ee32e-103a-44a0-8a09-61e72f5dee1b",
   "metadata": {},
   "outputs": [
    {
     "name": "stdout",
     "output_type": "stream",
     "text": [
      "input & processing: dictionary comprehension, range(0, 11), for-loop, inline if\n",
      "output: {0: 0, 1: 1, 2: 4, 3: 27, 4: 16, 5: 125, 6: 36, 7: 343, 8: 64, 9: 729, 10: 100}\n"
     ]
    }
   ],
   "source": [
    "print('input & processing: dictionary comprehension, range(0, 11), for-loop, inline if')\n",
    "square_cube = {num : num**2 if num%2 == 0 else num**3 for num in range(0, 11)}\n",
    "\n",
    "print('output:', square_cube)"
   ]
  },
  {
   "cell_type": "markdown",
   "id": "6a77d424-97a6-43c5-b93b-f7c855639079",
   "metadata": {},
   "source": [
    "Create a dictionary from a text"
   ]
  },
  {
   "cell_type": "code",
   "execution_count": 61,
   "id": "b5962804-68ad-492d-a833-14f8e5dc3274",
   "metadata": {},
   "outputs": [
    {
     "name": "stdout",
     "output_type": "stream",
     "text": [
      "input:\n",
      "Dilmurat 44 male\n",
      "Bilal 25 male\n",
      "Dina 1 female\n",
      "\n",
      "processing 1: list comprehension, string, for-loop\n",
      "processing 2: dictionary comprehension, unpacked lists, for-loop\n",
      "\n",
      "output:\n",
      "{'Dilmurat': {'age': 44, 'gender': 'male'}, 'Bilal': {'age': 25, 'gender': 'male'}, 'Dina': {'age': 1, 'gender': 'female'}}\n"
     ]
    }
   ],
   "source": [
    "info = 'Dilmurat 44 male\\nBilal 25 male\\nDina 1 female'\n",
    "print('input:')\n",
    "print(info)\n",
    "print()\n",
    "\n",
    "print('processing 1: list comprehension, string, for-loop')\n",
    "split_info = [item.split() for item in info.split('\\n')]\n",
    "print('processing 2: dictionary comprehension, unpacked lists, for-loop')\n",
    "info_dict = {name: {'age':int(age), 'gender':gender} for name, age, gender in split_info}\n",
    "print()\n",
    "\n",
    "print('output:')\n",
    "print(info_dict)"
   ]
  },
  {
   "cell_type": "markdown",
   "id": "d5e63ff2-4ba4-44cc-be6e-7715797b4517",
   "metadata": {},
   "source": [
    "Filter a dictionary based on values"
   ]
  },
  {
   "cell_type": "code",
   "execution_count": 2,
   "id": "f5282943-5e69-4a5b-822b-0caff51905bb",
   "metadata": {},
   "outputs": [
    {
     "name": "stdout",
     "output_type": "stream",
     "text": [
      "input:\n",
      "{'Dilmurat': {'age': 44, 'gender': 'male'}, 'Bilal': {'age': 25, 'gender': 'male'}, 'Dina': {'age': 1, 'gender': 'female'}}\n",
      "\n",
      "processing: list comprehension, dict items, for loop, if condition, dict\n",
      "\n",
      "output:\n",
      "{'Dilmurat': {'age': 44, 'gender': 'male'}, 'Bilal': {'age': 25, 'gender': 'male'}}\n"
     ]
    }
   ],
   "source": [
    "info_dict = {'Dilmurat': {'age': 44, 'gender': 'male'}, 'Bilal': {'age': 25, 'gender': 'male'}, 'Dina': {'age': 1, 'gender': 'female'}}\n",
    "print('input:')\n",
    "print(info_dict)\n",
    "print()\n",
    "\n",
    "print('processing: list comprehension, dict items, for loop, if condition, dict')\n",
    "filter_dict = {name:info for name, info in info_dict.items() if info['age'] > 20}\n",
    "print()\n",
    "\n",
    "print('output:')\n",
    "print(filter_dict)"
   ]
  }
 ],
 "metadata": {
  "kernelspec": {
   "display_name": "Python 3",
   "language": "python",
   "name": "python3"
  },
  "language_info": {
   "codemirror_mode": {
    "name": "ipython",
    "version": 3
   },
   "file_extension": ".py",
   "mimetype": "text/x-python",
   "name": "python",
   "nbconvert_exporter": "python",
   "pygments_lexer": "ipython3",
   "version": "3.10.1"
  }
 },
 "nbformat": 4,
 "nbformat_minor": 5
}
