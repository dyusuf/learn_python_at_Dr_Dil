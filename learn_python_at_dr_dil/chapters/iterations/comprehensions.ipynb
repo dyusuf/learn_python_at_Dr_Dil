{
 "cells": [
  {
   "cell_type": "markdown",
   "id": "8fc6aa1d-d28e-4a40-ae38-34e7da2d8f51",
   "metadata": {},
   "source": [
    "# Comprehensions\n",
    "\n",
    "`List/set/dictionary` comprehension is a way to build a new `list/set/dictionary` by applying an expression to each item in an iterable such as a `string`, a `list`, a `dictionary`, a `file`, a `range` etc.\n",
    "\n",
    "Advantages:\n",
    "\n",
    "* concise\n",
    "* run substantially faster than for loop"
   ]
  },
  {
   "cell_type": "markdown",
   "id": "366097c2-3f27-467d-9e97-a1cfeaa42f82",
   "metadata": {},
   "source": [
    "## List Comprehension\n",
    "\n",
    "### Make a list of cube numbers from 0 to 4."
   ]
  },
  {
   "cell_type": "code",
   "execution_count": 22,
   "id": "11f7435e-ae2f-463d-90de-177b15800a94",
   "metadata": {},
   "outputs": [
    {
     "name": "stdout",
     "output_type": "stream",
     "text": [
      "[0, 1, 8, 27, 64]\n"
     ]
    }
   ],
   "source": [
    "# make an empty list and append one at a time\n",
    "numbers = [] \n",
    "\n",
    "numbers.append(0**3)\n",
    "numbers.append(1**3)\n",
    "numbers.append(2**3)\n",
    "numbers.append(3**3)\n",
    "numbers.append(4**3)\n",
    "\n",
    "print(numbers)"
   ]
  },
  {
   "cell_type": "code",
   "execution_count": 23,
   "id": "dc42ac81-3b6a-4bac-b38f-78c1d0a8527b",
   "metadata": {},
   "outputs": [
    {
     "name": "stdout",
     "output_type": "stream",
     "text": [
      "[0, 1, 8, 27, 64]\n"
     ]
    }
   ],
   "source": [
    "# make an empty list and append items using for loop\n",
    "numbers = [] \n",
    "\n",
    "for num in range(0, 5):\n",
    "    numbers.append(num**3)\n",
    "    \n",
    "print(numbers)"
   ]
  },
  {
   "cell_type": "code",
   "execution_count": 24,
   "id": "4cee8880-c262-4bfb-b096-c91cbf79f3e4",
   "metadata": {},
   "outputs": [
    {
     "name": "stdout",
     "output_type": "stream",
     "text": [
      "[0, 1, 8, 27, 64]\n"
     ]
    }
   ],
   "source": [
    "# use list comprehension\n",
    "\n",
    "# syntax: [ expression for var in iterable   ]\n",
    "numbers = [ num**3     for num in range(0, 5)]\n",
    "\n",
    "print(numbers)"
   ]
  },
  {
   "cell_type": "markdown",
   "id": "433dbd97-fbde-4976-9f38-adde43cf7c73",
   "metadata": {},
   "source": [
    "### Create a new list from a list of tuples"
   ]
  },
  {
   "cell_type": "code",
   "execution_count": 56,
   "id": "31667cfe-d883-4969-a15a-e3c27364cfb7",
   "metadata": {},
   "outputs": [
    {
     "data": {
      "text/plain": [
       "['Dilmurat:44', 'Bilal:25', 'Nijat:30']"
      ]
     },
     "execution_count": 56,
     "metadata": {},
     "output_type": "execute_result"
    }
   ],
   "source": [
    "# a list of name and age pair\n",
    "ages = [('diLmurat', 44), ('Bilal', 25), ('Nijat', 30)]\n",
    "\n",
    "\n",
    "[':'.join((item[0].title(), str(item[1]))) for item in ages]\n"
   ]
  },
  {
   "cell_type": "code",
   "execution_count": 57,
   "id": "0fc89eb6-b58d-4141-bf48-438ee3850aea",
   "metadata": {},
   "outputs": [
    {
     "data": {
      "text/plain": [
       "['Dilmurat:44', 'Bilal:25', 'Nijat:30']"
      ]
     },
     "execution_count": 57,
     "metadata": {},
     "output_type": "execute_result"
    }
   ],
   "source": [
    "# a list of name and age pair\n",
    "ages = [('diLmurat', 44), ('Bilal', 25), ('Nijat', 30)]\n",
    "\n",
    "[':'.join((name.title(), str(age))) for name, age in ages]"
   ]
  },
  {
   "cell_type": "markdown",
   "id": "0df5070b-73af-444b-9bfc-b40f91f94fdc",
   "metadata": {},
   "source": [
    "### Create a new list from a dictionary\n",
    "\n",
    "Use list comprehension to process dictioary keys, values and items (key:value)."
   ]
  },
  {
   "cell_type": "code",
   "execution_count": 61,
   "id": "b9b4ccce-c6de-4659-bb37-3d3ce2dab0ab",
   "metadata": {},
   "outputs": [
    {
     "data": {
      "text/plain": [
       "['Dilmurat:44', 'Bilal:25', 'Nijat:30']"
      ]
     },
     "execution_count": 61,
     "metadata": {},
     "output_type": "execute_result"
    }
   ],
   "source": [
    "# a dictionary of name and age pair\n",
    "ages = [('diLmurat', 44), ('Bilal', 25), ('Nijat', 30)]\n",
    "\n",
    "[':'.join((name.title(), str(age))) for name, age in ages]"
   ]
  },
  {
   "cell_type": "markdown",
   "id": "c36bb145-5960-4660-bb63-65cc5849eada",
   "metadata": {},
   "source": [
    "### Use if condition in list comprehension"
   ]
  },
  {
   "cell_type": "code",
   "execution_count": 65,
   "id": "29643f61-992b-4921-b06e-0927aeb8f4ba",
   "metadata": {},
   "outputs": [
    {
     "data": {
      "text/plain": [
       "[0, 2, 4, 6, 8, 10]"
      ]
     },
     "execution_count": 65,
     "metadata": {},
     "output_type": "execute_result"
    }
   ],
   "source": [
    "# filter to excludue odd numbers\n",
    "\n",
    "[num for num in range(0, 11) if num%2 == 0]"
   ]
  },
  {
   "cell_type": "code",
   "execution_count": 66,
   "id": "0e3df94a-ae94-4796-a35c-40f527eee3c7",
   "metadata": {},
   "outputs": [
    {
     "data": {
      "text/plain": [
       "[1, 3, 5, 7, 9]"
      ]
     },
     "execution_count": 66,
     "metadata": {},
     "output_type": "execute_result"
    }
   ],
   "source": [
    "# filter to excludue even numbers\n",
    "\n",
    "[num for num in range(0, 11) if num%2 != 0]"
   ]
  },
  {
   "cell_type": "code",
   "execution_count": 80,
   "id": "376704eb-32a7-48e4-a618-89c53b29f649",
   "metadata": {},
   "outputs": [
    {
     "name": "stdout",
     "output_type": "stream",
     "text": [
      "{0, 1, 64, 4, 36, 100, 16, 343, 729, 27, 125}\n"
     ]
    }
   ],
   "source": [
    "# create a list of numbers: cube of odd and square of even\n",
    "\n",
    "square_cube = [num**2 if num%2 == 0 else num**3 for num in range(0, 11)]\n",
    "\n",
    "print(even_odd)"
   ]
  },
  {
   "cell_type": "markdown",
   "id": "750db821-f258-403a-8711-0188b9bb4a3f",
   "metadata": {
    "tags": []
   },
   "source": [
    "## Set comprehesion"
   ]
  },
  {
   "cell_type": "code",
   "execution_count": 81,
   "id": "b4a25a74-d62e-46f9-a6c5-a7c8d2a8500a",
   "metadata": {},
   "outputs": [
    {
     "name": "stdout",
     "output_type": "stream",
     "text": [
      "{0, 1, 64, 4, 36, 100, 16, 343, 729, 27, 125}\n"
     ]
    }
   ],
   "source": [
    "square_cube = {num**2 if num%2 == 0 else num**3 for num in range(0, 11)}\n",
    "print(square_cube)"
   ]
  },
  {
   "cell_type": "markdown",
   "id": "efe170bc-dd2c-486f-91f4-491623150af9",
   "metadata": {},
   "source": [
    "## Dictionary comprehension"
   ]
  },
  {
   "cell_type": "code",
   "execution_count": 82,
   "id": "801ee32e-103a-44a0-8a09-61e72f5dee1b",
   "metadata": {},
   "outputs": [
    {
     "name": "stdout",
     "output_type": "stream",
     "text": [
      "{0: 0, 1: 1, 2: 4, 3: 27, 4: 16, 5: 125, 6: 36, 7: 343, 8: 64, 9: 729, 10: 100}\n"
     ]
    }
   ],
   "source": [
    "square_cube = {num:num**2 if num%2 == 0 else num**3 for num in range(0, 11)}\n",
    "print(square_cube)"
   ]
  }
 ],
 "metadata": {
  "kernelspec": {
   "display_name": "Python 3",
   "language": "python",
   "name": "python3"
  },
  "language_info": {
   "codemirror_mode": {
    "name": "ipython",
    "version": 3
   },
   "file_extension": ".py",
   "mimetype": "text/x-python",
   "name": "python",
   "nbconvert_exporter": "python",
   "pygments_lexer": "ipython3",
   "version": "3.10.1"
  }
 },
 "nbformat": 4,
 "nbformat_minor": 5
}
