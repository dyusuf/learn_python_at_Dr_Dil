{
 "cells": [
  {
   "cell_type": "markdown",
   "id": "c8eefd3e-8fa6-4d72-8f88-7da55b07f30e",
   "metadata": {},
   "source": [
    "# Open Text File\n",
    "\n",
    "## Introduction\n",
    "\n",
    "* One of most common tasks is to write or read files.\n",
    "* A file is to store data in a storage device, primarily identified by its file name. \n",
    "* File types:\n",
    "    * text file: structured as a sequence of characters\n",
    "        * End of Line character or EOL\n",
    "            * Unix: `\\n`\n",
    "            * Windows: `\\r\\n`\n",
    "        \n",
    "    * binary file: \n",
    "        * any type of file that is not a text file, \n",
    "        * processed a program that understands its structure\n",
    "    \n",
    "\n",
    "## Syntax\n",
    "\n",
    "`file_object  = open(\"filename\", \"mode\")`\n",
    "\n",
    "\n",
    "* `x` – Create Mode: create a new file\n",
    "* `w` – Write Mode: overwrite any existing content in a file or create a new file \n",
    "* `r` – Read Mode: default\n",
    "* `a` – Append Mode: append the data to a file without overwriting "
   ]
  },
  {
   "cell_type": "markdown",
   "id": "e2f36d33-4a18-45ac-a77c-1bab61837a91",
   "metadata": {},
   "source": [
    "## Create text file"
   ]
  },
  {
   "cell_type": "code",
   "execution_count": 1,
   "id": "5e1c11e3-41be-48fe-abb2-2d9778e9bc57",
   "metadata": {
    "tags": []
   },
   "outputs": [
    {
     "data": {
      "text/plain": [
       "True"
      ]
     },
     "execution_count": 1,
     "metadata": {},
     "output_type": "execute_result"
    }
   ],
   "source": [
    "import os\n",
    "\n",
    "dir_name = r'/tmp/files'\n",
    "\n",
    "try:\n",
    "    os.mkdir(dir_name)\n",
    "except:\n",
    "    pass\n",
    "\n",
    "testF = dir_name + '/test.txt'\n",
    "\n",
    "try:\n",
    "    # create a new file\n",
    "    open(testF, 'x').close()\n",
    "except:\n",
    "    pass\n",
    "\n",
    "os.path.isfile(testF)    "
   ]
  },
  {
   "cell_type": "markdown",
   "id": "503aa928-a7ff-4e7d-8743-d1971c9267b5",
   "metadata": {},
   "source": [
    "## Write text file"
   ]
  },
  {
   "cell_type": "code",
   "execution_count": 8,
   "id": "0aa57d4f-4066-4ac2-85ae-a43dc2764bfc",
   "metadata": {},
   "outputs": [
    {
     "data": {
      "text/plain": [
       "_io.TextIOWrapper"
      ]
     },
     "execution_count": 8,
     "metadata": {},
     "output_type": "execute_result"
    }
   ],
   "source": [
    "writeF = open(testF, 'w')\n",
    "type(writeF)"
   ]
  },
  {
   "cell_type": "code",
   "execution_count": 9,
   "id": "6f6f3f1f-53de-49a7-a6ca-85e020fa0c02",
   "metadata": {},
   "outputs": [],
   "source": [
    "writeF.write(\"The line 1.\\n\")\n",
    "writeF.write(\"The line 2.\\n\")\n",
    "\n",
    "# don't forget close a file object\n",
    "writeF.close()"
   ]
  },
  {
   "cell_type": "markdown",
   "id": "e649ef56-c251-46d9-9847-7308499039a5",
   "metadata": {},
   "source": [
    "**Note**: `w` overwrites the exsiting content"
   ]
  },
  {
   "cell_type": "markdown",
   "id": "29d6264e-43a0-4772-8585-4778ac4a0462",
   "metadata": {},
   "source": [
    "Q: what will happen to test.txt if I continue to execute the following codes:\n",
    "\n",
    "~~~\n",
    "writeF = open(testF, 'w')\n",
    "writeF.write(\"The line 1.\")\n",
    "writeF.write(\"The line 2.\")\n",
    "~~~\n",
    "\n",
    "what is the issue with the above code?"
   ]
  },
  {
   "cell_type": "markdown",
   "id": "7ce12ccc-b55d-4a38-9dd0-23e148f48e46",
   "metadata": {},
   "source": [
    "Q: write 10 lines into a file,\n",
    "\n",
    "e.g.\n",
    "\n",
    "~~~\n",
    "The line 1.\n",
    "The line 2.\n",
    "...\n",
    "The line 10.\n",
    "~~~"
   ]
  },
  {
   "cell_type": "markdown",
   "id": "3a8af958-ccc3-414e-88bc-1360baa4dd61",
   "metadata": {},
   "source": [
    "## With Statement\n",
    "\n",
    "This statement will close any open file automatically after completing the process."
   ]
  },
  {
   "cell_type": "code",
   "execution_count": 100,
   "id": "6e95121c-ec23-436d-989b-7f025312696c",
   "metadata": {},
   "outputs": [],
   "source": [
    "with open(testF, 'w') as writeF:\n",
    "    writeF.write(\"The 1st line.\\n\")\n",
    "    writeF.write(\"The 2nd line.\\n\")"
   ]
  },
  {
   "cell_type": "markdown",
   "id": "d4ecbedb-ae66-4093-a1fa-03415be031fc",
   "metadata": {
    "tags": []
   },
   "source": [
    "## Read Text File"
   ]
  },
  {
   "cell_type": "code",
   "execution_count": 11,
   "id": "a54939dd-d527-469e-ae1b-c4d5dbad4057",
   "metadata": {},
   "outputs": [
    {
     "name": "stdout",
     "output_type": "stream",
     "text": [
      "The line 1.\n",
      "\n",
      "The line 2.\n",
      "\n"
     ]
    }
   ],
   "source": [
    "with open(testF, 'r') as readF:\n",
    "    # read and print each line of the file\n",
    "    for line in readF:\n",
    "        print(line)"
   ]
  },
  {
   "cell_type": "code",
   "execution_count": 13,
   "id": "e4809126-faef-48dc-933c-2dd15ceb5a68",
   "metadata": {},
   "outputs": [
    {
     "data": {
      "text/plain": [
       "['The line 1.\\n', 'The line 2.\\n']"
      ]
     },
     "execution_count": 13,
     "metadata": {},
     "output_type": "execute_result"
    }
   ],
   "source": [
    "with open(testF, 'r') as readF:\n",
    "    # read lines into a list\n",
    "    lines = readF.readlines()\n",
    "lines "
   ]
  },
  {
   "cell_type": "markdown",
   "id": "95ced8c6-1954-4801-b981-cc21fb40234f",
   "metadata": {},
   "source": [
    "Q: how to merge data from several files?"
   ]
  },
  {
   "cell_type": "markdown",
   "id": "f0b2383c-4574-4ebf-870c-a116a7669e18",
   "metadata": {
    "tags": []
   },
   "source": [
    "## Append Text File"
   ]
  },
  {
   "cell_type": "code",
   "execution_count": 16,
   "id": "798e136e-1566-4a76-b940-47f23cb44058",
   "metadata": {},
   "outputs": [],
   "source": [
    "with open(testF, 'w') as appendF:\n",
    "    appendF.write(\"The 3rd line.\\n\")"
   ]
  },
  {
   "cell_type": "markdown",
   "id": "a09f3cd4-de58-43ce-b084-a694e377ebd8",
   "metadata": {},
   "source": [
    "## Home work\n",
    "\n",
    "1. write the following text to a file\n",
    "2. read the text from the file\n",
    "3. calculate the frequencies of the appeard words\n",
    "4. write the results to a report file with the format -- word: frequency\n",
    "\n",
    "The text:\n",
    "\n",
    "Beautiful is better than ugly.\n",
    "Explicit is better than implicit.\n",
    "Simple is better than complex.\n",
    "Complex is better than complicated.\n",
    "Flat is better than nested.\n",
    "Sparse is better than dense.\n",
    "Readability counts.\n",
    "Special cases aren't special enough to break the rules.\n",
    "Although practicality beats purity.\n",
    "Errors should never pass silently.\n",
    "Unless explicitly silenced.\n",
    "In the face of ambiguity, refuse the temptation to guess.\n",
    "There should be one-- and preferably only one --obvious way to do it.\n",
    "Although that way may not be obvious at first unless you're Dutch.\n",
    "Now is better than never.\n",
    "Although never is often better than *right* now.\n",
    "If the implementation is hard to explain, it's a bad idea.\n",
    "If the implementation is easy to explain, it may be a good idea.\n",
    "Namespaces are one honking great idea -- let's do more of those!"
   ]
  }
 ],
 "metadata": {
  "kernelspec": {
   "display_name": "Python 3 (ipykernel)",
   "language": "python",
   "name": "python3"
  },
  "language_info": {
   "codemirror_mode": {
    "name": "ipython",
    "version": 3
   },
   "file_extension": ".py",
   "mimetype": "text/x-python",
   "name": "python",
   "nbconvert_exporter": "python",
   "pygments_lexer": "ipython3",
   "version": "3.6.4"
  }
 },
 "nbformat": 4,
 "nbformat_minor": 5
}
