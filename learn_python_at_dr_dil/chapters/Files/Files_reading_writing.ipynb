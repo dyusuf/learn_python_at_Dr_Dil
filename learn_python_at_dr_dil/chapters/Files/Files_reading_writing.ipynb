{
 "cells": [
  {
   "cell_type": "markdown",
   "id": "770ebbb9-18b6-4169-8275-9a4cf30843cf",
   "metadata": {},
   "source": [
    "# READING AND WRITING FILES\n",
    "\n",
    "Variables are temporary for storing data while for a 'permnant solution', you need to save data in a file. You can think of a file’s contents as a **single string value**, potentially gigabytes in size. In this chapter, you will learn how to use Python to **create, read, and save files** on the hard drive.\n",
    "\n",
    "## Files and File Paths\n",
    "\n",
    "A file has two key properties: a *path* and  a *filename*.\n",
    "\n",
    "A example: `C:\\Users\\Al\\Documents\\project.docx`\n",
    "\n",
    "  * *filename*: `project.docx`\n",
    "  *  *path*: `C:\\Users\\Al\\Documents` (windows)\n",
    "      * root: `C:\\` (windows), `/` (linux)\n",
    "      * seprator: `\\` (windows), `/` (linux)\n",
    "\n",
    "![image.png](path.png)"
   ]
  },
  {
   "cell_type": "markdown",
   "id": "9efa0105-50b9-465d-8d14-61ed3bf2edd0",
   "metadata": {},
   "source": [
    "## The Current Working Directory"
   ]
  },
  {
   "cell_type": "code",
   "execution_count": 1,
   "id": "f4d80700-dd34-440e-90c7-9692cbd03234",
   "metadata": {},
   "outputs": [
    {
     "data": {
      "text/plain": [
       "PosixPath('/home/cuyghur/python_books/learn_python_at_dr_dil/learn_python_at_dr_dil/chapters/Files')"
      ]
     },
     "execution_count": 1,
     "metadata": {},
     "output_type": "execute_result"
    }
   ],
   "source": [
    "from pathlib import Path\n",
    "import os\n",
    "\n",
    "cwd = Path.cwd() # current working directory\n",
    "\n",
    "cwd"
   ]
  },
  {
   "cell_type": "code",
   "execution_count": 2,
   "id": "2c33bc38-6195-4fe9-8d1b-b0fbc381ef72",
   "metadata": {},
   "outputs": [
    {
     "data": {
      "text/plain": [
       "'/home/cuyghur/python_books/learn_python_at_dr_dil/learn_python_at_dr_dil/chapters/Files'"
      ]
     },
     "execution_count": 2,
     "metadata": {},
     "output_type": "execute_result"
    }
   ],
   "source": [
    "os.getcwd()"
   ]
  },
  {
   "cell_type": "code",
   "execution_count": 4,
   "id": "d3c92db2-83f9-40d7-ac51-bf5950e9ea84",
   "metadata": {},
   "outputs": [],
   "source": [
    "new_dir = '/tmp/test'\n",
    "\n",
    "os.makedirs(new_dir)"
   ]
  },
  {
   "cell_type": "code",
   "execution_count": 5,
   "id": "0fd14ed5-7ac3-4336-9c16-dd833b993cee",
   "metadata": {},
   "outputs": [
    {
     "data": {
      "text/plain": [
       "PosixPath('/tmp/test')"
      ]
     },
     "execution_count": 5,
     "metadata": {},
     "output_type": "execute_result"
    }
   ],
   "source": [
    "os.chdir(new_dir)\n",
    "\n",
    "Path.cwd()"
   ]
  },
  {
   "cell_type": "code",
   "execution_count": 6,
   "id": "b528c83c-a22e-407d-a272-c1ecf9c0146f",
   "metadata": {},
   "outputs": [
    {
     "data": {
      "text/plain": [
       "PosixPath('/home/cuyghur/python_books/learn_python_at_dr_dil/learn_python_at_dr_dil/chapters/Files')"
      ]
     },
     "execution_count": 6,
     "metadata": {},
     "output_type": "execute_result"
    }
   ],
   "source": [
    "os.chdir(cwd)\n",
    "\n",
    "Path.cwd()"
   ]
  },
  {
   "cell_type": "code",
   "execution_count": 7,
   "id": "2c29473c-2661-4dc4-9e33-7056db3a78ae",
   "metadata": {},
   "outputs": [
    {
     "data": {
      "text/plain": [
       "['python_oeguenish_at_dr_dil', 'learn_python_at_dr_dil']"
      ]
     },
     "execution_count": 7,
     "metadata": {},
     "output_type": "execute_result"
    }
   ],
   "source": [
    "new_dir = '/home/cuyghur/python_books/'\n",
    "\n",
    "os.chdir(new_dir)\n",
    "\n",
    "os.listdir(Path.cwd())"
   ]
  },
  {
   "cell_type": "markdown",
   "id": "88017897-da28-4a95-bc44-dffd12eb1f54",
   "metadata": {},
   "source": [
    "## The Home Directory\n",
    "\n",
    "All users have a folder for their own files on the computer called the home directory or home folder.\n",
    "\n",
    "The home directories are located in a set place depending on your operating system:\n",
    "\n",
    "   * On Windows, home directories are under `C:\\Users`.\n",
    "   * On Mac, home directories are under `/Users`.\n",
    "   * On Linux, home directories are often under `/home`."
   ]
  },
  {
   "cell_type": "code",
   "execution_count": 8,
   "id": "ee2d5ac1-7b65-49f1-9be0-ec8d0b77257f",
   "metadata": {},
   "outputs": [
    {
     "data": {
      "text/plain": [
       "PosixPath('/home/cuyghur')"
      ]
     },
     "execution_count": 8,
     "metadata": {},
     "output_type": "execute_result"
    }
   ],
   "source": [
    "Path.home()"
   ]
  },
  {
   "cell_type": "markdown",
   "id": "5cd7a0ad-e46d-45fb-9952-63b52930e8cf",
   "metadata": {},
   "source": [
    "## Absolute vs. Relative Paths\n",
    "\n",
    "There are two ways to specify a file path:\n",
    "\n",
    "   * An absolute path, which always begins with the root folder\n",
    "   * A relative path, which is relative to the program’s current working directory\n",
    "   \n",
    "![image.png](path_rel_abs.png)   "
   ]
  },
  {
   "cell_type": "code",
   "execution_count": 2,
   "id": "31a74c1a-cd1f-41d9-b400-bf6cd05f7ce2",
   "metadata": {},
   "outputs": [
    {
     "data": {
      "text/plain": [
       "PosixPath('/home/cuyghur/python_books/learn_python_at_dr_dil/learn_python_at_dr_dil/chapters/Files/bla')"
      ]
     },
     "execution_count": 2,
     "metadata": {},
     "output_type": "execute_result"
    }
   ],
   "source": [
    "import os\n",
    "from pathlib import Path\n",
    "\n",
    "cwd = Path.cwd()\n",
    "\n",
    "cwd\n",
    "\n",
    "cwd/'bla'"
   ]
  },
  {
   "cell_type": "code",
   "execution_count": 12,
   "id": "1146e399-5224-4dd4-9767-e148ddda33a5",
   "metadata": {},
   "outputs": [
    {
     "name": "stdout",
     "output_type": "stream",
     "text": [
      "path\\bla\n"
     ]
    }
   ],
   "source": [
    "print('path\\\\bla')"
   ]
  },
  {
   "cell_type": "code",
   "execution_count": 13,
   "id": "512ad911-2191-44cb-85f1-3c6389b6c25a",
   "metadata": {},
   "outputs": [
    {
     "data": {
      "text/plain": [
       "PosixPath('/home/cuyghur/python_books/learn_python_at_dr_dil/learn_python_at_dr_dil/chapters')"
      ]
     },
     "execution_count": 13,
     "metadata": {},
     "output_type": "execute_result"
    }
   ],
   "source": [
    "os.chdir('../')\n",
    "Path.cwd()"
   ]
  },
  {
   "cell_type": "code",
   "execution_count": 14,
   "id": "85707ec1-0581-41f5-9d2f-624ac3b429a2",
   "metadata": {},
   "outputs": [
    {
     "data": {
      "text/plain": [
       "PosixPath('/home/cuyghur/python_books/learn_python_at_dr_dil/learn_python_at_dr_dil/chapters/Files')"
      ]
     },
     "execution_count": 14,
     "metadata": {},
     "output_type": "execute_result"
    }
   ],
   "source": [
    "os.chdir(cwd)\n",
    "Path.cwd()"
   ]
  },
  {
   "cell_type": "code",
   "execution_count": 12,
   "id": "6e0372bc-98c3-4468-8f3c-815e0f5235f0",
   "metadata": {},
   "outputs": [
    {
     "data": {
      "text/plain": [
       "PosixPath('/home/cuyghur/python_books')"
      ]
     },
     "execution_count": 12,
     "metadata": {},
     "output_type": "execute_result"
    }
   ],
   "source": [
    "os.chdir('.')\n",
    "Path.cwd()"
   ]
  },
  {
   "cell_type": "markdown",
   "id": "6377925c-418f-4ec7-8ecd-57420ed341d0",
   "metadata": {},
   "source": [
    "## Creating New Folders "
   ]
  },
  {
   "cell_type": "code",
   "execution_count": 24,
   "id": "f52636e1-860c-4cb7-a155-976b5f09364e",
   "metadata": {},
   "outputs": [
    {
     "data": {
      "text/plain": [
       "['data_structure',\n",
       " 'iterations',\n",
       " 'control_flow',\n",
       " 'functions',\n",
       " 'Files',\n",
       " '.ipynb_checkpoints']"
      ]
     },
     "execution_count": 24,
     "metadata": {},
     "output_type": "execute_result"
    }
   ],
   "source": [
    "import os\n",
    "\n",
    "os.listdir(cwd/'learn_python_at_dr_dil/learn_python_at_dr_dil/chapters/')"
   ]
  },
  {
   "cell_type": "code",
   "execution_count": 23,
   "id": "69e66f5b-3b1a-43c8-940d-abe09faeecad",
   "metadata": {},
   "outputs": [
    {
     "data": {
      "text/plain": [
       "PosixPath('/home/cuyghur/python_books')"
      ]
     },
     "execution_count": 23,
     "metadata": {},
     "output_type": "execute_result"
    }
   ],
   "source": [
    "os.chdir('/home/cuyghur/python_books')\n",
    "cwd = Path.cwd()\n",
    "cwd"
   ]
  },
  {
   "cell_type": "code",
   "execution_count": 25,
   "id": "3690d68c-800f-4a2c-8f82-547ff8b6d711",
   "metadata": {},
   "outputs": [
    {
     "ename": "FileExistsError",
     "evalue": "[Errno 17] File exists: '/home/cuyghur/python_books/learn_python_at_dr_dil/learn_python_at_dr_dil/chapters/Files'",
     "output_type": "error",
     "traceback": [
      "\u001b[0;31m---------------------------------------------------------------------------\u001b[0m",
      "\u001b[0;31mFileExistsError\u001b[0m                           Traceback (most recent call last)",
      "\u001b[0;32m/tmp/ipykernel_30747/3821635529.py\u001b[0m in \u001b[0;36m<module>\u001b[0;34m\u001b[0m\n\u001b[1;32m      3\u001b[0m \u001b[0mfolder_file\u001b[0m \u001b[0;34m=\u001b[0m \u001b[0mcwd\u001b[0m\u001b[0;34m/\u001b[0m\u001b[0;34m'learn_python_at_dr_dil/learn_python_at_dr_dil/chapters/'\u001b[0m\u001b[0;34m/\u001b[0m\u001b[0;34m'Files'\u001b[0m\u001b[0;34m\u001b[0m\u001b[0;34m\u001b[0m\u001b[0m\n\u001b[1;32m      4\u001b[0m \u001b[0;34m\u001b[0m\u001b[0m\n\u001b[0;32m----> 5\u001b[0;31m \u001b[0mos\u001b[0m\u001b[0;34m.\u001b[0m\u001b[0mmakedirs\u001b[0m\u001b[0;34m(\u001b[0m\u001b[0mfolder_file\u001b[0m\u001b[0;34m)\u001b[0m\u001b[0;34m\u001b[0m\u001b[0;34m\u001b[0m\u001b[0m\n\u001b[0m\u001b[1;32m      6\u001b[0m \u001b[0mos\u001b[0m\u001b[0;34m.\u001b[0m\u001b[0mchdir\u001b[0m\u001b[0;34m(\u001b[0m\u001b[0mfolder_file\u001b[0m\u001b[0;34m)\u001b[0m\u001b[0;34m\u001b[0m\u001b[0;34m\u001b[0m\u001b[0m\n\u001b[1;32m      7\u001b[0m \u001b[0mos\u001b[0m\u001b[0;34m.\u001b[0m\u001b[0mgetcwd\u001b[0m\u001b[0;34m(\u001b[0m\u001b[0;34m)\u001b[0m\u001b[0;34m\u001b[0m\u001b[0;34m\u001b[0m\u001b[0m\n",
      "\u001b[0;32m~/miniconda3/envs/Python_book/lib/python3.10/os.py\u001b[0m in \u001b[0;36mmakedirs\u001b[0;34m(name, mode, exist_ok)\u001b[0m\n\u001b[1;32m    223\u001b[0m             \u001b[0;32mreturn\u001b[0m\u001b[0;34m\u001b[0m\u001b[0;34m\u001b[0m\u001b[0m\n\u001b[1;32m    224\u001b[0m     \u001b[0;32mtry\u001b[0m\u001b[0;34m:\u001b[0m\u001b[0;34m\u001b[0m\u001b[0;34m\u001b[0m\u001b[0m\n\u001b[0;32m--> 225\u001b[0;31m         \u001b[0mmkdir\u001b[0m\u001b[0;34m(\u001b[0m\u001b[0mname\u001b[0m\u001b[0;34m,\u001b[0m \u001b[0mmode\u001b[0m\u001b[0;34m)\u001b[0m\u001b[0;34m\u001b[0m\u001b[0;34m\u001b[0m\u001b[0m\n\u001b[0m\u001b[1;32m    226\u001b[0m     \u001b[0;32mexcept\u001b[0m \u001b[0mOSError\u001b[0m\u001b[0;34m:\u001b[0m\u001b[0;34m\u001b[0m\u001b[0;34m\u001b[0m\u001b[0m\n\u001b[1;32m    227\u001b[0m         \u001b[0;31m# Cannot rely on checking for EEXIST, since the operating system\u001b[0m\u001b[0;34m\u001b[0m\u001b[0;34m\u001b[0m\u001b[0m\n",
      "\u001b[0;31mFileExistsError\u001b[0m: [Errno 17] File exists: '/home/cuyghur/python_books/learn_python_at_dr_dil/learn_python_at_dr_dil/chapters/Files'"
     ]
    }
   ],
   "source": [
    "import os\n",
    "\n",
    "folder_file = cwd/'learn_python_at_dr_dil/learn_python_at_dr_dil/chapters/'/'Files'\n",
    "\n",
    "os.makedirs(folder_file)\n",
    "os.chdir(folder_file)\n",
    "os.getcwd()"
   ]
  },
  {
   "cell_type": "markdown",
   "id": "54c78c97-071f-4572-95be-db65d31c00ac",
   "metadata": {},
   "source": [
    "## Get Absolute Paths"
   ]
  },
  {
   "cell_type": "code",
   "execution_count": 16,
   "id": "6b3d5ea7-278a-4640-8dc8-1033238668fc",
   "metadata": {},
   "outputs": [
    {
     "data": {
      "text/plain": [
       "'/home/cuyghur/python_books/learn_python_at_dr_dil/learn_python_at_dr_dil/chapters/Files'"
      ]
     },
     "execution_count": 16,
     "metadata": {},
     "output_type": "execute_result"
    }
   ],
   "source": [
    "import os\n",
    "\n",
    "os.path.abspath('.')"
   ]
  },
  {
   "cell_type": "code",
   "execution_count": 17,
   "id": "be53f846-d9af-4dcb-a419-c649fb942fd2",
   "metadata": {},
   "outputs": [
    {
     "data": {
      "text/plain": [
       "'/home/cuyghur/python_books/learn_python_at_dr_dil/learn_python_at_dr_dil/chapters'"
      ]
     },
     "execution_count": 17,
     "metadata": {},
     "output_type": "execute_result"
    }
   ],
   "source": [
    "os.path.abspath('..')"
   ]
  },
  {
   "cell_type": "code",
   "execution_count": 18,
   "id": "ef0f09b2-3cc7-4faa-91a4-3b79ae761285",
   "metadata": {},
   "outputs": [
    {
     "data": {
      "text/plain": [
       "False"
      ]
     },
     "execution_count": 18,
     "metadata": {},
     "output_type": "execute_result"
    }
   ],
   "source": [
    "os.path.isabs('.')"
   ]
  },
  {
   "cell_type": "code",
   "execution_count": 19,
   "id": "99e64850-e721-47e1-b6dd-6eecefd022ff",
   "metadata": {},
   "outputs": [
    {
     "data": {
      "text/plain": [
       "True"
      ]
     },
     "execution_count": 19,
     "metadata": {},
     "output_type": "execute_result"
    }
   ],
   "source": [
    "os.path.isabs(os.path.abspath('.'))"
   ]
  },
  {
   "attachments": {
    "de60a208-e65e-46ad-a02f-2b071071d232.png": {
     "image/png": "[encoded data removed]"
    }
   },
   "cell_type": "markdown",
   "id": "a6539ff7-9014-4bef-976f-0582b7fea803",
   "metadata": {},
   "source": [
    "## Getting the Parts of a File Path\n",
    "\n",
    "![image.png](attachment:de60a208-e65e-46ad-a02f-2b071071d232.png)"
   ]
  },
  {
   "cell_type": "code",
   "execution_count": 20,
   "id": "377d859e-8508-477f-bd8f-621f95dc1980",
   "metadata": {},
   "outputs": [
    {
     "data": {
      "text/plain": [
       "['.git',\n",
       " 'LICENSE',\n",
       " 'requirements.txt',\n",
       " 'CONDUCT.md',\n",
       " 'README.md',\n",
       " '.github',\n",
       " 'CONTRIBUTING.md',\n",
       " '.ipynb_checkpoints',\n",
       " 'learn_python_at_dr_dil']"
      ]
     },
     "execution_count": 20,
     "metadata": {},
     "output_type": "execute_result"
    }
   ],
   "source": [
    "import os\n",
    "\n",
    "os.chdir('/home/cuyghur/python_books/learn_python_at_dr_dil/')\n",
    "\n",
    "os.listdir('.')"
   ]
  },
  {
   "cell_type": "code",
   "execution_count": 21,
   "id": "9ab4708f-e3d1-4c77-bc15-03d81bffb7d5",
   "metadata": {},
   "outputs": [
    {
     "data": {
      "text/plain": [
       "PosixPath('/home/cuyghur/python_books/learn_python_at_dr_dil/CONDUCT.md')"
      ]
     },
     "execution_count": 21,
     "metadata": {},
     "output_type": "execute_result"
    }
   ],
   "source": [
    "from pathlib import Path\n",
    "\n",
    "cwf = Path.cwd()/os.listdir('.')[3]\n",
    "\n",
    "cwf"
   ]
  },
  {
   "cell_type": "code",
   "execution_count": 22,
   "id": "be00478a-d2ed-4fc1-a00d-5ab4311e1d27",
   "metadata": {},
   "outputs": [
    {
     "data": {
      "text/plain": [
       "'/'"
      ]
     },
     "execution_count": 22,
     "metadata": {},
     "output_type": "execute_result"
    }
   ],
   "source": [
    "cwf.anchor"
   ]
  },
  {
   "cell_type": "code",
   "execution_count": 23,
   "id": "42a7daf4-257b-42cc-a665-dccf7dd2b581",
   "metadata": {},
   "outputs": [
    {
     "data": {
      "text/plain": [
       "PosixPath('/home/cuyghur')"
      ]
     },
     "execution_count": 23,
     "metadata": {},
     "output_type": "execute_result"
    }
   ],
   "source": [
    "cwd.parent"
   ]
  },
  {
   "cell_type": "code",
   "execution_count": 24,
   "id": "1f09b0e3-5aaf-418e-8ecc-de23f29a7b9d",
   "metadata": {},
   "outputs": [
    {
     "data": {
      "text/plain": [
       "'python_books'"
      ]
     },
     "execution_count": 24,
     "metadata": {},
     "output_type": "execute_result"
    }
   ],
   "source": [
    "cwd.name"
   ]
  },
  {
   "cell_type": "code",
   "execution_count": 25,
   "id": "55e52b76-9724-4fc6-899e-e111cc4d6ccf",
   "metadata": {},
   "outputs": [
    {
     "data": {
      "text/plain": [
       "'python_books'"
      ]
     },
     "execution_count": 25,
     "metadata": {},
     "output_type": "execute_result"
    }
   ],
   "source": [
    "cwd.stem"
   ]
  },
  {
   "cell_type": "code",
   "execution_count": 26,
   "id": "3c6eb657-b81a-4ab4-8911-45852e715a1e",
   "metadata": {},
   "outputs": [
    {
     "data": {
      "text/plain": [
       "''"
      ]
     },
     "execution_count": 26,
     "metadata": {},
     "output_type": "execute_result"
    }
   ],
   "source": [
    "cwd.suffix"
   ]
  },
  {
   "cell_type": "code",
   "execution_count": 27,
   "id": "ca0f1761-ec63-4ede-a5c4-54c8c5caa3a2",
   "metadata": {},
   "outputs": [
    {
     "data": {
      "text/plain": [
       "''"
      ]
     },
     "execution_count": 27,
     "metadata": {},
     "output_type": "execute_result"
    }
   ],
   "source": [
    "cwd.drive"
   ]
  },
  {
   "cell_type": "code",
   "execution_count": 28,
   "id": "87b171fa-0429-469b-8962-f8059cc11f22",
   "metadata": {},
   "outputs": [
    {
     "data": {
      "text/plain": [
       "'CONDUCT.md'"
      ]
     },
     "execution_count": 28,
     "metadata": {},
     "output_type": "execute_result"
    }
   ],
   "source": [
    "os.path.basename(cwf)"
   ]
  },
  {
   "cell_type": "code",
   "execution_count": 29,
   "id": "a5a4ec8a-cecd-4d1d-a716-b5dc063f9dac",
   "metadata": {},
   "outputs": [
    {
     "data": {
      "text/plain": [
       "'/home/cuyghur/python_books/learn_python_at_dr_dil'"
      ]
     },
     "execution_count": 29,
     "metadata": {},
     "output_type": "execute_result"
    }
   ],
   "source": [
    "os.path.dirname(cwf)"
   ]
  },
  {
   "cell_type": "code",
   "execution_count": 30,
   "id": "cabd022a-5aec-4c64-9954-b1d5c066b88d",
   "metadata": {},
   "outputs": [
    {
     "data": {
      "text/plain": [
       "('/home/cuyghur/python_books/learn_python_at_dr_dil', 'CONDUCT.md')"
      ]
     },
     "execution_count": 30,
     "metadata": {},
     "output_type": "execute_result"
    }
   ],
   "source": [
    "os.path.split(cwf)"
   ]
  },
  {
   "cell_type": "code",
   "execution_count": 31,
   "id": "6d60b5c9-3b63-4520-99ac-45a395c52f53",
   "metadata": {},
   "outputs": [
    {
     "data": {
      "text/plain": [
       "['', 'home', 'cuyghur', 'python_books', 'learn_python_at_dr_dil', 'CONDUCT.md']"
      ]
     },
     "execution_count": 31,
     "metadata": {},
     "output_type": "execute_result"
    }
   ],
   "source": [
    "str(cwf).split(os.sep)"
   ]
  },
  {
   "cell_type": "markdown",
   "id": "447baf52-dfd3-4cf5-b13e-80ceed392ece",
   "metadata": {},
   "source": [
    "## Finding File Sizes and Folder Contents"
   ]
  },
  {
   "cell_type": "code",
   "execution_count": 28,
   "id": "78fced9d-837c-4dca-976b-b5709f9752eb",
   "metadata": {},
   "outputs": [
    {
     "data": {
      "text/plain": [
       "PosixPath('/home/cuyghur/python_books')"
      ]
     },
     "execution_count": 28,
     "metadata": {},
     "output_type": "execute_result"
    }
   ],
   "source": [
    "Path.cwd()"
   ]
  },
  {
   "cell_type": "code",
   "execution_count": 29,
   "id": "4f0877fd-bb13-44f8-8da2-79926edfca68",
   "metadata": {},
   "outputs": [
    {
     "data": {
      "text/plain": [
       "['python_oeguenish_at_dr_dil', 'learn_python_at_dr_dil']"
      ]
     },
     "execution_count": 29,
     "metadata": {},
     "output_type": "execute_result"
    }
   ],
   "source": [
    "os.listdir('.')"
   ]
  },
  {
   "cell_type": "code",
   "execution_count": 37,
   "id": "bc94eadb-936b-4b69-970d-0c28ef8a7b68",
   "metadata": {},
   "outputs": [
    {
     "data": {
      "text/plain": [
       "PosixPath('/home/cuyghur/python_books/learn_python_at_dr_dil/requirements.txt')"
      ]
     },
     "execution_count": 37,
     "metadata": {},
     "output_type": "execute_result"
    }
   ],
   "source": [
    "cwf = Path.cwd()/'learn_python_at_dr_dil'\n",
    "cwf = cwf/'requirements.txt'\n",
    "cwf"
   ]
  },
  {
   "cell_type": "code",
   "execution_count": 39,
   "id": "38d51388-7baf-4047-a88a-56de3d065baa",
   "metadata": {},
   "outputs": [
    {
     "data": {
      "text/plain": [
       "40"
      ]
     },
     "execution_count": 39,
     "metadata": {},
     "output_type": "execute_result"
    }
   ],
   "source": [
    "os.path.getsize(cwf)"
   ]
  },
  {
   "cell_type": "code",
   "execution_count": 52,
   "id": "65be7cb6-4b28-4d07-badb-0f7befb562e6",
   "metadata": {},
   "outputs": [
    {
     "data": {
      "text/plain": [
       "['.git',\n",
       " 'LICENSE',\n",
       " 'requirements.txt',\n",
       " 'CONDUCT.md',\n",
       " 'README.md',\n",
       " '.github',\n",
       " 'CONTRIBUTING.md',\n",
       " '.ipynb_checkpoints',\n",
       " 'learn_python_at_dr_dil']"
      ]
     },
     "execution_count": 52,
     "metadata": {},
     "output_type": "execute_result"
    }
   ],
   "source": [
    "os.listdir('./learn_python_at_dr_dil')"
   ]
  },
  {
   "cell_type": "code",
   "execution_count": 54,
   "id": "f27dc2d4-a042-471e-bfe1-64f84ff40ff4",
   "metadata": {},
   "outputs": [
    {
     "data": {
      "text/plain": [
       "'/home/cuyghur/python_books'"
      ]
     },
     "execution_count": 54,
     "metadata": {},
     "output_type": "execute_result"
    }
   ],
   "source": [
    "os.getcwd()"
   ]
  },
  {
   "cell_type": "code",
   "execution_count": 63,
   "id": "636b89e5-25bc-4cee-97aa-df70566da5bb",
   "metadata": {},
   "outputs": [
    {
     "data": {
      "text/plain": [
       "\u001b[0;31mSignature:\u001b[0m \u001b[0mos\u001b[0m\u001b[0;34m.\u001b[0m\u001b[0mpath\u001b[0m\u001b[0;34m.\u001b[0m\u001b[0misfile\u001b[0m\u001b[0;34m(\u001b[0m\u001b[0mpath\u001b[0m\u001b[0;34m)\u001b[0m\u001b[0;34m\u001b[0m\u001b[0;34m\u001b[0m\u001b[0m\n",
       "\u001b[0;31mDocstring:\u001b[0m Test whether a path is a regular file\n",
       "\u001b[0;31mFile:\u001b[0m      ~/miniconda3/envs/Python_book/lib/python3.10/genericpath.py\n",
       "\u001b[0;31mType:\u001b[0m      function\n"
      ]
     },
     "metadata": {},
     "output_type": "display_data"
    }
   ],
   "source": [
    "?os.path.isfile"
   ]
  },
  {
   "cell_type": "code",
   "execution_count": 4,
   "id": "8be87863-29b2-4bd4-aeb0-beed5f1bc360",
   "metadata": {},
   "outputs": [
    {
     "data": {
      "text/plain": [
       "'/home/cuyghur/python_books/learn_python_at_dr_dil/learn_python_at_dr_dil/chapters/Files'"
      ]
     },
     "execution_count": 4,
     "metadata": {},
     "output_type": "execute_result"
    }
   ],
   "source": [
    "os.getcwd()"
   ]
  },
  {
   "cell_type": "code",
   "execution_count": 15,
   "id": "9e47a7ac-a571-4817-9fbb-cea88900624e",
   "metadata": {},
   "outputs": [
    {
     "name": "stdout",
     "output_type": "stream",
     "text": [
      "logo.png, file, 0.036302M\n",
      "_config.yml, file, 0.001518M\n",
      "python_books, directory, 0.004096M\n",
      "chapters, directory, 0.004096M\n",
      "_build, directory, 0.004096M\n",
      "index.ipynb, file, 0.004995M\n",
      ".ipynb_checkpoints, directory, 0.004096M\n",
      "demo.ipynb, file, 0.02343M\n",
      "logo.svg, file, 0.007923M\n",
      "_toc.yml, file, 0.00036M\n"
     ]
    }
   ],
   "source": [
    "import os\n",
    "os.chdir('/home/cuyghur/python_books/learn_python_at_dr_dil/learn_python_at_dr_dil')\n",
    "\n",
    "for file in os.listdir('.'):\n",
    "    file = f'{file}'\n",
    "    if os.path.isfile(file):\n",
    "        path = 'file'\n",
    "    elif os.path.isdir(file):     \n",
    "        path = 'directory'\n",
    "        \n",
    "    size = os.path.getsize(file)\n",
    "    \n",
    "    print(f\"{file}, {path}, {size/10**6}M\")"
   ]
  },
  {
   "cell_type": "code",
   "execution_count": 34,
   "id": "f2483c91-9a4a-4917-954c-0969e4b07505",
   "metadata": {},
   "outputs": [
    {
     "data": {
      "text/plain": [
       "['python_oeguenish_at_dr_dil', 'learn_python_at_dr_dil']"
      ]
     },
     "execution_count": 34,
     "metadata": {},
     "output_type": "execute_result"
    }
   ],
   "source": [
    "os.listdir('..')"
   ]
  },
  {
   "cell_type": "code",
   "execution_count": 35,
   "id": "b524d396-4cdd-4588-b982-c9336a5def66",
   "metadata": {},
   "outputs": [
    {
     "data": {
      "text/plain": [
       "24899"
      ]
     },
     "execution_count": 35,
     "metadata": {},
     "output_type": "execute_result"
    }
   ],
   "source": [
    "totalSize = 0\n",
    "for filename in os.listdir('.'):\n",
    "    totalSize = totalSize + os.path.getsize(os.path.join('.', filename))\n",
    "totalSize   "
   ]
  },
  {
   "cell_type": "markdown",
   "id": "f8917b74-8770-4971-b148-b1e25b5e60ea",
   "metadata": {},
   "source": [
    "## Find files/directories with a pattern"
   ]
  },
  {
   "cell_type": "markdown",
   "id": "1fd93425-38a1-4548-abe0-2f746419e52a",
   "metadata": {},
   "source": [
    "### A Problem: `How to find files with a pattern?`\n",
    "\n",
    "An Example:\n",
    "\n",
    "At `/home/cuyghur/python_books/learn_python_at_dr_dil/`, \n",
    "\n",
    "the content are:\n",
    "\n",
    "* .git\n",
    "* LICENSE\n",
    "* requirements.txt\n",
    "* CONDUCT.md\n",
    "* README.md\n",
    "* .github\n",
    "* CONTRIBUTING.md\n",
    "* .ipynb_checkpoints\n",
    "* learn_python_at_dr_dil\n",
    "\n",
    "how to find the files with the suffix `md`?\n",
    "\n",
    "The solution is following:\n",
    "\n",
    "`glob.glob(pathname)`"
   ]
  },
  {
   "cell_type": "code",
   "execution_count": 75,
   "id": "d92cc53f-54c9-438c-84c9-7556d0cf99ed",
   "metadata": {},
   "outputs": [
    {
     "data": {
      "text/plain": [
       "['/home/cuyghur/python_books/learn_python_at_dr_dil/CONDUCT.md',\n",
       " '/home/cuyghur/python_books/learn_python_at_dr_dil/README.md',\n",
       " '/home/cuyghur/python_books/learn_python_at_dr_dil/CONTRIBUTING.md']"
      ]
     },
     "execution_count": 75,
     "metadata": {},
     "output_type": "execute_result"
    }
   ],
   "source": [
    "import glob\n",
    "\n",
    "wd = \"/home/cuyghur/python_books/learn_python_at_dr_dil/\"\n",
    "\n",
    "md_files = glob.glob(wd+'/*md')\n",
    "\n",
    "md_files"
   ]
  },
  {
   "cell_type": "code",
   "execution_count": 76,
   "id": "dbe969fb-d84f-4f74-bf62-0811afa73e9f",
   "metadata": {},
   "outputs": [
    {
     "data": {
      "text/plain": [
       "['CONDUCT.md', 'README.md', 'CONTRIBUTING.md']"
      ]
     },
     "execution_count": 76,
     "metadata": {},
     "output_type": "execute_result"
    }
   ],
   "source": [
    "from pathlib import Path\n",
    "\n",
    "[Path(file).name for file in md_files]"
   ]
  },
  {
   "cell_type": "markdown",
   "id": "d02e728e-9268-453d-be92-135962c50f1a",
   "metadata": {},
   "source": [
    "### Search Files Using Wildcard Characters\n",
    "\n",
    "~~~\n",
    "* : Matches everything \n",
    "*.md -> 'CONDUCT.md', 'README.md', 'CONTRIBUTING.md'\n",
    "\n",
    "? : Matches any single character \n",
    "??????.md -> README.md\n",
    "\n",
    "[]: Matches any character in the sequence  \n",
    "[RDE]*md -> 'README.md'\n",
    "\n",
    "[!]: Matches any character not in sequence \n",
    "[!RDE]*md -> 'CONDUCT.md', 'CONTRIBUTING.md'\n",
    "~~~"
   ]
  },
  {
   "cell_type": "code",
   "execution_count": 77,
   "id": "7e9fe30b-43fd-4571-9399-4eed231ca6a4",
   "metadata": {},
   "outputs": [
    {
     "data": {
      "text/plain": [
       "['/home/cuyghur/python_books/learn_python_at_dr_dil/README.md']"
      ]
     },
     "execution_count": 77,
     "metadata": {},
     "output_type": "execute_result"
    }
   ],
   "source": [
    "md_files = glob.glob(wd+'/??????.md')\n",
    "\n",
    "md_files"
   ]
  },
  {
   "cell_type": "code",
   "execution_count": 78,
   "id": "79948613-4594-45af-a2f3-7b09750fdca8",
   "metadata": {},
   "outputs": [
    {
     "data": {
      "text/plain": [
       "['/home/cuyghur/python_books/learn_python_at_dr_dil/README.md']"
      ]
     },
     "execution_count": 78,
     "metadata": {},
     "output_type": "execute_result"
    }
   ],
   "source": [
    "md_files = glob.glob(wd+'/[RDE]*.md')\n",
    "\n",
    "md_files"
   ]
  },
  {
   "cell_type": "code",
   "execution_count": 79,
   "id": "71715819-b6e3-4f38-9125-a6bda2bdc4c3",
   "metadata": {},
   "outputs": [
    {
     "data": {
      "text/plain": [
       "['/home/cuyghur/python_books/learn_python_at_dr_dil/CONDUCT.md',\n",
       " '/home/cuyghur/python_books/learn_python_at_dr_dil/CONTRIBUTING.md']"
      ]
     },
     "execution_count": 79,
     "metadata": {},
     "output_type": "execute_result"
    }
   ],
   "source": [
    "md_files = glob.glob(wd+'/[!RDE]*.md')\n",
    "\n",
    "md_files"
   ]
  },
  {
   "cell_type": "markdown",
   "id": "ee31acb3-6d06-41aa-8011-34fd6fa3935e",
   "metadata": {},
   "source": [
    "### Search files in all subdirectories\n",
    "\n",
    "An Example:\n",
    "\n",
    "How to recursively find the `png` files of sub-directories at `/home/cuyghur/python_books/learn_python_at_dr_dil/`?\n",
    "\n",
    "\n",
    "Solution:"
   ]
  },
  {
   "cell_type": "code",
   "execution_count": 81,
   "id": "9323b823-651e-437d-870e-49531c39170b",
   "metadata": {},
   "outputs": [
    {
     "data": {
      "text/plain": [
       "['/home/cuyghur/python_books/learn_python_at_dr_dil/learn_python_at_dr_dil/logo.png',\n",
       " '/home/cuyghur/python_books/learn_python_at_dr_dil/learn_python_at_dr_dil/chapters/data_structure/dictionary_concept.png',\n",
       " '/home/cuyghur/python_books/learn_python_at_dr_dil/learn_python_at_dr_dil/_build/html/_static/logo.png',\n",
       " '/home/cuyghur/python_books/learn_python_at_dr_dil/learn_python_at_dr_dil/_build/html/_static/file.png',\n",
       " '/home/cuyghur/python_books/learn_python_at_dr_dil/learn_python_at_dr_dil/_build/html/_static/minus.png',\n",
       " '/home/cuyghur/python_books/learn_python_at_dr_dil/learn_python_at_dr_dil/_build/html/_static/plus.png',\n",
       " '/home/cuyghur/python_books/learn_python_at_dr_dil/learn_python_at_dr_dil/_build/html/_static/images/logo_colab.png',\n",
       " '/home/cuyghur/python_books/learn_python_at_dr_dil/learn_python_at_dr_dil/_build/html/_images/dictionary_concept.png',\n",
       " '/home/cuyghur/python_books/learn_python_at_dr_dil/learn_python_at_dr_dil/_build/_page/chapters-Files-Files_reading_writing/html/_static/file.png',\n",
       " '/home/cuyghur/python_books/learn_python_at_dr_dil/learn_python_at_dr_dil/_build/_page/chapters-Files-Files_reading_writing/html/_static/minus.png',\n",
       " '/home/cuyghur/python_books/learn_python_at_dr_dil/learn_python_at_dr_dil/_build/_page/chapters-Files-Files_reading_writing/html/_static/plus.png',\n",
       " '/home/cuyghur/python_books/learn_python_at_dr_dil/learn_python_at_dr_dil/_build/_page/chapters-Files-Files_reading_writing/html/_static/images/logo_colab.png']"
      ]
     },
     "execution_count": 81,
     "metadata": {},
     "output_type": "execute_result"
    }
   ],
   "source": [
    "import glob\n",
    "\n",
    "wd = \"/home/cuyghur/python_books/learn_python_at_dr_dil/\"\n",
    "glob.glob(wd+\"/**/*png\", recursive=True)  "
   ]
  },
  {
   "cell_type": "markdown",
   "id": "d8d4f8e6-5a19-4eba-bd38-32862493a264",
   "metadata": {},
   "source": [
    "### glob vs iglob\n",
    "\n",
    "The `glob.iglob()` works exactly the same as the `glob.glob()`. The advantage of `glob.iglob()` is to save the memory usage since it returns the `iterator` object which will load results in memory when called.\n"
   ]
  },
  {
   "cell_type": "code",
   "execution_count": 85,
   "id": "ed51e657-b9fb-4ede-a3ea-bb4c792142b1",
   "metadata": {},
   "outputs": [
    {
     "data": {
      "text/plain": [
       "2520"
      ]
     },
     "execution_count": 85,
     "metadata": {},
     "output_type": "execute_result"
    }
   ],
   "source": [
    "import sys \n",
    "\n",
    "wd = \"/home/cuyghur/python_books/learn_python_at_dr_dil/\"\n",
    "files=  glob.glob(wd+\"/**/*\", recursive=True)  \n",
    "\n",
    "sys.getsizeof(files)"
   ]
  },
  {
   "cell_type": "code",
   "execution_count": 87,
   "id": "a0f8edd8-1841-49b2-8d50-41557db0134f",
   "metadata": {},
   "outputs": [
    {
     "data": {
      "text/plain": [
       "104"
      ]
     },
     "execution_count": 87,
     "metadata": {},
     "output_type": "execute_result"
    }
   ],
   "source": [
    "import sys \n",
    "\n",
    "wd = \"/home/cuyghur/python_books/learn_python_at_dr_dil/\"\n",
    "files=  glob.iglob(wd+\"/**/*\", recursive=True)  \n",
    "\n",
    "sys.getsizeof(files)"
   ]
  },
  {
   "cell_type": "markdown",
   "id": "65f4da63-46e2-4069-8c5e-91b8388d6e89",
   "metadata": {},
   "source": [
    "### Homework\n",
    "\n",
    "Recursively find all files with a pattern (txt, png etc.)  at a given path and sort the files according to the date and time of modification. \n",
    "\n",
    "Hint:"
   ]
  },
  {
   "cell_type": "code",
   "execution_count": 91,
   "id": "29b5cfad-d94e-4995-a154-cf37938fc4ea",
   "metadata": {},
   "outputs": [
    {
     "data": {
      "text/plain": [
       "os.stat_result(st_mode=33204, st_ino=14188493, st_dev=66305, st_nlink=1, st_uid=1000, st_gid=1000, st_size=36302, st_atime=1641914073, st_mtime=1641420276, st_ctime=1641420276)"
      ]
     },
     "execution_count": 91,
     "metadata": {},
     "output_type": "execute_result"
    }
   ],
   "source": [
    "import os\n",
    "\n",
    "file_stat = os.stat('/home/cuyghur/python_books/learn_python_at_dr_dil/learn_python_at_dr_dil/logo.png')\n",
    "\n",
    "file_stat"
   ]
  },
  {
   "cell_type": "code",
   "execution_count": 93,
   "id": "219ba7b1-fedc-427a-a73a-50f0890589f4",
   "metadata": {},
   "outputs": [
    {
     "data": {
      "text/plain": [
       "1641420276.1515005"
      ]
     },
     "execution_count": 93,
     "metadata": {},
     "output_type": "execute_result"
    }
   ],
   "source": [
    "# the date and time of modification\n",
    "file_stat.st_mtime"
   ]
  }
 ],
 "metadata": {
  "kernelspec": {
   "display_name": "Python 3",
   "language": "python",
   "name": "python3"
  },
  "language_info": {
   "codemirror_mode": {
    "name": "ipython",
    "version": 3
   },
   "file_extension": ".py",
   "mimetype": "text/x-python",
   "name": "python",
   "nbconvert_exporter": "python",
   "pygments_lexer": "ipython3",
   "version": "3.10.1"
  }
 },
 "nbformat": 4,
 "nbformat_minor": 5
}
