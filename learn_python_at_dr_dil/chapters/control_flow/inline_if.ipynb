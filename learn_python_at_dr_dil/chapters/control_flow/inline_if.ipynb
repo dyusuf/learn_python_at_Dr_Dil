{
 "cells": [
  {
   "cell_type": "markdown",
   "id": "0bacc1f1-e3cd-4a91-831c-fcd9196f332b",
   "metadata": {},
   "source": [
    "# Ternary operator: Inline If"
   ]
  },
  {
   "cell_type": "markdown",
   "id": "dc286c2b-026b-4b21-9dfa-97e3b86ca0e8",
   "metadata": {},
   "source": [
    "The ternary conditional operator takes in three parameters: \n",
    "\n",
    "`expression true` **if** `condition` **else** `expression false` \n",
    "\n",
    "It allows you to execute conditional if statements **in a single line**. You should not go overboard with ternary operators otherwise your code may be harder to read.\n",
    "\n",
    "Use conditional expressions to assign a variable.\n",
    "\n",
    "Example 1:"
   ]
  },
  {
   "cell_type": "code",
   "execution_count": 25,
   "id": "a8618e33-1a2b-485a-9d7a-3f50f993bdef",
   "metadata": {},
   "outputs": [
    {
     "name": "stdout",
     "output_type": "stream",
     "text": [
      "False\n"
     ]
    }
   ],
   "source": [
    "# The traditional Python if statement \n",
    "\n",
    "age = 48\n",
    "\n",
    "if age >= 65:\n",
    "    discount = True\n",
    "else:\n",
    "    discount = False\n",
    "    \n",
    "print(discount)"
   ]
  },
  {
   "cell_type": "code",
   "execution_count": 24,
   "id": "242b3446-4e13-41c9-8ce8-4f9354d71c47",
   "metadata": {},
   "outputs": [
    {
     "name": "stdout",
     "output_type": "stream",
     "text": [
      "False\n"
     ]
    }
   ],
   "source": [
    "# The inline if expression\n",
    "\n",
    "age = 48\n",
    "\n",
    "discount = True if age >= 65 else False\n",
    "\n",
    "print(discount)"
   ]
  },
  {
   "cell_type": "markdown",
   "id": "e100620b-93bd-4ea9-a813-529040ef1e0e",
   "metadata": {},
   "source": [
    "Example 2:"
   ]
  },
  {
   "cell_type": "code",
   "execution_count": 26,
   "id": "91534f52-a3d5-4a7c-9769-8d9bd8ac3605",
   "metadata": {},
   "outputs": [
    {
     "name": "stdout",
     "output_type": "stream",
     "text": [
      "10\n"
     ]
    }
   ],
   "source": [
    "# The traditional Python if statement \n",
    "\n",
    "x, y = 1, 10\n",
    "\n",
    "if x > y:\n",
    "    max = x \n",
    "else:\n",
    "    max = y\n",
    "    \n",
    "print(max)"
   ]
  },
  {
   "cell_type": "code",
   "execution_count": 27,
   "id": "f401ac46-3769-460f-83bc-19f000d86af7",
   "metadata": {},
   "outputs": [
    {
     "name": "stdout",
     "output_type": "stream",
     "text": [
      "10\n"
     ]
    }
   ],
   "source": [
    "# The inline if expression\n",
    "\n",
    "x, y = 1, 10\n",
    "\n",
    "max = x if x > y else y\n",
    "\n",
    "print(max)"
   ]
  }
 ],
 "metadata": {
  "kernelspec": {
   "display_name": "Python 3",
   "language": "python",
   "name": "python3"
  },
  "language_info": {
   "codemirror_mode": {
    "name": "ipython",
    "version": 3
   },
   "file_extension": ".py",
   "mimetype": "text/x-python",
   "name": "python",
   "nbconvert_exporter": "python",
   "pygments_lexer": "ipython3",
   "version": "3.10.1"
  }
 },
 "nbformat": 4,
 "nbformat_minor": 5
}
