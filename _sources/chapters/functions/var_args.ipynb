{
 "cells": [
  {
   "cell_type": "markdown",
   "id": "7aace848-8400-4fff-8cb3-d951a0680b91",
   "metadata": {},
   "source": [
    "# Variable Length Arguments\n",
    "\n",
    "If you are not certain how many input arguments can be passed to your function by the user, you can make functions with input of variable length arguments.\n",
    "\n",
    "## Non-Keyword Arguments *\\*args*\n",
    "\n",
    "Use the prefix of `*`,  *\\*args* collects all the positional arguments into a `tuple`."
   ]
  },
  {
   "cell_type": "markdown",
   "id": "f7e60528-b845-476e-af18-decc17cc136c",
   "metadata": {},
   "source": [
    "### Examples"
   ]
  },
  {
   "cell_type": "code",
   "execution_count": 91,
   "id": "b10d4666-3737-4668-9ca3-9396b6496dee",
   "metadata": {},
   "outputs": [
    {
     "name": "stdout",
     "output_type": "stream",
     "text": [
      "*input collects arguments into (1, 2, 3).\n",
      "*input collects arguments into ([1, 2, 3],).\n",
      "*input collects arguments into ((1, 2, 3),).\n",
      "*input collects arguments into ('123', 'abc').\n"
     ]
    }
   ],
   "source": [
    "def collect_input(*input):\n",
    "    '''\n",
    "    collects arguments into a tuple\n",
    "    '''\n",
    "    \n",
    "    print(f'*input collects arguments into {input}.')\n",
    "\n",
    "\n",
    "collect_input(1, 2, 3)\n",
    "collect_input([1, 2, 3])\n",
    "collect_input((1, 2, 3))\n",
    "collect_input('123', 'abc')"
   ]
  },
  {
   "cell_type": "code",
   "execution_count": 73,
   "id": "76368493-c752-465a-95dd-651d46580c95",
   "metadata": {},
   "outputs": [
    {
     "name": "stdout",
     "output_type": "stream",
     "text": [
      "*num collects arguments into () whose sum is 0.\n",
      "*num collects arguments into (1,) whose sum is 1.\n",
      "*num collects arguments into (1, 2) whose sum is 3.\n",
      "*num collects arguments into (10, 20, 30) whose sum is 60.\n"
     ]
    }
   ],
   "source": [
    "def add(*num):\n",
    "    '''\n",
    "    sum up the input numbers\n",
    "    '''\n",
    "    \n",
    "    print(f\"*num collects arguments into {num} whose sum is {sum(num)}.\")\n",
    "\n",
    "add()\n",
    "add(1)\n",
    "add(1, 2)\n",
    "add(10, 20, 30)"
   ]
  },
  {
   "cell_type": "code",
   "execution_count": 74,
   "id": "51f6dbdf-a721-45fd-bbba-69cb1b2b92c4",
   "metadata": {},
   "outputs": [
    {
     "name": "stdout",
     "output_type": "stream",
     "text": [
      "*input collects arguments into () whose average is 0.\n",
      "*input collects arguments into (2, 3, 4) whose average is 3.0.\n"
     ]
    }
   ],
   "source": [
    "def getAverage(*input):\n",
    "    ''' \n",
    "    calculates the average of n numbers \n",
    "    '''\n",
    "        \n",
    "    input_len = len(input)\n",
    "    if input_len > 0 :\n",
    "        # Iterate over all the arguments and calculate average\n",
    "        average = sum(input)/input_len\n",
    "    else:\n",
    "        average = 0\n",
    "        \n",
    "    print(f'*input collects arguments into {input} whose average is {average}.')    \n",
    "\n",
    "getAverage()\n",
    "getAverage(2, 3, 4)"
   ]
  },
  {
   "cell_type": "code",
   "execution_count": 76,
   "id": "adaa31cc-fcb9-46f4-a460-fe9ad3ce943e",
   "metadata": {},
   "outputs": [
    {
     "name": "stdout",
     "output_type": "stream",
     "text": [
      "*input collects arguments into ('Dilmurat', 44, 'Bioinformatician', 'Kashgar')\n",
      "~start~\n",
      "infomation 1: Dilmurat\n",
      "infomation 2: 44\n",
      "infomation 3: Bioinformatician\n",
      "infomation 4: Kashgar\n",
      "~end~\n"
     ]
    }
   ],
   "source": [
    "def print_inputs(startMsg, endMsg, *input):\n",
    "    ''' \n",
    "    print number of input\n",
    "    '''\n",
    "    \n",
    "    print(f\"*input collects arguments into {input}\")\n",
    "    \n",
    "    print(startMsg)\n",
    "    \n",
    "    n = 1\n",
    "    for info in input:\n",
    "        print(f\"infomation {n}: {info}\")\n",
    "        n+=1\n",
    "        \n",
    "    print(endMsg)    \n",
    "\n",
    "print_inputs('~start~', '~end~', 'Dilmurat', 44, 'Bioinformatician', 'Kashgar') "
   ]
  },
  {
   "cell_type": "markdown",
   "id": "b7f0b17f-9b5a-41c7-90c0-c8b9187a8cc7",
   "metadata": {},
   "source": [
    "## Keyword Arguments *\\*\\*kwargs*\n",
    "\n",
    "Use the prefix of `**`,  *\\*\\*kwargs* collects all the key:value arguments into a `dictionary`.\n"
   ]
  },
  {
   "cell_type": "markdown",
   "id": "8cbdc5ce-ecd9-4190-87ac-4394adadb729",
   "metadata": {},
   "source": [
    "### Examples"
   ]
  },
  {
   "cell_type": "code",
   "execution_count": 95,
   "id": "34dcf656-699a-4656-9177-2c6bec6501ef",
   "metadata": {},
   "outputs": [
    {
     "name": "stdout",
     "output_type": "stream",
     "text": [
      "**input collects all arguments into {'p': 'paqa', 'a': 'at', 'b': 'batur'}.\n",
      "**input collects all arguments into {'name': 'Dilmurat', 'age': 44, 'phone': '2311'}.\n"
     ]
    }
   ],
   "source": [
    "def collect_input_dict(**input):\n",
    "    '''\n",
    "    collect arguments into a dictionary\n",
    "    '''\n",
    "    \n",
    "    print(f\"**input collects all arguments into {input}.\")\n",
    "    \n",
    "collect_input_dict(p='paqa', a='at', b='batur')\n",
    "collect_input_dict(name='Dilmurat', age=44, phone=\"2311\")"
   ]
  },
  {
   "cell_type": "code",
   "execution_count": 81,
   "id": "83a07c7f-9789-4084-9095-915eb8af9ad5",
   "metadata": {},
   "outputs": [
    {
     "name": "stdout",
     "output_type": "stream",
     "text": [
      "**input collects all arguments into {'name': 'Dilmurat', 'age': 44, 'address': 'Kashgar'}.\n",
      "The person's name is Dilmurat.\n",
      "The person's age is 44.\n",
      "The person's address is Kashgar.\n"
     ]
    }
   ],
   "source": [
    "def print_details(**input):\n",
    "    '''\n",
    "    print variable length arguments in key value pair format\n",
    "    '''\n",
    "    \n",
    "    print(f\"**input collects all arguments into {input}.\")\n",
    "    for key, value in input.items() :\n",
    "        print(f\"The person's {key} is {value}.\")\n",
    "\n",
    "print_details(name='Dilmurat', age=44, address=\"Kashgar\")"
   ]
  },
  {
   "cell_type": "markdown",
   "id": "ce405bf4-bcec-4d74-9824-b14dccc1584b",
   "metadata": {},
   "source": [
    "## Order of *\\*\\*kwargs*, *\\*args* & Default Arguments\n",
    "\n",
    "Order of arguments in function should be as following:\n",
    "\n",
    "1. Formal Parameter\n",
    "2. *\\*args* Arguments\n",
    "3. Default Arguments\n",
    "4. *\\*\\*kwargs* Arguments"
   ]
  },
  {
   "cell_type": "code",
   "execution_count": 100,
   "id": "b4196059-1214-4e79-a352-693cc1a11a7d",
   "metadata": {},
   "outputs": [
    {
     "name": "stdout",
     "output_type": "stream",
     "text": [
      "startMsg: ~start~\n",
      "endMsg: ~end~\n",
      "collegeName: Uni Kashgar\n",
      "**kwargs: {'name': 'Dilmurat', 'age': 44, 'profession': 'Bioinformatician'}\n",
      "*args: ('Juret', 'Ümit')\n",
      "\n",
      "Use the above arguments to compose the following message:\n",
      "~start~\n",
      "The person's name is Dilmurat.\n",
      "The person's age is 44.\n",
      "The person's profession is Bioinformatician.\n",
      "The person is realted to Juret and Ümit.\n",
      "~end~\n"
     ]
    }
   ],
   "source": [
    "def printInfo(startMsg, endMsg, *args , collegeName=\"Uni Kashgar\", **kwargs):\n",
    "    ''' \n",
    "    Function that accepts all formal arguments, *args, Default Argumnets & **kwargs \n",
    "    '''\n",
    "    \n",
    "    print(f\"startMsg: {startMsg}\")\n",
    "    print(f\"endMsg: {endMsg}\")\n",
    "    print(f\"collegeName: {collegeName}\")\n",
    "    print(f\"**kwargs: {kwargs}\")\n",
    "    print(f\"*args: {args}\")\n",
    "    \n",
    "    print()\n",
    "    print(\"Use the above arguments to compose the following message:\")\n",
    "    print(startMsg)\n",
    "    \n",
    "    for key, value in kwargs.items():\n",
    "        print(f\"The person's {key} is {value}.\")\n",
    "    \n",
    "    print(f\"The person is realted to {' and '.join(args)}.\" )\n",
    "    \n",
    "   \n",
    "    \n",
    "    print(endMsg)\n",
    "  \n",
    "printInfo(\"~start~\", \"~end~\" , \"Juret\", \"Ümit\", name=\"Dilmurat\", age=44, profession=\"Bioinformatician\")"
   ]
  }
 ],
 "metadata": {
  "kernelspec": {
   "display_name": "Python 3",
   "language": "python",
   "name": "python3"
  },
  "language_info": {
   "codemirror_mode": {
    "name": "ipython",
    "version": 3
   },
   "file_extension": ".py",
   "mimetype": "text/x-python",
   "name": "python",
   "nbconvert_exporter": "python",
   "pygments_lexer": "ipython3",
   "version": "3.6.9"
  }
 },
 "nbformat": 4,
 "nbformat_minor": 5
}
