{
 "cells": [
  {
   "cell_type": "markdown",
   "id": "96ebfff0-3738-4bed-84f3-b54fbf4e2ab4",
   "metadata": {},
   "source": [
    "# Decorators\n",
    "\n",
    "A decorator takes a function as input, extends its functionality and returns a new function as output. A decorator changes the behavior of a function without modifying the source code of the function. \n",
    "\n",
    "Extending functionality is very useful at times when adding extra processing (e.g. logging, timing, etc.) to the function.\n",
    "\n",
    "You can also use decorator to run the same code on multiple functions, aviod duplicating code.\n",
    "\n",
    "## The concepts\n",
    "\n",
    "* A function is an **object**.\n",
    "* A function can be passed to another function as an **input argument**.\n",
    "* A function can be **nested**.\n",
    "* A function can be **returned** as an output.\n",
    "\n",
    "\n",
    "### Function is an object"
   ]
  },
  {
   "cell_type": "code",
   "execution_count": 253,
   "id": "908a4e92-19f4-4096-8a9e-7f5d18c71828",
   "metadata": {},
   "outputs": [],
   "source": [
    "def say_hi():\n",
    "    print('hi Dilmurat')    \n",
    "    \n",
    "hi = say_hi"
   ]
  },
  {
   "cell_type": "code",
   "execution_count": 254,
   "id": "2a71de11-fb9f-4bd0-872e-fdbd6155d20b",
   "metadata": {
    "tags": []
   },
   "outputs": [
    {
     "data": {
      "text/plain": [
       "True"
      ]
     },
     "execution_count": 254,
     "metadata": {},
     "output_type": "execute_result"
    }
   ],
   "source": [
    "hi is say_hi"
   ]
  },
  {
   "cell_type": "code",
   "execution_count": 256,
   "id": "fd0e8ceb-efc4-494e-98a9-7a5674c75aa8",
   "metadata": {
    "tags": []
   },
   "outputs": [
    {
     "name": "stdout",
     "output_type": "stream",
     "text": [
      "hi Dilmurat\n"
     ]
    }
   ],
   "source": [
    "say_hi()"
   ]
  },
  {
   "cell_type": "code",
   "execution_count": 255,
   "id": "3705a7a4-325e-4855-8b36-bf3ee35f7978",
   "metadata": {},
   "outputs": [
    {
     "name": "stdout",
     "output_type": "stream",
     "text": [
      "hi Dilmurat\n"
     ]
    }
   ],
   "source": [
    "hi()"
   ]
  },
  {
   "cell_type": "markdown",
   "id": "73102fa9-d5a6-4f57-8c34-137d0d63146d",
   "metadata": {},
   "source": [
    "### Funcion as an input argument"
   ]
  },
  {
   "cell_type": "code",
   "execution_count": null,
   "id": "d19a4d40-b5b8-4a8c-bedc-e56a99f0f3b6",
   "metadata": {},
   "outputs": [
    {
     "name": "stdout",
     "output_type": "stream",
     "text": [
      "hi Dilmurat\n"
     ]
    }
   ],
   "source": [
    "def morning(func):\n",
    "    func()\n",
    "    print(\"good morning\")\n",
    "\n",
    "def say_hi():\n",
    "    print('hi Dilmurat')    \n",
    "    \n",
    "morning(say_hi)    "
   ]
  },
  {
   "cell_type": "markdown",
   "id": "6332e940-0d4d-43af-8e19-5607f96b60ac",
   "metadata": {},
   "source": [
    "### Funcion: Nested & Returned"
   ]
  },
  {
   "cell_type": "code",
   "execution_count": 306,
   "id": "d1a28ec2-0e36-4e0f-900e-1b183be3c2d2",
   "metadata": {},
   "outputs": [
    {
     "name": "stdout",
     "output_type": "stream",
     "text": [
      "hi Dilmurat\n",
      "good morning\n"
     ]
    }
   ],
   "source": [
    "def morning(func):\n",
    "    \n",
    "    def wrapper(): # an inner function\n",
    "        func()\n",
    "        print(\"good morning\")\n",
    "                \n",
    "    return wrapper # the output of morning() is the inner function\n",
    "\n",
    "def say_hi():\n",
    "    print('hi Dilmurat') \n",
    "    \n",
    "say_hi = morning(say_hi)\n",
    "\n",
    "say_hi()    "
   ]
  },
  {
   "cell_type": "markdown",
   "id": "523593fd-10c6-4d16-bfa1-498adc0a1cf3",
   "metadata": {},
   "source": [
    "## Create a decorator\n",
    "\n",
    "### Syntax"
   ]
  },
  {
   "cell_type": "code",
   "execution_count": 289,
   "id": "61c62a36-6acd-4384-98ef-88acc7520af7",
   "metadata": {},
   "outputs": [],
   "source": [
    "def decorator(func):\n",
    "\n",
    "    def wrapper(): # an inner function\n",
    "        \n",
    "        # add processes  before func()\n",
    "        \n",
    "        func()\n",
    "        \n",
    "        # add processes after func()\n",
    "        \n",
    "    return wrapper # the output of morning() is the inner function"
   ]
  },
  {
   "cell_type": "markdown",
   "id": "4cebeb86-2a0e-4e43-b94f-fe6b1f1f2cf6",
   "metadata": {},
   "source": [
    "Let's revisit the above `say_hi()` exmple and annotate each step in the context of a decorator."
   ]
  },
  {
   "cell_type": "code",
   "execution_count": 402,
   "id": "f70e3436-f4f8-45f6-b95e-8c3f7b77c1e6",
   "metadata": {},
   "outputs": [
    {
     "name": "stdout",
     "output_type": "stream",
     "text": [
      "~~ morning() starts decorating ~~~\n",
      "\n",
      "# output after calling the input function -- say_hi()\n",
      "hi Dilmurat\n",
      "\n",
      "# output added by wrapper() in morning()\n",
      "good morning\n"
     ]
    }
   ],
   "source": [
    "def morning(func):\n",
    "    \n",
    "    def wrapper(): # an inner function\n",
    "        print(\"~~ morning() starts decorating ~~~\", end ='\\n\\n')\n",
    "        \n",
    "        print(f\"# output after calling the input function -- {func.__name__}()\")\n",
    "        func()\n",
    "        \n",
    "        print()\n",
    "        \n",
    "        print(f\"# output added by wrapper() in morning()\")\n",
    "        print(\"good morning\")\n",
    "                \n",
    "    return wrapper # the output of morning() is the inner function\n",
    "\n",
    "def say_hi():\n",
    "    print('hi Dilmurat') \n",
    "\n",
    "# use say_hi as the input of morning()\n",
    "# morning() can add a new process to say_hi()\n",
    "# without changing the source code of say_hi()\n",
    "say_hi = morning(say_hi) \n",
    "\n",
    "say_hi()"
   ]
  },
  {
   "cell_type": "markdown",
   "id": "b76f3e96-f771-4952-a4ac-3e2bc4608d77",
   "metadata": {},
   "source": [
    "### Syntactic Sugar\n",
    "\n",
    "The syntax of conventional way:"
   ]
  },
  {
   "cell_type": "code",
   "execution_count": 291,
   "id": "48fc75d1-95b6-4443-9b83-b4f1babc0b49",
   "metadata": {},
   "outputs": [
    {
     "data": {
      "text/plain": [
       "<function __main__.decorator.<locals>.wrapper()>"
      ]
     },
     "execution_count": 291,
     "metadata": {},
     "output_type": "execute_result"
    }
   ],
   "source": [
    "def decorator(func):\n",
    "\n",
    "    def wrapper(): # an inner function\n",
    "        # add processes before func()\n",
    "        func()\n",
    "        # add processes after func()\n",
    "        \n",
    "    return wrapper # the output of morning() is the inner function\n",
    "\n",
    "def func():\n",
    "    # do somthing\n",
    "    pass\n",
    "\n",
    "decorator(func) # output is wrapper in decorator()"
   ]
  },
  {
   "cell_type": "markdown",
   "id": "33cffbf5-660e-426d-8b6e-2e76025885fe",
   "metadata": {},
   "source": [
    "The syntax of sugar:"
   ]
  },
  {
   "cell_type": "code",
   "execution_count": 307,
   "id": "433ea200-7ccc-4711-8002-ea1ee8befe44",
   "metadata": {},
   "outputs": [
    {
     "data": {
      "text/plain": [
       "<function __main__.decorator.<locals>.wrapper()>"
      ]
     },
     "execution_count": 307,
     "metadata": {},
     "output_type": "execute_result"
    }
   ],
   "source": [
    "def decorator(func):\n",
    "\n",
    "    def wrapper(): # an inner function\n",
    "        \n",
    "        # add processes before func()\n",
    "        \n",
    "        func()\n",
    "        \n",
    "        # add processes after func()\n",
    "        \n",
    "    return wrapper # the output of morning() is the inner function\n",
    "\n",
    "# the fllowing code equivalent to 'func = decorator(func)'\n",
    "@decorator\n",
    "def func():\n",
    "    # do somthing\n",
    "    pass\n",
    "\n",
    "func"
   ]
  },
  {
   "cell_type": "markdown",
   "id": "afd5422b-7ded-4e78-ba70-a1c67b6e54f3",
   "metadata": {},
   "source": [
    "The syntactic sugar with the `say_hi()` examplee."
   ]
  },
  {
   "cell_type": "code",
   "execution_count": 308,
   "id": "f59fe84c-16de-4f9e-a3fa-a90ebd8215fc",
   "metadata": {},
   "outputs": [
    {
     "name": "stdout",
     "output_type": "stream",
     "text": [
      "~~ morning() starts decorating ~~~\n",
      "\n",
      "# output after calling the input function -- say_hi()\n",
      "hi Dilmurat\n",
      "\n",
      "# output added by wrapper() in morning()\n",
      "good morning\n"
     ]
    }
   ],
   "source": [
    "def morning(func):\n",
    "    \n",
    "    def wrapper(): # an inner function\n",
    "        print(\"~~ morning() starts decorating ~~~\", end ='\\n\\n')\n",
    "        \n",
    "        print(f\"# output after calling the input function -- {func.__name__}()\")\n",
    "        func()\n",
    "        \n",
    "        print()\n",
    "        \n",
    "        print(f\"# output added by wrapper() in morning()\")\n",
    "        print(\"good morning\")\n",
    "                \n",
    "    return wrapper # the output of morning() is the inner function\n",
    "\n",
    "# the fllowing code equivalent to 'say_hi = morning(say_hi)'\n",
    "@morning\n",
    "def say_hi():\n",
    "    print('hi Dilmurat') \n",
    "\n",
    "say_hi()    "
   ]
  },
  {
   "cell_type": "markdown",
   "id": "956b4076-aca8-480e-9dde-d3cf9873f8fd",
   "metadata": {},
   "source": [
    "Let's use multiple decorators:"
   ]
  },
  {
   "cell_type": "code",
   "execution_count": 318,
   "id": "f59e5aa6-1c2b-4428-94b7-e0b1ab5ef40d",
   "metadata": {},
   "outputs": [
    {
     "name": "stdout",
     "output_type": "stream",
     "text": [
      "hi Dilmurat\n",
      "good morning\n",
      "a great wather today :)\n"
     ]
    }
   ],
   "source": [
    "def morning(func):\n",
    "    \n",
    "    def wrapper(): # an inner function\n",
    "        func()\n",
    "        print(\"good morning\")\n",
    "                \n",
    "    return wrapper # the output of morning() is the inner function\n",
    "\n",
    "def weather(func): \n",
    "\n",
    "    def wrapper():# an inner function\n",
    "        func()\n",
    "        print('a great weather today :)')\n",
    "                \n",
    "    return wrapper   \n",
    "\n",
    "# this equivalent to 'say_hi = weather(morning(say_hi))'\n",
    "@weather\n",
    "@morning\n",
    "def say_hi():\n",
    "    print('hi Dilmurat')     \n",
    "    \n",
    "say_hi()    "
   ]
  },
  {
   "cell_type": "markdown",
   "id": "176a4ca5-a430-4a85-98de-5bc395a2a1b9",
   "metadata": {},
   "source": [
    "## Add Arguments to Decorator\n",
    "\n",
    "To ad arguments to decorator, we can give `*args` and `*kwargs` to wrapper function as the inputs."
   ]
  },
  {
   "cell_type": "markdown",
   "id": "33392da1-b493-430c-ab62-a16e119a1f7b",
   "metadata": {},
   "source": [
    "### Syntax"
   ]
  },
  {
   "cell_type": "code",
   "execution_count": 319,
   "id": "eb87689b-e6c3-47f1-8ccd-37752df56e5f",
   "metadata": {},
   "outputs": [],
   "source": [
    "def decorator(func):\n",
    "\n",
    "    def wrapper(*args, **kwargs): # set *args, **kwargs\n",
    "        # add processes  before func()\n",
    "        func(*args, **kwargs) # set *args, **kwargs\n",
    "        # add processes after func()\n",
    "        \n",
    "    return wrapper\n",
    "\n",
    "@decorator\n",
    "def func(arg): # arg --> decorator --> wrapper --> func(*args, **kwargs)\n",
    "    # do somthing\n",
    "    pass"
   ]
  },
  {
   "cell_type": "markdown",
   "id": "885667aa-ed37-48a5-8818-cc5ee86b8a7c",
   "metadata": {},
   "source": [
    "Let's use the use `say_hi()` examplee"
   ]
  },
  {
   "cell_type": "code",
   "execution_count": 398,
   "id": "e8cda756-d0aa-4b5e-ab06-9badfeda3b9a",
   "metadata": {},
   "outputs": [
    {
     "name": "stdout",
     "output_type": "stream",
     "text": [
      "~~arguments~~\n",
      "args:('Nijat',)\n",
      "kwargs:{}\n",
      "~~arguments~~\n",
      "\n",
      "hi Nijat\n",
      "good morning\n"
     ]
    }
   ],
   "source": [
    "def morning(func):\n",
    "    \n",
    "    def wrapper(*args, **kwargs): # an inner function\n",
    "        print(\"~~arguments~~\")\n",
    "        print(f\"args:{args}\")\n",
    "        print(f\"kwargs:{kwargs}\")\n",
    "        print(\"~~arguments~~\")\n",
    "        \n",
    "        print()\n",
    "             \n",
    "        func(*args, *kwargs)\n",
    "        print(\"good morning\")\n",
    "                \n",
    "    return wrapper # the output of morning() is the inner function\n",
    "\n",
    "@morning\n",
    "def say_hi(name):\n",
    "    print(f'hi {name}')     \n",
    "      \n",
    "say_hi('Nijat')"
   ]
  },
  {
   "cell_type": "code",
   "execution_count": 403,
   "id": "48e11c8e-be9d-46b4-b931-90edc38b3002",
   "metadata": {},
   "outputs": [
    {
     "name": "stdout",
     "output_type": "stream",
     "text": [
      "~~arguments~~\n",
      "args:()\n",
      "kwargs:{'name1': 'Ilham', 'name2': 'Anwer'}\n",
      "~~arguments~~\n",
      "\n",
      "Hi Ilham and Anwer\n",
      "good morning\n"
     ]
    }
   ],
   "source": [
    "def morning(func):\n",
    "    \n",
    "    def wrapper(*args, **kwargs): # an inner function\n",
    "        print(\"~~arguments~~\")\n",
    "        print(f\"args:{args}\")\n",
    "        print(f\"kwargs:{kwargs}\")\n",
    "        print(\"~~arguments~~\")\n",
    "        \n",
    "        print()\n",
    "       \n",
    "        func(*args, **kwargs)\n",
    "        print(\"good morning\")\n",
    "                \n",
    "    return wrapper # the output of morning() is the inner function\n",
    "\n",
    "@morning\n",
    "def say_hi(name1, name2):\n",
    "    print(f\"Hi {name1} and {name2}\")\n",
    "      \n",
    "say_hi(name1=\"Ilham\", name2=\"Anwer\")"
   ]
  },
  {
   "cell_type": "markdown",
   "id": "38a99c56-87ee-4389-a86a-fe6f2070bb3c",
   "metadata": {},
   "source": [
    "## Returning Values From Decorated Functions\n",
    "\n",
    "How to decorate a function that returns a value?\n",
    "\n",
    "Let's modify the above example, make the `say_hi()` function return a value as following:"
   ]
  },
  {
   "cell_type": "code",
   "execution_count": 30,
   "id": "8b8988ce-64e9-4ca7-a2df-a3a3053106ed",
   "metadata": {},
   "outputs": [
    {
     "name": "stdout",
     "output_type": "stream",
     "text": [
      "None\n"
     ]
    }
   ],
   "source": [
    "def morning(func):\n",
    "    \n",
    "    def wrapper(*args, **kwargs): # an inner function   \n",
    "        greeting = func(*args, **kwargs)\n",
    "        greeting = f\"{greeting}, good morning.\" \n",
    "    \n",
    "    return wrapper # the output of morning() is the inner function\n",
    "\n",
    "@morning\n",
    "def say_hi(name1, name2):\n",
    "    return f\"Hi {name1} and {name2}\" # here instead of 'print' I 'return' the string \n",
    "    \n",
    "# \n",
    "greeting_msg = say_hi(name1=\"Ilham\", name2=\"Anwer\")\n",
    "\n",
    "print(greeting_msg)"
   ]
  },
  {
   "cell_type": "markdown",
   "id": "25017ab2-0f96-4f35-b132-81a5a92fccfc",
   "metadata": {},
   "source": [
    "The decorated function returns `None`. In this case, we need to explicitly `return` value from `wrapper` in the decorator."
   ]
  },
  {
   "cell_type": "code",
   "execution_count": 29,
   "id": "2371049e-a30f-42bc-b1f2-4459a24eea2f",
   "metadata": {},
   "outputs": [
    {
     "name": "stdout",
     "output_type": "stream",
     "text": [
      "Hi Ilham and Anwer, good morning.\n"
     ]
    }
   ],
   "source": [
    "def morning(func):\n",
    "    \n",
    "    def wrapper(*args, **kwargs): # an inner function   \n",
    "        greeting = func(*args, **kwargs)\n",
    "        greeting = f\"{greeting}, good morning.\" \n",
    "        \n",
    "        return greeting # here I return a value from the inner function\n",
    "    \n",
    "    return wrapper # the output of morning() is the inner function\n",
    "\n",
    "@morning\n",
    "def say_hi(name1, name2):\n",
    "    return f\"Hi {name1} and {name2}\" # here instead of 'print' I 'return' the string \n",
    "    \n",
    "# \n",
    "greeting_msg = say_hi(name1=\"Ilham\", name2=\"Anwer\")\n",
    "\n",
    "print(greeting_msg)"
   ]
  },
  {
   "cell_type": "markdown",
   "id": "434ef163-31d7-4409-8904-e32531941864",
   "metadata": {},
   "source": [
    "## Preseve metadata with `@wraps` from `functools` \n",
    "\n",
    "Suppose I add a doc string to the say_hi(), and after the decoration, want to access its name and doc string as following:"
   ]
  },
  {
   "cell_type": "code",
   "execution_count": 503,
   "id": "3bc90499-638d-46bf-a896-2e427f78b164",
   "metadata": {},
   "outputs": [
    {
     "name": "stdout",
     "output_type": "stream",
     "text": [
      "func name: wrapper\n",
      "func doc: None\n"
     ]
    }
   ],
   "source": [
    "def morning(func):\n",
    "    \n",
    "    def wrapper(*args, **kwargs): # an inner function   \n",
    "        greeting = func(*args, **kwargs)\n",
    "        greeting = f\"{greeting}, good morning.\" \n",
    "        \n",
    "        return greeting # here I return a value from the inner function\n",
    "    \n",
    "    return wrapper # the output of morning() is the inner function\n",
    "\n",
    "@morning\n",
    "def say_hi(name1, name2):\n",
    "    \"\"\"A function to say hi\"\"\"\n",
    "    return f\"Hi {name1} and {name2}\" # here instead of 'print' I 'return' the string \n",
    "\n",
    "print('func name:', say_hi.__name__)\n",
    "print('func doc:', say_hi.__doc__)"
   ]
  },
  {
   "cell_type": "markdown",
   "id": "308e6686-766c-40b8-b89a-c61538d51e0b",
   "metadata": {},
   "source": [
    "The metadata of `say_hi()` is lost. To fix this, use `@wraps` decorator from the `functools` library as following."
   ]
  },
  {
   "cell_type": "code",
   "execution_count": 504,
   "id": "de33d511-d73a-44ad-98a0-a40af8e6abf1",
   "metadata": {},
   "outputs": [
    {
     "name": "stdout",
     "output_type": "stream",
     "text": [
      "func name: say_hi\n",
      "func doc: A function to say hi\n"
     ]
    }
   ],
   "source": [
    "from functools import wraps\n",
    "\n",
    "def morning(func):\n",
    "    \n",
    "    @wraps(func) # use wraps here\n",
    "    def wrapper(*args, **kwargs): # an inner function   \n",
    "        greeting = func(*args, **kwargs)\n",
    "        greeting = f\"{greeting}, good morning.\" \n",
    "        \n",
    "        return greeting # here I return a value from the inner function\n",
    "    \n",
    "    return wrapper # the output of morning() is the inner function\n",
    "\n",
    "@morning\n",
    "def say_hi(name1, name2):\n",
    "    \"\"\"A function to say hi\"\"\"\n",
    "    return f\"Hi {name1} and {name2}\" # here instead of 'print' I 'return' the string \n",
    "    \n",
    "print('func name:', say_hi.__name__)\n",
    "print('func doc:', say_hi.__doc__)"
   ]
  },
  {
   "cell_type": "markdown",
   "id": "b9b21246-72b7-4087-9540-0466c1a83d69",
   "metadata": {},
   "source": [
    "## Access the original function with `__wrapped__`\n",
    "\n",
    "If you want to access the original function before the decoration, use the `__wrapped__` attribute."
   ]
  },
  {
   "cell_type": "code",
   "execution_count": 505,
   "id": "4c2a1d69-e768-4f1b-95eb-0ef27e54e17d",
   "metadata": {},
   "outputs": [
    {
     "data": {
      "text/plain": [
       "'Hi Dilmurat and Bilal, good morning.'"
      ]
     },
     "execution_count": 505,
     "metadata": {},
     "output_type": "execute_result"
    }
   ],
   "source": [
    "from functools import wraps\n",
    "\n",
    "def morning(func):\n",
    "    \n",
    "    @wraps(func) # use wraps here\n",
    "    def wrapper(*args, **kwargs): # an inner function   \n",
    "        greeting = func(*args, **kwargs)\n",
    "        greeting = f\"{greeting}, good morning.\" \n",
    "        \n",
    "        return greeting # here I return a value from the inner function\n",
    "    \n",
    "    return wrapper # the output of morning() is the inner function\n",
    "\n",
    "@morning\n",
    "def say_hi(name1, name2):\n",
    "    \"\"\"A function to say hi\"\"\"\n",
    "    return f\"Hi {name1} and {name2}\" # here instead of 'print' I 'return' the string \n",
    "\n",
    "say_hi(name1='Dilmurat', name2='Bilal')"
   ]
  },
  {
   "cell_type": "code",
   "execution_count": 506,
   "id": "e21eb737-bb6e-469d-aa22-2362bb0e9448",
   "metadata": {},
   "outputs": [
    {
     "data": {
      "text/plain": [
       "'Hi Dilmurat and Bilal'"
      ]
     },
     "execution_count": 506,
     "metadata": {},
     "output_type": "execute_result"
    }
   ],
   "source": [
    "say_hi.__wrapped__(name1='Dilmurat', name2='Bilal')"
   ]
  },
  {
   "cell_type": "markdown",
   "id": "e14b3fde-41fb-4dad-95eb-2f449e3bb5b6",
   "metadata": {},
   "source": [
    "## Python Decorator in Action\n",
    "\n",
    "Here I show a decorator example for measuring the performance (time and memory usage) of list generation using four methods: `list conversion`, `list comprehension`, `list append`, and `list concatenation`."
   ]
  },
  {
   "cell_type": "code",
   "execution_count": 76,
   "id": "f732ad40-b7ce-4141-a681-967f339713f0",
   "metadata": {},
   "outputs": [],
   "source": [
    "from functools import wraps\n",
    "import tracemalloc\n",
    "from time import perf_counter \n",
    "\n",
    "# print function info\n",
    "def print_funk_info(func):\n",
    "    '''\n",
    "    A decorator:\n",
    "    print the metadata of the input function\n",
    "    '''\n",
    "    \n",
    "    @wraps(func)\n",
    "    def wrapper(*args, **kwargs):\n",
    "        print(f'Function: {func.__name__}')\n",
    "        print(f'Method: {func.__doc__}')\n",
    "        print(f\"args: {args}\")\n",
    "        print(f\"kwargs: {kwargs}\")\n",
    "        \n",
    "        func(*args, **kwargs)\n",
    "        \n",
    "    return wrapper\n",
    "\n",
    "# benchmark memory usage\n",
    "def benchmark_memo(func):\n",
    "    '''\n",
    "    A decorator:\n",
    "    benchmark the memory usage of the input function\n",
    "    '''\n",
    "    \n",
    "    @wraps(func)\n",
    "    def wrapper(*args, **kwargs):\n",
    "        # start tracking memory usage\n",
    "        tracemalloc.start()\n",
    "        \n",
    "        func(*args, **kwargs)\n",
    "        \n",
    "        # get the meory usage\n",
    "        current, peak = tracemalloc.get_traced_memory()\n",
    "        tracemalloc.stop()\n",
    "        \n",
    "        print(f'Current memory usage: {current / 10**6:.6f} MB')\n",
    "        print(f'Peak memory usage: {peak / 10**6:.6f} MB')\n",
    "             \n",
    "    return wrapper\n",
    "\n",
    "# benchmark time usage\n",
    "def benchmark_time(func):\n",
    "    '''\n",
    "    A decorator:\n",
    "    benchmark the time usage of the input function\n",
    "    '''\n",
    "    \n",
    "    @wraps(func)\n",
    "    def wrapper(*args, **kwargs):\n",
    "        # start the timing\n",
    "        start_time = perf_counter()\n",
    "        \n",
    "        func(*args, **kwargs)\n",
    "        \n",
    "        # measure the elapsed time \n",
    "        finish_time = perf_counter()\n",
    "        elapse_time = finish_time - start_time\n",
    "        \n",
    "        print(f'Time elapsed: {elapse_time:.6f} seconds')\n",
    "   \n",
    "    return wrapper\n",
    "\n",
    "\n",
    "@benchmark_time\n",
    "@benchmark_memo\n",
    "@print_funk_info\n",
    "def list_convert(num):\n",
    "    '''list(range(num))'''\n",
    "\n",
    "    list_num = list(range(num))\n",
    "\n",
    "\n",
    "@benchmark_time\n",
    "@benchmark_memo\n",
    "@print_funk_info\n",
    "def list_compreh(num):\n",
    "    '''[l for l in range(num)]'''\n",
    "\n",
    "    list_num = [l for l in range(num)]\n",
    "\n",
    "\n",
    "@benchmark_time\n",
    "@benchmark_memo\n",
    "@print_funk_info\n",
    "def list_append(num):\n",
    "    '''list_num.append(item)'''\n",
    "\n",
    "    list_num = []\n",
    "    for item in range(num):\n",
    "        list_num.append(item)\n",
    "\n",
    "\n",
    "@benchmark_time\n",
    "@benchmark_memo\n",
    "@print_funk_info\n",
    "def list_concat(num):\n",
    "    '''list_num = list_num + [item]'''\n",
    "\n",
    "    list_num = []\n",
    "    for item in range(num):\n",
    "        list_num = list_num + [item]"
   ]
  },
  {
   "cell_type": "code",
   "execution_count": 77,
   "id": "afe5a716-0f5c-42c9-909c-3b16876794dc",
   "metadata": {},
   "outputs": [
    {
     "name": "stdout",
     "output_type": "stream",
     "text": [
      "Function: list_convert\n",
      "Method: list(range(num))\n",
      "args: ()\n",
      "kwargs: {'num': 100000}\n",
      "Current memory usage: 0.002576 MB\n",
      "Peak memory usage: 3.695552 MB\n",
      "Time elapsed: 0.041393 seconds\n",
      "\n",
      "Function: list_compreh\n",
      "Method: [l for l in range(num)]\n",
      "args: ()\n",
      "kwargs: {'num': 100000}\n",
      "Current memory usage: 0.001758 MB\n",
      "Peak memory usage: 3.618855 MB\n",
      "Time elapsed: 0.037563 seconds\n",
      "\n",
      "Function: list_append\n",
      "Method: list_num.append(item)\n",
      "args: ()\n",
      "kwargs: {'num': 100000}\n",
      "Current memory usage: 0.001192 MB\n",
      "Peak memory usage: 3.618444 MB\n",
      "Time elapsed: 0.050340 seconds\n",
      "\n",
      "Function: list_concat\n",
      "Method: list_num = list_num + [item]\n",
      "args: ()\n",
      "kwargs: {'num': 100000}\n",
      "Current memory usage: 0.000817 MB\n",
      "Peak memory usage: 4.393669 MB\n",
      "Time elapsed: 25.733120 seconds\n"
     ]
    }
   ],
   "source": [
    "list_convert(num=10**5)\n",
    "print()\n",
    "list_compreh(num=10**5)\n",
    "print()\n",
    "list_append(num=10**5)\n",
    "print()\n",
    "list_concat(num=10**5)"
   ]
  }
 ],
 "metadata": {
  "kernelspec": {
   "display_name": "Python 3",
   "language": "python",
   "name": "python3"
  },
  "language_info": {
   "codemirror_mode": {
    "name": "ipython",
    "version": 3
   },
   "file_extension": ".py",
   "mimetype": "text/x-python",
   "name": "python",
   "nbconvert_exporter": "python",
   "pygments_lexer": "ipython3",
   "version": "3.6.9"
  }
 },
 "nbformat": 4,
 "nbformat_minor": 5
}
