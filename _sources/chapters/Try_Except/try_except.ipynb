{
 "cells": [
  {
   "cell_type": "markdown",
   "id": "d4a991ff-4877-4769-bc2f-12cac8931a51",
   "metadata": {},
   "source": [
    "# Exceptions (Errors) Handling\n",
    "\n",
    "The idea of the try-except block is to handle exceptions (errors at runtime) without killing a Python process. \n",
    "\n",
    "When an exception (error) occurs Python will normally stop the process and generate an error message like the example below."
   ]
  },
  {
   "cell_type": "code",
   "execution_count": 70,
   "id": "f40fdafc-50fb-45e3-97f5-deb267d124df",
   "metadata": {},
   "outputs": [
    {
     "ename": "FileNotFoundError",
     "evalue": "[Errno 2] No such file or directory: '/bla/test.txt'",
     "output_type": "error",
     "traceback": [
      "\u001b[0;31m---------------------------------------------------------------------------\u001b[0m",
      "\u001b[0;31mFileNotFoundError\u001b[0m                         Traceback (most recent call last)",
      "\u001b[0;32m<ipython-input-70-2c12a0d40b1d>\u001b[0m in \u001b[0;36m<module>\u001b[0;34m\u001b[0m\n\u001b[0;32m----> 1\u001b[0;31m \u001b[0mopen\u001b[0m\u001b[0;34m(\u001b[0m\u001b[0;34mr'/bla/test.txt'\u001b[0m\u001b[0;34m,\u001b[0m \u001b[0;34m'x'\u001b[0m\u001b[0;34m)\u001b[0m\u001b[0;34m.\u001b[0m\u001b[0mclose\u001b[0m\u001b[0;34m(\u001b[0m\u001b[0;34m)\u001b[0m\u001b[0;34m\u001b[0m\u001b[0m\n\u001b[0m\u001b[1;32m      2\u001b[0m \u001b[0;34m\u001b[0m\u001b[0m\n\u001b[1;32m      3\u001b[0m \u001b[0mprint\u001b[0m\u001b[0;34m(\u001b[0m\u001b[0;34m'I reach the end.'\u001b[0m\u001b[0;34m)\u001b[0m\u001b[0;34m\u001b[0m\u001b[0m\n",
      "\u001b[0;31mFileNotFoundError\u001b[0m: [Errno 2] No such file or directory: '/bla/test.txt'"
     ]
    }
   ],
   "source": [
    "open(r'/bla/test.txt', 'x').close()\n",
    "\n",
    "print('I reach the end.')"
   ]
  },
  {
   "cell_type": "markdown",
   "id": "7bcf2a24-69b0-4313-8e33-995bce3a75d5",
   "metadata": {},
   "source": [
    "With `try-except` to properly catch error without killing the Python process. \n",
    "\n",
    "The usage of four statements:"
   ]
  },
  {
   "cell_type": "code",
   "execution_count": 71,
   "id": "53abe43b-afba-4401-8f81-95efef620861",
   "metadata": {},
   "outputs": [
    {
     "name": "stdout",
     "output_type": "stream",
     "text": [
      "try: test if code can trigger error.\n",
      "else: execute code if no error catched by \"try\".\n",
      "finally: code always runs here.\n",
      "I reach the end.\n"
     ]
    }
   ],
   "source": [
    "try:\n",
    "    # create a new file\n",
    "    print('try: test if code can trigger error.')\n",
    "\n",
    "except:\n",
    "    print('except: handel the catched error after \"try\".')\n",
    "\n",
    "else:\n",
    "    print('else: execute code if no error catched by \"try\".')\n",
    "    \n",
    "finally:\n",
    "    print(\"finally: code always runs here.\")\n",
    "\n",
    "print(\"I reach the end.\")"
   ]
  },
  {
   "cell_type": "markdown",
   "id": "6d931da5-58cb-4ecc-a073-050081ba2c10",
   "metadata": {},
   "source": [
    "In order to use try-except properly, you need to be aware of the location of the potential errors and handle the potential errors without killing your program."
   ]
  },
  {
   "cell_type": "code",
   "execution_count": 72,
   "id": "e592892e-a331-42b1-9480-a840cc50c793",
   "metadata": {},
   "outputs": [
    {
     "name": "stdout",
     "output_type": "stream",
     "text": [
      "except: handel the catched error after \"try\".\n",
      "finally: code always runs here.\n",
      "I reach the end.\n"
     ]
    }
   ],
   "source": [
    "try:\n",
    "    # create a new file\n",
    "    open(r'/bla/test.txt', 'x').close()\n",
    "\n",
    "except:\n",
    "    print('except: handel the catched error after \"try\".')\n",
    "\n",
    "else:\n",
    "    print('else: execute code if no error catched by \"try\".')\n",
    "    \n",
    "finally:\n",
    "    print(\"finally: code always runs here.\")\n",
    "\n",
    "print(\"I reach the end.\")"
   ]
  },
  {
   "cell_type": "code",
   "execution_count": 75,
   "id": "81939feb-cd95-41ed-b37d-a246c32ff154",
   "metadata": {},
   "outputs": [
    {
     "name": "stdout",
     "output_type": "stream",
     "text": [
      "[Errno 2] No such file or directory: '/bla/test.txt'\n",
      "[Errno 17] File exists: '/tmp/test.txt'\n",
      "I reach the end.\n"
     ]
    }
   ],
   "source": [
    "try:\n",
    "    # create a new file\n",
    "    open(r'/bla/test.txt', 'x').close()\n",
    "\n",
    "except Exception as err:\n",
    "    print(err)\n",
    "\n",
    "finally:\n",
    "    try:\n",
    "        open(r'/tmp/test.txt', 'x').close()\n",
    "    except Exception as err:\n",
    "        print(err)\n",
    "\n",
    "print('I reach the end.')"
   ]
  },
  {
   "cell_type": "markdown",
   "id": "ad19f997-af3c-472a-926b-b4544ff4f32a",
   "metadata": {},
   "source": [
    "Q: Test the following codes by assigning different values to `y`. Predict the output before running the code."
   ]
  },
  {
   "cell_type": "markdown",
   "id": "2c17a06a-8803-447e-881b-249bfe5ec0be",
   "metadata": {},
   "source": [
    "~~~\n",
    "try:\n",
    "    # Floor division\n",
    "    x = 10\n",
    "    y = 0\n",
    "    result = x / y\n",
    "    \n",
    "except Exception as err:\n",
    "    print(err)\n",
    "    \n",
    "else:\n",
    "    # Execute if no exception\n",
    "    print(f\"The answer is: {result}\")\n",
    "    \n",
    "finally:\n",
    "    # Always execute\n",
    "    print('This is always executed')\n",
    "~~~    "
   ]
  }
 ],
 "metadata": {
  "kernelspec": {
   "display_name": "Python 3 (ipykernel)",
   "language": "python",
   "name": "python3"
  },
  "language_info": {
   "codemirror_mode": {
    "name": "ipython",
    "version": 3
   },
   "file_extension": ".py",
   "mimetype": "text/x-python",
   "name": "python",
   "nbconvert_exporter": "python",
   "pygments_lexer": "ipython3",
   "version": "3.6.4"
  }
 },
 "nbformat": 4,
 "nbformat_minor": 5
}
