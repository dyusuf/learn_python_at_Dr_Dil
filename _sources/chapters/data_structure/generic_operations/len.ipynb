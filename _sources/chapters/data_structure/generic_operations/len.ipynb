{
 "cells": [
  {
   "cell_type": "markdown",
   "id": "b620a832-53c5-4883-a9d8-e28d83b3514d",
   "metadata": {},
   "source": [
    "# len()\n",
    "\n",
    "`len()` gets the number of items of iterable object:\n",
    "\n",
    "* string: `'batur'`\n",
    "* list: `['paqa', 'béliq', 'eynek', 'at', 'xoraz', 'wélisipit']`\n",
    "* tuple: `('paqa', 'béliq', 'eynek', 'at', 'xoraz', 'wélisipit')`\n",
    "* set: `{'paqa', 'béliq', 'eynek', 'at', 'xoraz', 'wélisipit'}`\n",
    "* dictionary: `{'p':'paqa', 'b':'béliq', 'e':'eynek', 'a':'at', 'y':'xoraz', 'w':'wélisipit'}`"
   ]
  },
  {
   "cell_type": "markdown",
   "id": "bdf2accb-7aa7-4d56-90c0-36b6e72c8c32",
   "metadata": {},
   "source": [
    "**Question: how to get the length of a list and the length of its items?**"
   ]
  },
  {
   "cell_type": "code",
   "execution_count": 262,
   "id": "db3a4a9f-1a25-4ba0-a91e-93fb7184ea89",
   "metadata": {
    "tags": []
   },
   "outputs": [
    {
     "name": "stdout",
     "output_type": "stream",
     "text": [
      "The length of the list 'elipe' is 6.\n",
      "The 1st item is 'paqa' and its length is 4.\n"
     ]
    }
   ],
   "source": [
    "# build a list\n",
    "elipe = ['paqa', 'béliq', 'eynek', 'at', 'xoraz', 'wélisipit']\n",
    "\n",
    "# get the length of the list\n",
    "elipe_len = len(elipe)\n",
    "\n",
    "# get the length of the 1st item (a string)\n",
    "item = elipe[0]\n",
    "item_len = len(item)\n",
    "\n",
    "print(f\"The length of the list 'elipe' is {elipe_len}.\")\n",
    "print(f\"The 1st item is '{item}' and its length is {item_len}.\")"
   ]
  },
  {
   "cell_type": "markdown",
   "id": "bafa4299-69fd-4759-9c88-21fa82008234",
   "metadata": {
    "tags": []
   },
   "source": [
    "**Question: how to get the length of dictionary and the length of an item value?**"
   ]
  },
  {
   "cell_type": "code",
   "execution_count": 258,
   "id": "83862535-4266-4f49-96e6-ec12e1b852fb",
   "metadata": {
    "tags": []
   },
   "outputs": [
    {
     "name": "stdout",
     "output_type": "stream",
     "text": [
      "The length of the dictionary 'tertip_dict' is 6.\n",
      "The key 'b' is paired with the value 'béliq' and the length of the value is 5.\n"
     ]
    }
   ],
   "source": [
    "# build a dictionary\n",
    "elipe = {'p':'paqa', 'b':'béliq', 'e':'eynek', 'a':'at', 'x':'xoraz', 'w':'wélisipit'}\n",
    "\n",
    "# get the length of dictionary \n",
    "elipe_len = len(elipe)\n",
    "\n",
    "# get the length of an item value and print in a f-string\n",
    "val = elipe['b']\n",
    "val_len = len(val)\n",
    "\n",
    "print(f\"The length of the dictionary 'tertip_dict' is {elipe_len}.\")\n",
    "print(f\"The key 'b' is paired with the value '{val}' and the length of the value is {val_len}.\")"
   ]
  },
  {
   "cell_type": "markdown",
   "id": "d499a461-0181-4e4a-9336-32b2b420618f",
   "metadata": {},
   "source": [
    "# enumerate()\n",
    "\n",
    "`enumerate()`  adds a counter to iterable object and returns a enumerating object which can then be used for [looping]() or converted into a list of tuples using the `list()` method.\n",
    "\n",
    "The iterable objects can be:\n",
    "\n",
    "* string: `'batur'`\n",
    "* list: `['paqa', 'béliq', 'eynek', 'at', 'xoraz', 'wélisipit']`\n",
    "* tuple: `('paqa', 'béliq', 'eynek', 'at', 'xoraz', 'wélisipit')`\n",
    "* dictionary: `{'p':'paqa', 'b':'béliq', 'e':'eynek', 'a':'at', 'y':'xoraz', 'w':'wélisipit'}`\n",
    "    * **As of Python 3.7+, dict keeps insertion order**\n",
    "\n",
    "The possbile applications: \n",
    " * get the index with the element as you iterate\n",
    " * count iterations"
   ]
  },
  {
   "cell_type": "markdown",
   "id": "41aa0f97-954d-4ec9-8e75-1e741e9eb7a7",
   "metadata": {},
   "source": [
    "**Question: how to get the index numbers of a list?**\n",
    "\n",
    "It can be done by combining `len()` and `range()`."
   ]
  },
  {
   "cell_type": "code",
   "execution_count": 265,
   "id": "18191653-6603-46e2-9773-904d18ebf42f",
   "metadata": {},
   "outputs": [
    {
     "name": "stdout",
     "output_type": "stream",
     "text": [
      "indexes of items:\n",
      "[(0, 'paqa'), (1, 'béliq'), (2, 'eynek'), (3, 'at'), (4, 'xoraz'), (5, 'wélisipit')]\n",
      "\n",
      "0 paqa\n",
      "1 béliq\n",
      "2 eynek\n",
      "3 at\n",
      "4 xoraz\n",
      "5 wélisipit\n"
     ]
    }
   ],
   "source": [
    "# build a list\n",
    "tertip = ['paqa', 'béliq', 'eynek', 'at', 'xoraz', 'wélisipit']\n",
    "\n",
    "# get its length\n",
    "tertip_len = len(tertip)\n",
    "\n",
    "# get its index numbers\n",
    "index_numbers = range(0, tertip_len)\n",
    "\n",
    "index_item = list(zip(index_numbers, tertip))\n",
    "print(f\"indexes of items:\\n{index_item}\")\n",
    "\n",
    "print()\n",
    "\n",
    "# print index and corresponding item\n",
    "print(index_item[0][0], index_item[0][1])\n",
    "print(index_item[1][0], index_item[1][1])\n",
    "print(index_item[2][0], index_item[2][1])\n",
    "print(index_item[3][0], index_item[3][1])\n",
    "print(index_item[4][0], index_item[4][1])\n",
    "print(index_item[5][0], index_item[5][1])"
   ]
  },
  {
   "cell_type": "markdown",
   "id": "baf4ba9e-30c7-46f6-b28b-2092a2a83cb2",
   "metadata": {},
   "source": [
    "It can also be done by calling `enumerate()`."
   ]
  },
  {
   "cell_type": "code",
   "execution_count": 264,
   "id": "8051675e-4f26-4a18-a3de-c57b902b7d08",
   "metadata": {
    "tags": []
   },
   "outputs": [
    {
     "name": "stdout",
     "output_type": "stream",
     "text": [
      "indexes of items:\n",
      "[(0, 'paqa'), (1, 'béliq'), (2, 'eynek'), (3, 'at'), (4, 'xoraz'), (5, 'wélisipit')]\n",
      "\n",
      "0 paqa\n",
      "1 béliq\n",
      "2 eynek\n",
      "3 at\n",
      "4 xoraz\n",
      "5 wélisipit\n"
     ]
    }
   ],
   "source": [
    "# build a list\n",
    "tertip = ['paqa', 'béliq', 'eynek', 'at', 'xoraz', 'wélisipit']\n",
    "\n",
    "# get its index numbers\n",
    "index_item = list(enumerate(tertip))\n",
    "\n",
    "print(f\"indexes of items:\\n{index_item}\")\n",
    "\n",
    "print()\n",
    "\n",
    "# print index and corresponding item\n",
    "print(index_item[0][0], index_item[0][1])\n",
    "print(index_item[1][0], index_item[1][1])\n",
    "print(index_item[2][0], index_item[2][1])\n",
    "print(index_item[3][0], index_item[3][1])\n",
    "print(index_item[4][0], index_item[4][1])\n",
    "print(index_item[5][0], index_item[5][1])"
   ]
  },
  {
   "cell_type": "markdown",
   "id": "feda12e9-8855-4d2b-9889-43434002ca36",
   "metadata": {},
   "source": [
    "**Question: how to count the iterations of a list?**\n",
    "\n",
    "This can be simply done by calling `enumerate()` by specifying `start=1`."
   ]
  },
  {
   "cell_type": "code",
   "execution_count": 261,
   "id": "f26a2c85-7186-437d-8e32-763aa4806d5e",
   "metadata": {},
   "outputs": [
    {
     "name": "stdout",
     "output_type": "stream",
     "text": [
      "counts of iterations:\n",
      "[(1, 'paqa'), (2, 'béliq'), (3, 'eynek'), (4, 'at'), (5, 'xoraz'), (6, 'wélisipit')]\n",
      "\n",
      "1 paqa\n",
      "2 béliq\n",
      "3 eynek\n",
      "4 at\n",
      "5 xoraz\n",
      "6 wélisipit\n"
     ]
    }
   ],
   "source": [
    "# build a list\n",
    "tertip = ['paqa', 'béliq', 'eynek', 'at', 'xoraz', 'wélisipit']\n",
    "\n",
    "# get the counts of iterations\n",
    "iterations = list(enumerate(tertip, start=1))\n",
    "\n",
    "print(f\"counts of iterations:\\n{iterations}\")\n",
    "\n",
    "print()\n",
    "\n",
    "# print counts of iterations and corresponding item\n",
    "print(iterations[0][0], iterations[0][1])\n",
    "print(iterations[1][0], iterations[1][1])\n",
    "print(iterations[2][0], iterations[2][1])\n",
    "print(iterations[3][0], iterations[3][1])\n",
    "print(iterations[4][0], iterations[4][1])\n",
    "print(iterations[5][0], iterations[5][1])"
   ]
  }
 ],
 "metadata": {
  "kernelspec": {
   "display_name": "Python 3",
   "language": "python",
   "name": "python3"
  },
  "language_info": {
   "codemirror_mode": {
    "name": "ipython",
    "version": 3
   },
   "file_extension": ".py",
   "mimetype": "text/x-python",
   "name": "python",
   "nbconvert_exporter": "python",
   "pygments_lexer": "ipython3",
   "version": "3.10.1"
  },
  "toc-showcode": true
 },
 "nbformat": 4,
 "nbformat_minor": 5
}
