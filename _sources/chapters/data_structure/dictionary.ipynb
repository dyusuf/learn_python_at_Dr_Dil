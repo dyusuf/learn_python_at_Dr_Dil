{
 "cells": [
  {
   "cell_type": "markdown",
   "id": "a40ef086-2c44-4948-aea0-b824b52e1997",
   "metadata": {},
   "source": [
    "# Dictionary"
   ]
  },
  {
   "cell_type": "markdown",
   "id": "c556a045-a43a-49fc-b961-8b015e689a7e",
   "metadata": {
    "jp-MarkdownHeadingCollapsed": true,
    "tags": []
   },
   "source": [
    "## A problem\n",
    "\n",
    "How to find a Uyghur word which cotains a specific Uyghur [letter](https://upload.wikimedia.org/wikipedia/commons/0/0c/UEY_ULY_Elipbesi_Kichik.jpg?1641220049679)?\n",
    "\n",
    "To solve this problem, we may first breake the problem into the following smaller sub-problems:\n",
    "\n",
    "* sub-problem 1: how to associate the letters and the corresponding words?\n",
    "* sub-problem 2: how to find the correspodning word by specifying a letter?"
   ]
  },
  {
   "cell_type": "markdown",
   "id": "1f2e580b-da26-410e-8358-bed541b77f06",
   "metadata": {},
   "source": [
    "## The solution: create a dictionary \n",
    "\n",
    "A dictionary data structure is used to associate two collections of data values. One collection is used as indexes (known as keys) and another is the corresponding values. The association is represented as **key:value pairs**, and each key is used as the index to access the corresponding value. Therefore you can create a dicitonary to solve the above problems. \n",
    "\n",
    "![](dictionary_concept.png)\n",
    "\n",
    "### Create dictionary with `{}`\n",
    "\n",
    "To solve sub-problem 1, you can associate the Uyghur letters and the corresponding Uyghur words by creating a dictionary where the letters and words are key:value pairs.\n",
    "\n"
   ]
  },
  {
   "cell_type": "code",
   "execution_count": 1,
   "id": "cb769401-66b9-470b-92a4-9acb965c5e24",
   "metadata": {},
   "outputs": [
    {
     "name": "stdout",
     "output_type": "stream",
     "text": [
      "<class 'dict'> {'p': 'paqa', 'b': 'béliq', 'e': 'eynek'}\n"
     ]
    }
   ],
   "source": [
    "# to solve sub-problem 1\n",
    "# create a dictionary\n",
    "# place a comma-separated collection of key:value pairs in curly brackets {}\n",
    "Uyghur_letters = {'p': 'paqa', 'b':'béliq', 'e':'eynek'}\n",
    "\n",
    "print(type(Uyghur_letters), Uyghur_letters)"
   ]
  },
  {
   "cell_type": "markdown",
   "id": "eb998fd8-f945-478c-984e-dd1c30a39b98",
   "metadata": {},
   "source": [
    "To solve sub-problem 2, you can access a letter's corresponding word by using the letter as the key."
   ]
  },
  {
   "cell_type": "code",
   "execution_count": 2,
   "id": "ed6341b4-e07b-4149-9eaa-56336a193714",
   "metadata": {},
   "outputs": [
    {
     "name": "stdout",
     "output_type": "stream",
     "text": [
      "paqa\n"
     ]
    }
   ],
   "source": [
    "# to solve sub-problem 2\n",
    "# to search a word assocaited with 'p', simply place 'p' as the key in square brackets []\n",
    "print(Uyghur_letters['p'])"
   ]
  },
  {
   "cell_type": "markdown",
   "id": "33be3a72-317b-4d5d-8d7f-34428f3c4150",
   "metadata": {},
   "source": [
    "### Creating dictionary with `dict()`\n",
    "\n",
    "You can convert a collection of two-item sequences into a dictionary with `dict()`. The first item in each sequence is used as the key and the second as the value."
   ]
  },
  {
   "cell_type": "code",
   "execution_count": 3,
   "id": "a00a9b05-801a-461a-8600-da4fe5ddd904",
   "metadata": {},
   "outputs": [
    {
     "name": "stdout",
     "output_type": "stream",
     "text": [
      "{'p': 'paqa', 'b': 'béliq', 'e': 'eynek'}\n"
     ]
    }
   ],
   "source": [
    "# create a dictionary with a list of two-item tuples\n",
    "Uyghur_letters = [('p','paqa'),\n",
    "                  ('b','béliq'),\n",
    "                  ('e','eynek')]\n",
    "\n",
    "Uyghur_letters = dict(Uyghur_letters)\n",
    "\n",
    "print(Uyghur_letters)"
   ]
  },
  {
   "cell_type": "markdown",
   "id": "9c0d0b81-712c-4b1c-8f61-beb01928eca0",
   "metadata": {},
   "source": [
    "To create a dictionary from two sequences, you can combine the `dict()` and `zip()` methods. The first sequence will be keys for the dictionary, and the second sequence will be the values."
   ]
  },
  {
   "cell_type": "code",
   "execution_count": 4,
   "id": "4abad4ce-9e2b-4c0a-be49-e7d3f5b1d6af",
   "metadata": {},
   "outputs": [
    {
     "name": "stdout",
     "output_type": "stream",
     "text": [
      "{'p': 'paqa', 'b': 'béliq', 'e': 'eynek'}\n"
     ]
    }
   ],
   "source": [
    "# create a dictionary with two lists\n",
    "keys = ['p', 'b', 'e']\n",
    "values = ['paqa', 'béliq', 'eynek']\n",
    "\n",
    "Uyghur_letters = dict(zip(keys, values))\n",
    "\n",
    "print(Uyghur_letters)"
   ]
  },
  {
   "cell_type": "markdown",
   "id": "95f7e44a-e386-4ddf-a5ff-25051ef937df",
   "metadata": {},
   "source": [
    "## Access a dictionary\n",
    "\n",
    "### Get the value of an item\n",
    "\n",
    "You can not access a dictionary based on a sequence of index numbers. Instead, as shown earlier, you use the keys as indexes to access the corresponding values. "
   ]
  },
  {
   "cell_type": "code",
   "execution_count": 5,
   "id": "11c0fdda-cb3d-4ceb-994b-0af39462f313",
   "metadata": {},
   "outputs": [
    {
     "name": "stdout",
     "output_type": "stream",
     "text": [
      "béliq\n"
     ]
    }
   ],
   "source": [
    "Uyghur_letters = {'p':'paqa', 'b':'béliq', 'e':'eynek'}\n",
    "\n",
    "# access a value by specifying its key in square brackets []\n",
    "print(Uyghur_letters['b'])"
   ]
  },
  {
   "cell_type": "markdown",
   "id": "fca34141-b2b2-4584-a2e7-ec0fbf300933",
   "metadata": {},
   "source": [
    "If you use a key that is not in the dictionary, you’ll get a `KeyError`. "
   ]
  },
  {
   "cell_type": "code",
   "execution_count": 6,
   "id": "853282f8-5c3b-4751-b1d9-55c937f8017c",
   "metadata": {},
   "outputs": [
    {
     "ename": "KeyError",
     "evalue": "'ö'",
     "output_type": "error",
     "traceback": [
      "\u001b[0;31m---------------------------------------------------------------------------\u001b[0m",
      "\u001b[0;31mKeyError\u001b[0m                                  Traceback (most recent call last)",
      "\u001b[0;32m/tmp/ipykernel_16574/2183459671.py\u001b[0m in \u001b[0;36m<module>\u001b[0;34m\u001b[0m\n\u001b[1;32m      2\u001b[0m \u001b[0;34m\u001b[0m\u001b[0m\n\u001b[1;32m      3\u001b[0m \u001b[0;31m# use non-existent keys\u001b[0m\u001b[0;34m\u001b[0m\u001b[0;34m\u001b[0m\u001b[0m\n\u001b[0;32m----> 4\u001b[0;31m \u001b[0mprint\u001b[0m\u001b[0;34m(\u001b[0m\u001b[0mUyghur_letters\u001b[0m\u001b[0;34m[\u001b[0m\u001b[0;34m'ö'\u001b[0m\u001b[0;34m]\u001b[0m\u001b[0;34m)\u001b[0m\u001b[0;34m\u001b[0m\u001b[0;34m\u001b[0m\u001b[0m\n\u001b[0m",
      "\u001b[0;31mKeyError\u001b[0m: 'ö'"
     ]
    }
   ],
   "source": [
    "Uyghur_letters = {'p':'paqa', 'b':'béliq', 'e':'eynek'}\n",
    "\n",
    "# use non-existent keys\n",
    "print(Uyghur_letters['ö'])"
   ]
  },
  {
   "cell_type": "markdown",
   "id": "a2b31dd6-ef21-46f6-93fe-291eb2fcfe00",
   "metadata": {},
   "source": [
    "To avoid such `KeyError`, you can use the dictionary `get()` method. \n",
    "This method returns the value for key if key is in the dictionary, else `None`, so that this method never raises a `KeyError`."
   ]
  },
  {
   "cell_type": "code",
   "execution_count": 7,
   "id": "8968478b-51ea-4fed-a741-c770e5202931",
   "metadata": {},
   "outputs": [
    {
     "name": "stdout",
     "output_type": "stream",
     "text": [
      "paqa\n"
     ]
    }
   ],
   "source": [
    "# get the value for existent keys\n",
    "print(Uyghur_letters.get('p'))"
   ]
  },
  {
   "cell_type": "code",
   "execution_count": 8,
   "id": "f9b84d13-6cfb-4269-8a09-249b51a785c6",
   "metadata": {},
   "outputs": [
    {
     "name": "stdout",
     "output_type": "stream",
     "text": [
      "None\n"
     ]
    }
   ],
   "source": [
    "# get the default value for non-existent keys\n",
    "print(Uyghur_letters.get('ö'))"
   ]
  },
  {
   "cell_type": "markdown",
   "id": "249c4146-9bf4-482e-89f8-d07066e65ac2",
   "metadata": {},
   "source": [
    "### Get all keys\n",
    "\n",
    "The `keys()` method will return a collection of all the keys in the dictionary. The items in the resulting `dict_keys` object are not accessible by index."
   ]
  },
  {
   "cell_type": "code",
   "execution_count": 9,
   "id": "e293c16d-c578-4127-a891-6b96f7fae372",
   "metadata": {},
   "outputs": [
    {
     "name": "stdout",
     "output_type": "stream",
     "text": [
      "dict_keys(['p', 'b', 'e'])\n"
     ]
    }
   ],
   "source": [
    "Uyghur_letters = {'p':'paqa', 'b':'béliq', 'e':'eynek'}\n",
    "\n",
    "all_keys = Uyghur_letters.keys()\n",
    "\n",
    "print(all_keys)"
   ]
  },
  {
   "cell_type": "code",
   "execution_count": 10,
   "id": "5fe5bb72-65af-425d-896c-b722b9a2c59f",
   "metadata": {},
   "outputs": [
    {
     "ename": "TypeError",
     "evalue": "'dict_keys' object is not subscriptable",
     "output_type": "error",
     "traceback": [
      "\u001b[0;31m---------------------------------------------------------------------------\u001b[0m",
      "\u001b[0;31mTypeError\u001b[0m                                 Traceback (most recent call last)",
      "\u001b[0;32m/tmp/ipykernel_16574/1381297298.py\u001b[0m in \u001b[0;36m<module>\u001b[0;34m\u001b[0m\n\u001b[1;32m      1\u001b[0m \u001b[0;31m# dict_keys is not subscriptable\u001b[0m\u001b[0;34m\u001b[0m\u001b[0;34m\u001b[0m\u001b[0m\n\u001b[0;32m----> 2\u001b[0;31m \u001b[0mall_keys\u001b[0m\u001b[0;34m[\u001b[0m\u001b[0;36m0\u001b[0m\u001b[0;34m]\u001b[0m\u001b[0;34m\u001b[0m\u001b[0;34m\u001b[0m\u001b[0m\n\u001b[0m",
      "\u001b[0;31mTypeError\u001b[0m: 'dict_keys' object is not subscriptable"
     ]
    }
   ],
   "source": [
    "# dict_keys is not subscriptable\n",
    "all_keys[0]"
   ]
  },
  {
   "cell_type": "code",
   "execution_count": 11,
   "id": "e0a8cac7-780c-4d0e-9cc7-5ccd178cf4a2",
   "metadata": {},
   "outputs": [
    {
     "name": "stdout",
     "output_type": "stream",
     "text": [
      "['p', 'b', 'e']\n",
      "p\n"
     ]
    }
   ],
   "source": [
    "# convert dict_keys to list\n",
    "keys_list = list(all_keys)\n",
    "print(keys_list)\n",
    "print(keys_list[0])"
   ]
  },
  {
   "cell_type": "markdown",
   "id": "619f170b-de25-4ff1-bab5-649b68922bac",
   "metadata": {},
   "source": [
    "### Get all values\n",
    "The `values()` method will return a collection of all the values in the dictionary. The items in the resulting `dict_values` object are not accessible by index.\n"
   ]
  },
  {
   "cell_type": "code",
   "execution_count": 12,
   "id": "d9f783dc-f465-4063-aa23-c66c8ac81190",
   "metadata": {},
   "outputs": [
    {
     "name": "stdout",
     "output_type": "stream",
     "text": [
      "dict_values(['paqa', 'béliq', 'eynek'])\n"
     ]
    }
   ],
   "source": [
    "Uyghur_letters = {'p':'paqa', 'b':'béliq', 'e':'eynek'}\n",
    "\n",
    "print(Uyghur_letters.values())"
   ]
  },
  {
   "cell_type": "markdown",
   "id": "33ba222a-2acf-4237-9e70-cf658f255d09",
   "metadata": {},
   "source": [
    "### Get all items\n",
    "\n",
    "The `items()` method will return a collection of the key:value pairs in the dictionary. The items in the resulting `dict_items` object are not accessible by index."
   ]
  },
  {
   "cell_type": "code",
   "execution_count": 13,
   "id": "775beef2-f3a9-47b9-b9cf-35be17b2ea0d",
   "metadata": {},
   "outputs": [
    {
     "name": "stdout",
     "output_type": "stream",
     "text": [
      "dict_items([('p', 'paqa'), ('b', 'béliq'), ('e', 'eynek')])\n"
     ]
    }
   ],
   "source": [
    "Uyghur_letters = {'p':'paqa', 'b':'béliq', 'e':'eynek'}\n",
    "\n",
    "print(Uyghur_letters.items())"
   ]
  },
  {
   "cell_type": "markdown",
   "id": "c884b5b8-4037-4b92-87e7-ac52f279b327",
   "metadata": {
    "tags": []
   },
   "source": [
    "##  Properties of a dictionary\n",
    "\n",
    "### Keys must be unique\n",
    "\n",
    "If you use duplicate keys when creating a dictionary, values of duplicate keys will overwrite existing values."
   ]
  },
  {
   "cell_type": "code",
   "execution_count": 14,
   "id": "dfdc0802-8e3c-4f53-950e-e1c5ebf657ab",
   "metadata": {},
   "outputs": [
    {
     "name": "stdout",
     "output_type": "stream",
     "text": [
      "{'p': 'paqa', 'b': 'béliq', 'e': 'béliq'}\n"
     ]
    }
   ],
   "source": [
    "# values of duplicate keys overwrite existing values\n",
    "Uyghur_letters = {'p':'paqa', 'b':'béliq', 'e':'eynek', 'e': 'béliq'}\n",
    "\n",
    "print(Uyghur_letters)"
   ]
  },
  {
   "cell_type": "markdown",
   "id": "eb8f46eb-d426-4cc1-b660-7bbb629b4d36",
   "metadata": {
    "tags": []
   },
   "source": [
    "### Data type restrction on key:value pairs\n",
    "\n",
    "The keys can be any immutable value, while the associated value can be of any type. Keys could be integers, strings, or tuples, but not lists, because lists are mutable."
   ]
  },
  {
   "cell_type": "code",
   "execution_count": 15,
   "id": "4c2ed55c-03ea-4a76-b80d-3692a620dc6b",
   "metadata": {},
   "outputs": [
    {
     "name": "stdout",
     "output_type": "stream",
     "text": [
      "{1: True, 'Dilmurat': 44, (2, 2): [2, 2]}\n"
     ]
    }
   ],
   "source": [
    "# keys could be integers, strings, or tuples\n",
    "# values can be of any type\n",
    "a_dict = {1: True, 'Dilmurat': 44, (2,2): [2, 2]}\n",
    "print(a_dict)"
   ]
  },
  {
   "cell_type": "code",
   "execution_count": 16,
   "id": "6e9861c4-f264-46aa-b104-eccfa212468f",
   "metadata": {
    "tags": []
   },
   "outputs": [
    {
     "ename": "TypeError",
     "evalue": "unhashable type: 'list'",
     "output_type": "error",
     "traceback": [
      "\u001b[0;31m---------------------------------------------------------------------------\u001b[0m",
      "\u001b[0;31mTypeError\u001b[0m                                 Traceback (most recent call last)",
      "\u001b[0;32m/tmp/ipykernel_16574/965522184.py\u001b[0m in \u001b[0;36m<module>\u001b[0;34m\u001b[0m\n\u001b[1;32m      1\u001b[0m \u001b[0;31m# keys could not be lists because lists are mutable\u001b[0m\u001b[0;34m\u001b[0m\u001b[0;34m\u001b[0m\u001b[0m\n\u001b[0;32m----> 2\u001b[0;31m \u001b[0ma_dict\u001b[0m \u001b[0;34m=\u001b[0m \u001b[0;34m{\u001b[0m\u001b[0;34m[\u001b[0m\u001b[0;36m2\u001b[0m\u001b[0;34m,\u001b[0m\u001b[0;36m2\u001b[0m\u001b[0;34m]\u001b[0m\u001b[0;34m:\u001b[0m \u001b[0;34m(\u001b[0m\u001b[0;36m2\u001b[0m\u001b[0;34m,\u001b[0m \u001b[0;36m2\u001b[0m\u001b[0;34m)\u001b[0m\u001b[0;34m}\u001b[0m\u001b[0;34m\u001b[0m\u001b[0;34m\u001b[0m\u001b[0m\n\u001b[0m",
      "\u001b[0;31mTypeError\u001b[0m: unhashable type: 'list'"
     ]
    }
   ],
   "source": [
    "# keys could not be lists because lists are mutable\n",
    "a_dict = {[2,2]: (2, 2)}\n"
   ]
  },
  {
   "cell_type": "markdown",
   "id": "10dfc5ee-1a3d-4ce3-8e1e-38696a209cc8",
   "metadata": {
    "tags": []
   },
   "source": [
    "## Dictionaries are mutable\n",
    "\n",
    "Dictionaries are mutable, meaning that we can change, add, or remove items after the dictionary has been created.\n",
    "\n",
    "### Change values\n",
    "\n",
    "Updating dictionary items is easy. Just refer to the item by its key and assign a new value. "
   ]
  },
  {
   "cell_type": "code",
   "execution_count": 17,
   "id": "c497f6eb-9bba-4d86-8837-c9f96b10c203",
   "metadata": {},
   "outputs": [
    {
     "name": "stdout",
     "output_type": "stream",
     "text": [
      "before the change: {'p': 'paqa', 'b': 'béliq', 'e': 'eynek'}\n",
      "after the change: {'p': 'paqa', 'b': 'batur', 'e': 'eynek'}\n"
     ]
    }
   ],
   "source": [
    "Uyghur_letters = {'p':'paqa', 'b':'béliq', 'e':'eynek'}\n",
    "print('before the change:', Uyghur_letters)\n",
    "\n",
    "Uyghur_letters['b'] = 'batur'\n",
    "print(\"after the change:\", Uyghur_letters)"
   ]
  },
  {
   "cell_type": "markdown",
   "id": "9e440aca-2d25-43d1-81ca-46a08f906840",
   "metadata": {
    "tags": []
   },
   "source": [
    "### Add items\n",
    "\n",
    "Adding dictionary a new key and its value:"
   ]
  },
  {
   "cell_type": "code",
   "execution_count": 18,
   "id": "f7131638-2da2-4475-8c17-ff0669b32b1b",
   "metadata": {},
   "outputs": [
    {
     "name": "stdout",
     "output_type": "stream",
     "text": [
      "{}\n",
      "{'p': 'paqa'}\n",
      "{'p': 'paqa', 'b': 'béliq'}\n",
      "{'p': 'paqa', 'b': 'béliq', 'e': 'eynek'}\n"
     ]
    }
   ],
   "source": [
    "# Create an empty dictionary and add key:value pairs.\n",
    "Uyghur_letters = {}\n",
    "print(Uyghur_letters)\n",
    "\n",
    "Uyghur_letters['p'] = 'paqa'\n",
    "print(Uyghur_letters)\n",
    "\n",
    "Uyghur_letters['b'] = 'béliq'\n",
    "print(Uyghur_letters)\n",
    "\n",
    "Uyghur_letters['e'] = 'eynek'\n",
    "print(Uyghur_letters)"
   ]
  },
  {
   "cell_type": "markdown",
   "id": "807b4432-84cc-4241-a0f4-db31bb1a82a1",
   "metadata": {},
   "source": [
    "You can merge the items of one dictionary into another. Note that values of duplicate keys will overwrite existing values."
   ]
  },
  {
   "cell_type": "code",
   "execution_count": 19,
   "id": "394d883c-74cd-4f13-99b1-9d10de5ddec4",
   "metadata": {},
   "outputs": [
    {
     "name": "stdout",
     "output_type": "stream",
     "text": [
      "after the merge: {'p': 'pesh', 'b': 'béliq', 'e': 'eynek', 'a': 'at', 'x': 'xoraz'}\n"
     ]
    }
   ],
   "source": [
    "Uyghur_letters = {'p': 'paqa', 'b': 'béliq', 'e': 'eynek'}\n",
    "new_letters = {'p': 'pesh', 'a': 'at', 'x': 'xoraz'}\n",
    "\n",
    "# merge the items of new_letters into Uyghur_letters\n",
    "Uyghur_letters.update(new_letters)\n",
    "\n",
    "print('after the merge:', Uyghur_letters)"
   ]
  },
  {
   "cell_type": "markdown",
   "id": "3fe280aa-3d78-4a6e-bcb4-9198013e030d",
   "metadata": {
    "tags": []
   },
   "source": [
    "### Remove items\n",
    "\n",
    "Use `pop()` remove the key and return its value:"
   ]
  },
  {
   "cell_type": "code",
   "execution_count": 20,
   "id": "410e3fad-14a8-49fb-9362-aab754efe602",
   "metadata": {
    "tags": []
   },
   "outputs": [
    {
     "name": "stdout",
     "output_type": "stream",
     "text": [
      "before removal: {'p': 'pesh', 'b': 'béliq', 'e': 'eynek', 'a': 'at', 'x': 'xoraz'}\n",
      "the value of the removed item: xoraz\n",
      "after removal: {'p': 'pesh', 'b': 'béliq', 'e': 'eynek', 'a': 'at'}\n"
     ]
    }
   ],
   "source": [
    "Uyghur_letters = {'p': 'pesh', 'b': 'béliq', 'e': 'eynek', 'a': 'at', 'x': 'xoraz'}\n",
    "\n",
    "print(\"before removal:\", Uyghur_letters)\n",
    "\n",
    "# Use pop() remove the key and return its value.\n",
    "print(\"the value of the removed item:\", Uyghur_letters.pop('x'))\n",
    "\n",
    "print(\"after removal:\", Uyghur_letters)"
   ]
  },
  {
   "cell_type": "markdown",
   "id": "8e4c2af6-10df-4e43-ba0d-49d3306b1f1b",
   "metadata": {},
   "source": [
    "Use `del` remove the key without returning a value:"
   ]
  },
  {
   "cell_type": "code",
   "execution_count": 21,
   "id": "b36cf003-8644-47c8-aee0-7672c6037e15",
   "metadata": {
    "tags": []
   },
   "outputs": [
    {
     "name": "stdout",
     "output_type": "stream",
     "text": [
      "before removal: {'p': 'pesh', 'b': 'béliq', 'e': 'eynek', 'a': 'at', 'x': 'xoraz'}\n",
      "after removal: {'p': 'pesh', 'b': 'béliq', 'e': 'eynek', 'a': 'at'}\n"
     ]
    }
   ],
   "source": [
    "Uyghur_letters = {'p': 'pesh', 'b': 'béliq', 'e': 'eynek', 'a': 'at', 'x': 'xoraz'}\n",
    "\n",
    "print(\"before removal:\", Uyghur_letters)\n",
    "\n",
    "# Use del remove the key without returning a value\n",
    "del Uyghur_letters['x']\n",
    "\n",
    "print(\"after removal:\", Uyghur_letters)"
   ]
  },
  {
   "cell_type": "markdown",
   "id": "1f77242f-452c-44c2-921f-6f9771c2daba",
   "metadata": {
    "tags": []
   },
   "source": [
    "### Aliasing and copying\n",
    "\n",
    "As in the case of lists, because dictionaries are mutable, we need to be aware of aliasing. Whenever two variables refer to the same object, changes to one affect the other.\n",
    "If we want to modify a dictionary and keep a copy of the original, use `copy()`. \n",
    "\n",
    "Aliasing:"
   ]
  },
  {
   "cell_type": "code",
   "execution_count": 22,
   "id": "db05d2ea-ddef-4988-a7f0-efef688c8bb4",
   "metadata": {},
   "outputs": [
    {
     "name": "stdout",
     "output_type": "stream",
     "text": [
      "Uyghur_letters {'p': 'pesh', 'b': 'béliq'}\n",
      "alias: {'p': 'pesh', 'b': 'béliq'}\n",
      "alias and Uyghur_letters refer to the same object: True\n",
      "\n",
      "after a change to alias, alias: {'p': 'Paqa', 'b': 'béliq'}\n",
      "after a change to alias, Uyghur_letters: {'p': 'Paqa', 'b': 'béliq'}\n"
     ]
    }
   ],
   "source": [
    "Uyghur_letters = {'p': 'pesh', 'b': 'béliq'}\n",
    "\n",
    "# Aliasing \n",
    "alias = Uyghur_letters\n",
    "\n",
    "print('Uyghur_letters', Uyghur_letters)\n",
    "print('alias:', alias)\n",
    "print('alias and Uyghur_letters refer to the same object:', alias is Uyghur_letters, end='\\n\\n')\n",
    "\n",
    "# changes to alias affect Uyghur_letters\n",
    "alias['p'] = 'Paqa'\n",
    "print('after a change to alias, alias:', alias)\n",
    "print('after a change to alias, Uyghur_letters:', Uyghur_letters)"
   ]
  },
  {
   "cell_type": "markdown",
   "id": "b79e2f85-da92-4a3c-9133-ef49c569eebf",
   "metadata": {},
   "source": [
    "Copying:"
   ]
  },
  {
   "cell_type": "code",
   "execution_count": 23,
   "id": "bc206ef3-3320-413d-962b-ced5ad8231d9",
   "metadata": {},
   "outputs": [
    {
     "name": "stdout",
     "output_type": "stream",
     "text": [
      "Uyghur_letters {'p': 'pesh', 'b': 'béliq'}\n",
      "copy: {'p': 'pesh', 'b': 'béliq'}\n",
      "copy and Uyghur_letters refer to the same object: False\n",
      "\n",
      "after a change to copy, copy: {'p': 'Paqa', 'b': 'béliq'}\n",
      "after a change to copy, Uyghur_letters: {'p': 'pesh', 'b': 'béliq'}\n"
     ]
    }
   ],
   "source": [
    "Uyghur_letters = {'p': 'pesh', 'b': 'béliq'}\n",
    "\n",
    "# copying\n",
    "copy = Uyghur_letters.copy()\n",
    "\n",
    "print('Uyghur_letters', Uyghur_letters)\n",
    "print('copy:', copy)\n",
    "print('copy and Uyghur_letters refer to the same object:', copy is Uyghur_letters, end='\\n\\n')\n",
    "\n",
    "# changes to copy does not affect Uyghur_letters\n",
    "copy['p'] = 'Paqa'\n",
    "print('after a change to copy, copy:', copy)\n",
    "print('after a change to copy, Uyghur_letters:', Uyghur_letters)"
   ]
  },
  {
   "cell_type": "markdown",
   "id": "9a4b773b-5342-443b-8dc3-4c7e105b4ff7",
   "metadata": {},
   "source": [
    "## Other dictionary operations\n",
    "\n",
    "The `in` and `not in` operators can test if a key or a value is in the dictionary."
   ]
  },
  {
   "cell_type": "code",
   "execution_count": 24,
   "id": "a92fd59f-2700-47cb-becc-e93418c09b9a",
   "metadata": {},
   "outputs": [
    {
     "name": "stdout",
     "output_type": "stream",
     "text": [
      "p in Uyghur_letters: True\n",
      "p not in Uyghur_letters: False\n",
      "pesh in Uyghur_letters: True\n",
      "pesh not in Uyghur_letters: False\n"
     ]
    }
   ],
   "source": [
    "Uyghur_letters = {'p': 'pesh', 'b': 'béliq'}\n",
    "\n",
    "# check the presence of a key\n",
    "print('p in Uyghur_letters:', 'p' in Uyghur_letters)\n",
    "print('p not in Uyghur_letters:', 'p' not in Uyghur_letters)\n",
    "\n",
    "# check the presence of a value\n",
    "print('pesh in Uyghur_letters:', 'pesh' in Uyghur_letters.values())\n",
    "print('pesh not in Uyghur_letters:', 'pesh' not in Uyghur_letters.values())"
   ]
  },
  {
   "cell_type": "markdown",
   "id": "258ee94a-a836-4eb4-9f22-160769eb9b42",
   "metadata": {},
   "source": [
    "Use `len()` check the lengh of dictionary:"
   ]
  },
  {
   "cell_type": "code",
   "execution_count": 25,
   "id": "a4458065-aa9a-46bf-b8dd-5f84e4e49ce4",
   "metadata": {},
   "outputs": [
    {
     "name": "stdout",
     "output_type": "stream",
     "text": [
      "lenght of Uyghur_letters: 2\n"
     ]
    }
   ],
   "source": [
    "Uyghur_letters = {'p': 'pesh', 'b': 'béliq'}\n",
    "\n",
    "print(\"lenght of Uyghur_letters:\", len(Uyghur_letters))"
   ]
  },
  {
   "cell_type": "markdown",
   "id": "800348af-c5ac-4dda-98da-e6debc937d4e",
   "metadata": {},
   "source": [
    "## Exercises\n",
    "\n",
    "1. create a dictionary of 32 Uyghur letters and their respective associated words\n",
    "\n",
    "2. *Hemme adem tughulushidinla erkin, izzet-hörmet we hoquqta babbarawer bolup tughulghan. Ular eqilge we wijdan'gha ige hemde bir-birige qërindashliq munasiwitige xas roh bilen muamile qilishi kërek.*\n",
    "\n",
    "    * what is the most frequent word (ignore case) in the above text? how many times does it appear?\n",
    "    * what is the longest word in in above text?  How many characters does it have?\n",
    " \n",
    "3. concatenate following dictionaries to create a new one\n",
    "    ~~~\n",
    "    dic1={1:10, 2:20}\n",
    "    dic2={3:30, 4:40}\n",
    "    dic3={5:50, 6:60}\n",
    "    Expected Result : {1: 10, 2: 20, 3: 30, 4: 40, 5: 50, 6: 60}\n",
    "    ~~~   \n",
    "\n",
    "4. check whether a given key already exists in a dictionary\n",
    "\n",
    "5. generate and print a dictionary that contains a number (between 1 and 5) and its square\n",
    "    ```\n",
    "    input: range(1, 6)\n",
    "    Expected Output : {1: 1, 2: 4, 3: 9, 4: 16, 5: 25}\n",
    "    ```\n",
    "    \n",
    "6. multiply all the values in a dictionary\n",
    "    ~~~\n",
    "    my_dict = {'data1':2,'data2':-3,'data3':100}\n",
    "    Expected result: -600\n",
    "    ~~~\n",
    "\n",
    "7.  map two lists into a dictionary\n",
    "    ~~~\n",
    "    keys = ['red', 'green', 'blue']\n",
    "    values = ['#FF0000','#008000', '#0000FF']\n",
    "    \n",
    "    Expected output: {'red': '#FF0000', 'green': '#008000', 'blue': '#0000FF'}\n",
    "    ~~~\n",
    "    \n",
    "8. make a copy of a dictionary and change one item of the copy without affecting the original\n",
    "\n",
    "9. drop empty Items from a given dictionary\n",
    "    ~~~\n",
    "    Original Dictionary:\n",
    "    {'c1': 'Red', 'c2': 'Green', 'c3': None}\n",
    "    New Dictionary after dropping empty items:\n",
    "    {'c1': 'Red', 'c2': 'Green'}\n",
    "    ~~~"
   ]
  }
 ],
 "metadata": {
  "kernelspec": {
   "display_name": "Python 3",
   "language": "python",
   "name": "python3"
  },
  "language_info": {
   "codemirror_mode": {
    "name": "ipython",
    "version": 3
   },
   "file_extension": ".py",
   "mimetype": "text/x-python",
   "name": "python",
   "nbconvert_exporter": "python",
   "pygments_lexer": "ipython3",
   "version": "3.10.1"
  },
  "toc-showmarkdowntxt": true
 },
 "nbformat": 4,
 "nbformat_minor": 5
}
