{
 "cells": [
  {
   "cell_type": "markdown",
   "id": "25ae8496-bcca-46f9-aceb-2bf375454049",
   "metadata": {
    "tags": []
   },
   "source": [
    "# Learn Python: A Problem Centric Guide\n",
    "\n",
    "## Table of Contents\n",
    "   \n",
    "* Get Started\n",
    "    * Set Up & Warm Up\n",
    "        * Install Python & Juypyter-lab\n",
    "        * Introduction on Juypyter-lab\n",
    "    * Operators\n",
    "        * Maths\n",
    "    * Display & Input\n",
    "    * Modules/Names Imports\n",
    "    * Variables Assignment\n",
    "        * Identifiers\n",
    "\n",
    "* Data Types\n",
    "    * Base Types\n",
    "    * Container Types\n",
    "        * [Dictionary](chapters/data_structure/dictionary.ipynb)\n",
    "    * Indexing    \n",
    "        * Sequence Containers Indexing\n",
    "        * Dictionary Indexing\n",
    "    * Operations:\n",
    "        * Conversions \n",
    "        * Operations on Strings\n",
    "            * Formatting\n",
    "        * Operations on Containers\n",
    "            * Generic Operations on Containers\n",
    "            * Operations on Lists\n",
    "            * [Operations on Dictionaries](chapters/data_structure/dictionary.ipynb)\n",
    "            * Operations on Sets  \n",
    "\n",
    "* Iteration\n",
    "    * Statements Blocks\n",
    "    * Iterative Loop Statement\n",
    "        * Integer Sequences\n",
    "    * Conditional Loop Statement    \n",
    "\n",
    "* Control Flow\n",
    "    * Boolean Logic\n",
    "    * Conditional Statement \n",
    "\n",
    "* File Handling\n",
    "    * Files\n",
    "\n",
    "* Exceptions on Errors\n",
    "\n",
    "* Functions\n",
    "    * Function Definition\n",
    "    * Function Call\n",
    "\n",
    "* OOP"
   ]
  }
 ],
 "metadata": {
  "kernelspec": {
   "display_name": "Python 3",
   "language": "python",
   "name": "python3"
  },
  "language_info": {
   "codemirror_mode": {
    "name": "ipython",
    "version": 3
   },
   "file_extension": ".py",
   "mimetype": "text/x-python",
   "name": "python",
   "nbconvert_exporter": "python",
   "pygments_lexer": "ipython3",
   "version": "3.10.1"
  }
 },
 "nbformat": 4,
 "nbformat_minor": 5
}
